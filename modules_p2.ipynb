{
 "cells": [
  {
   "cell_type": "code",
   "execution_count": null,
   "metadata": {
    "collapsed": false
   },
   "outputs": [],
   "source": [
    "'''\n",
    "http://pymotw.com/2/random/\n",
    "http://www.pythonforbeginners.com/random/how-to-use-the-random-module-in-python\n",
    "'''"
   ]
  },
  {
   "cell_type": "code",
   "execution_count": null,
   "metadata": {
    "collapsed": false
   },
   "outputs": [],
   "source": [
    "import random\n",
    "# Generate a random floating point value\n",
    "print random.random()"
   ]
  },
  {
   "cell_type": "code",
   "execution_count": null,
   "metadata": {
    "collapsed": false
   },
   "outputs": [],
   "source": [
    "# seed will ensure that the random number generation process is the same at \n",
    "# every run. This is done to make sure that the number generated is \n",
    "# independent of the machine on which the code is run\n",
    "random.seed(1)\n",
    "print random.random()"
   ]
  },
  {
   "cell_type": "code",
   "execution_count": null,
   "metadata": {
    "collapsed": false
   },
   "outputs": [],
   "source": [
    "# random.randint(low, high = None, size = None)\n",
    "# both low value and high value are inclusive\n",
    "# Generate a random integer value\n",
    "random.randint(1,10)"
   ]
  },
  {
   "cell_type": "code",
   "execution_count": null,
   "metadata": {
    "collapsed": false
   },
   "outputs": [],
   "source": [
    "# random.randrange ([start,] stop [,step])\n",
    "# start value is inclusive\n",
    "# stop value is exclusive\n",
    "# step size is optional \n",
    "random.randrange(0, 10)"
   ]
  },
  {
   "cell_type": "code",
   "execution_count": null,
   "metadata": {
    "collapsed": false
   },
   "outputs": [],
   "source": [
    "# Generate a random integer value between 0 and 10 in steps of 2.\n",
    "random.randrange(0, 10, 2)"
   ]
  },
  {
   "cell_type": "code",
   "execution_count": null,
   "metadata": {
    "collapsed": false
   },
   "outputs": [],
   "source": [
    "a = [1,2,30,5]\n",
    "# Pick a random value from the list\n",
    "print random.choice(a)"
   ]
  },
  {
   "cell_type": "code",
   "execution_count": null,
   "metadata": {
    "collapsed": false
   },
   "outputs": [],
   "source": [
    "# TIME MODULE - provides various time-related functions.\n",
    "import time\n",
    "# time.time returns the time in seconds since the epoch, \n",
    "# i.e., the point where the time starts which is 1 January 1970 for unix\n",
    "# Windows uses the same start time\n",
    "time.time()"
   ]
  },
  {
   "cell_type": "code",
   "execution_count": null,
   "metadata": {
    "collapsed": false
   },
   "outputs": [],
   "source": [
    "# this gives the epoch time for the system\n",
    "time.gmtime(0)"
   ]
  },
  {
   "cell_type": "code",
   "execution_count": null,
   "metadata": {
    "collapsed": false
   },
   "outputs": [],
   "source": [
    "# On Windows and Unix, it returns the wall-clock time expressed in seconds \n",
    "# elapsed since the first call to this function. It is useful for timing \n",
    "# operations\n",
    "time.clock()"
   ]
  },
  {
   "cell_type": "code",
   "execution_count": null,
   "metadata": {
    "collapsed": false
   },
   "outputs": [],
   "source": [
    "# If you want to find out how much time a process takes then you can note \n",
    "# the clock time at the start of the process and then note the clock time \n",
    "# after the process and take the difference of clock time. \n",
    "# Note down starting time\n",
    "t1 = time.clock()\n",
    "# Perform a long process\n",
    "c = []\n",
    "for i in xrange(10000000):\n",
    "    c.append(i)\n",
    "# Note down end time \n",
    "t2 = time.clock()\n",
    "\n",
    "# Difference is the time taken to complete the long process\n",
    "t2-t1"
   ]
  },
  {
   "cell_type": "code",
   "execution_count": null,
   "metadata": {
    "collapsed": false
   },
   "outputs": [],
   "source": [
    "'''\n",
    "DATETIME module contains functions and classes for working with dates and \n",
    "times, separatley and together\n",
    "http://pymotw.com/2/datetime/index.html#module-datetime\n",
    "'''"
   ]
  },
  {
   "cell_type": "code",
   "execution_count": 5,
   "metadata": {
    "collapsed": false
   },
   "outputs": [
    {
     "name": "stdout",
     "output_type": "stream",
     "text": [
      "08:30:00\n",
      "<type 'datetime.time'>\n"
     ]
    }
   ],
   "source": [
    "import datetime\n",
    "# Create a Python time object hour=8, minute=30, seconds = 0\n",
    "t = datetime.time(8,30,0)\n",
    "print t\n",
    "print type(t)"
   ]
  },
  {
   "cell_type": "code",
   "execution_count": 3,
   "metadata": {
    "collapsed": false
   },
   "outputs": [
    {
     "name": "stdout",
     "output_type": "stream",
     "text": [
      "2012-02-12\n"
     ]
    }
   ],
   "source": [
    "# Create a Python date object year = 2012, month = 02 and day = 12\n",
    "print datetime.date(2012,02,12)"
   ]
  },
  {
   "cell_type": "code",
   "execution_count": 4,
   "metadata": {
    "collapsed": false
   },
   "outputs": [
    {
     "name": "stdout",
     "output_type": "stream",
     "text": [
      "2016-03-07\n"
     ]
    }
   ],
   "source": [
    "# Print current date\n",
    "print datetime.date.today()"
   ]
  },
  {
   "cell_type": "code",
   "execution_count": null,
   "metadata": {
    "collapsed": false
   },
   "outputs": [],
   "source": [
    "td = datetime.date.today() # Todays date\n",
    "tomd = datetime.date.today()+datetime.timedelta(days=1) # Tomorrows date\n",
    "print td,tomd"
   ]
  },
  {
   "cell_type": "code",
   "execution_count": null,
   "metadata": {
    "collapsed": false
   },
   "outputs": [],
   "source": [
    "# If you want both date and time\n",
    "today = datetime.datetime.today()\n",
    "print today # ISO style printing"
   ]
  },
  {
   "cell_type": "code",
   "execution_count": null,
   "metadata": {
    "collapsed": false
   },
   "outputs": [],
   "source": [
    "'''\n",
    "In class acivity\n",
    "Power ball machine creator\n",
    "\n",
    "A power ball needs a list of 6 numbers.\n",
    "The first 5 numbers have value between 1 and 59.\n",
    "The last number also called power ball number will be between 1 and 35\n",
    "\n",
    "Write a Python program to create this list with 6 numbers. Modify the code\n",
    "so that it is seeded by the current date. \n",
    "'''"
   ]
  },
  {
   "cell_type": "code",
   "execution_count": null,
   "metadata": {
    "collapsed": true
   },
   "outputs": [],
   "source": [
    "import random\n",
    "\n",
    "def GeneratePowerBall():\n",
    "    winning_numbers = [i]\n",
    "    \n",
    "    while i < 6: i = 0"
   ]
  },
  {
   "cell_type": "code",
   "execution_count": null,
   "metadata": {
    "collapsed": false
   },
   "outputs": [],
   "source": [
    "'''\n",
    "URLLIB2 module provides an updated API for using internet resources \n",
    "identified by URLs.\n",
    "http://pymotw.com/2/urllib2/\n",
    "'''"
   ]
  },
  {
   "cell_type": "code",
   "execution_count": 8,
   "metadata": {
    "collapsed": false
   },
   "outputs": [
    {
     "name": "stdout",
     "output_type": "stream",
     "text": [
      "Date: Tue, 08 Mar 2016 04:27:49 GMT\r\n",
      "Expires: -1\r\n",
      "Cache-Control: private, max-age=0\r\n",
      "Content-Type: text/html; charset=ISO-8859-1\r\n",
      "P3P: CP=\"This is not a P3P policy! See https://www.google.com/support/accounts/answer/151657?hl=en for more info.\"\r\n",
      "Server: gws\r\n",
      "X-XSS-Protection: 1; mode=block\r\n",
      "X-Frame-Options: SAMEORIGIN\r\n",
      "Set-Cookie: NID=77=spUXQgwpM-0FS70qeWMuA79zu2MDUQTteO4rqXwTn_1VYBHqXgWwCT2xcPiB4H-sBqtL__sUMc7kqGBignglpFoVYofxQCwqRMGvcNbLo_ifQi_csq2vnuNd3jycSlQnDuA7GV9RVR6lezw; expires=Wed, 07-Sep-2016 04:27:49 GMT; path=/; domain=.google.com; HttpOnly\r\n",
      "Accept-Ranges: none\r\n",
      "Vary: Accept-Encoding\r\n",
      "Connection: close\r\n",
      "\n"
     ]
    }
   ],
   "source": [
    "import urllib2\n",
    "# Perform a GET method operation\n",
    "response = urllib2.urlopen('http://www.google.com')\n",
    "print response.info()"
   ]
  },
  {
   "cell_type": "code",
   "execution_count": 9,
   "metadata": {
    "collapsed": false
   },
   "outputs": [
    {
     "data": {
      "text/plain": [
       "['__doc__',\n",
       " '__init__',\n",
       " '__iter__',\n",
       " '__module__',\n",
       " '__repr__',\n",
       " 'close',\n",
       " 'code',\n",
       " 'fileno',\n",
       " 'fp',\n",
       " 'getcode',\n",
       " 'geturl',\n",
       " 'headers',\n",
       " 'info',\n",
       " 'msg',\n",
       " 'next',\n",
       " 'read',\n",
       " 'readline',\n",
       " 'readlines',\n",
       " 'url']"
      ]
     },
     "execution_count": 9,
     "metadata": {},
     "output_type": "execute_result"
    }
   ],
   "source": [
    "# Get a list of functions that are associated with the response object\n",
    "dir(response) "
   ]
  },
  {
   "cell_type": "code",
   "execution_count": 10,
   "metadata": {
    "collapsed": false
   },
   "outputs": [
    {
     "name": "stdout",
     "output_type": "stream",
     "text": [
      "<!doctype html><html itemscope=\"\" itemtype=\"http://schema.org/WebPage\" lang=\"en\"><head><meta content=\"Search the world's information, including webpages, images, videos and more. Google has many special features to help you find exactly what you're looking for.\" name=\"description\"><meta content=\"noodp\" name=\"robots\"><meta content=\"text/html; charset=UTF-8\" http-equiv=\"Content-Type\"><meta content=\"/images/branding/googleg/1x/googleg_standard_color_128dp.png\" itemprop=\"image\"><title>Google</title><script>(function(){window.google={kEI:'xVTeVpz3IdKYjwPlkpjICQ',kEXPI:'3700247,3700388,4026241,4028875,4029815,4031109,4032678,4033307,4036509,4036527,4038012,4039268,4042784,4042792,4043492,4045841,4046304,4048347,4049501,4049549,4049557,4051241,4051714,4052091,4052304,4053233,4053843,4054284,4054513,4055202,4056038,4057133,4057170,4057316,4057836,4058099,4058117,4058298,4058337,4058384,4058938,4058949,4059318,4059513,4059720,4059767,4060034,4060886,4061000,4061089,4061155,4061202,4061299,4061564,4061813,4061887,4061925,4061945,4062157,4062333,8300096,8300272,8300310,8300342,8502095,8502946,8502986,8503011,8503132,8503210,8503303,8503306,8503348,8503367,8503404,8503585,8503808,8503811,8503834,8503853,10200083,10201735,10201736',authuser:0,kscs:'c9c918f0_24'};google.kHL='en';})();(function(){google.lc=[];google.li=0;google.getEI=function(a){for(var b;a&&(!a.getAttribute||!(b=a.getAttribute(\"eid\")));)a=a.parentNode;return b||google.kEI};google.getLEI=function(a){for(var b=null;a&&(!a.getAttribute||!(b=a.getAttribute(\"leid\")));)a=a.parentNode;return b};google.https=function(){return\"https:\"==window.location.protocol};google.ml=function(){return null};google.wl=function(a,b){try{google.ml(Error(a),!1,b)}catch(d){}};google.time=function(){return(new Date).getTime()};google.log=function(a,b,d,e,g){a=google.logUrl(a,b,d,e,g);if(\"\"!=a){b=new Image;var c=google.lc,f=google.li;c[f]=b;b.onerror=b.onload=b.onabort=function(){delete c[f]};window.google&&window.google.vel&&window.google.vel.lu&&window.google.vel.lu(a);b.src=a;google.li=f+1}};google.logUrl=function(a,b,d,e,g){var c=\"\",f=google.ls||\"\";if(!d&&-1==b.search(\"&ei=\")){var h=google.getEI(e),c=\"&ei=\"+h;-1==b.search(\"&lei=\")&&((e=google.getLEI(e))?c+=\"&lei=\"+e:h!=google.kEI&&(c+=\"&lei=\"+google.kEI))}a=d||\"/\"+(g||\"gen_204\")+\"?atyp=i&ct=\"+a+\"&cad=\"+b+c+f+\"&zx=\"+google.time();/^http:/i.test(a)&&google.https()&&(google.ml(Error(\"a\"),!1,{src:a,glmm:1}),a=\"\");return a};google.y={};google.x=function(a,b){google.y[a.id]=[a,b];return!1};google.load=function(a,b,d){google.x({id:a+k++},function(){google.load(a,b,d)})};var k=0;})();var _gjwl=location;function _gjuc(){var a=_gjwl.href.indexOf(\"#\");if(0<=a&&(a=_gjwl.href.substring(a),0<a.indexOf(\"&q=\")||0<=a.indexOf(\"#q=\"))&&(a=a.substring(1),-1==a.indexOf(\"#\"))){for(var d=0;d<a.length;){var b=d;\"&\"==a.charAt(b)&&++b;var c=a.indexOf(\"&\",b);-1==c&&(c=a.length);b=a.substring(b,c);if(0==b.indexOf(\"fp=\"))a=a.substring(0,d)+a.substring(c,a.length),c=d;else if(\"cad=h\"==b)return 0;d=c}_gjwl.href=\"/search?\"+a+\"&cad=h\";return 1}return 0}\n",
      "function _gjh(){!_gjuc()&&window.google&&google.x&&google.x({id:\"GJH\"},function(){google.nav&&google.nav.gjh&&google.nav.gjh()})};window._gjh&&_gjh();</script><style>#gbar,#guser{font-size:13px;padding-top:1px !important;}#gbar{height:22px}#guser{padding-bottom:7px !important;text-align:right}.gbh,.gbd{border-top:1px solid #c9d7f1;font-size:1px}.gbh{height:0;position:absolute;top:24px;width:100%}@media all{.gb1{height:22px;margin-right:.5em;vertical-align:top}#gbar{float:left}}a.gb1,a.gb4{text-decoration:underline !important}a.gb1,a.gb4{color:#00c !important}.gbi .gb4{color:#dd8e27 !important}.gbf .gb4{color:#900 !important}\n",
      "</style><style>body,td,a,p,.h{font-family:arial,sans-serif}body{margin:0;overflow-y:scroll}#gog{padding:3px 8px 0}td{line-height:.8em}.gac_m td{line-height:17px}form{margin-bottom:20px}.h{color:#36c}.q{color:#00c}.ts td{padding:0}.ts{border-collapse:collapse}em{font-weight:bold;font-style:normal}.lst{height:25px;width:496px}.gsfi,.lst{font:18px arial,sans-serif}.gsfs{font:17px arial,sans-serif}.ds{display:inline-box;display:inline-block;margin:3px 0 4px;margin-left:4px}input{font-family:inherit}a.gb1,a.gb2,a.gb3,a.gb4{color:#11c !important}body{background:#fff;color:black}a{color:#11c;text-decoration:none}a:hover,a:active{text-decoration:underline}.fl a{color:#36c}a:visited{color:#551a8b}a.gb1,a.gb4{text-decoration:underline}a.gb3:hover{text-decoration:none}#ghead a.gb2:hover{color:#fff !important}.sblc{padding-top:5px}.sblc a{display:block;margin:2px 0;margin-left:13px;font-size:11px}.lsbb{background:#eee;border:solid 1px;border-color:#ccc #999 #999 #ccc;height:30px}.lsbb{display:block}.ftl,#fll a{display:inline-block;margin:0 12px}.lsb{background:url(/images/nav_logo229.png) 0 -261px repeat-x;border:none;color:#000;cursor:pointer;height:30px;margin:0;outline:0;font:15px arial,sans-serif;vertical-align:top}.lsb:active{background:#ccc}.lst:focus{outline:none}</style><script></script><link href=\"/images/branding/product/ico/googleg_lodp.ico\" rel=\"shortcut icon\"></head><body bgcolor=\"#fff\"><script>(function(){var src='/images/nav_logo229.png';var iesg=false;document.body.onload = function(){window.n && window.n();if (document.images){new Image().src=src;}\n",
      "if (!iesg){document.f&&document.f.q.focus();document.gbqf&&document.gbqf.q.focus();}\n",
      "}\n",
      "})();</script><div id=\"mngb\">    <div id=gbar><nobr><b class=gb1>Search</b> <a class=gb1 href=\"http://www.google.com/imghp?hl=en&tab=wi\">Images</a> <a class=gb1 href=\"http://maps.google.com/maps?hl=en&tab=wl\">Maps</a> <a class=gb1 href=\"https://play.google.com/?hl=en&tab=w8\">Play</a> <a class=gb1 href=\"http://www.youtube.com/?tab=w1\">YouTube</a> <a class=gb1 href=\"http://news.google.com/nwshp?hl=en&tab=wn\">News</a> <a class=gb1 href=\"https://mail.google.com/mail/?tab=wm\">Gmail</a> <a class=gb1 href=\"https://drive.google.com/?tab=wo\">Drive</a> <a class=gb1 style=\"text-decoration:none\" href=\"https://www.google.com/intl/en/options/\"><u>More</u> &raquo;</a></nobr></div><div id=guser width=100%><nobr><span id=gbn class=gbi></span><span id=gbf class=gbf></span><span id=gbe></span><a href=\"http://www.google.com/history/optout?hl=en\" class=gb4>Web History</a> | <a  href=\"/preferences?hl=en\" class=gb4>Settings</a> | <a target=_top id=gb_70 href=\"https://accounts.google.com/ServiceLogin?hl=en&passive=true&continue=http://www.google.com/\" class=gb4>Sign in</a></nobr></div><div class=gbh style=left:0></div><div class=gbh style=right:0></div>    </div><center><span id=\"prt\" style=\"display:block\"> <div><style>.pmoabs{background-color:#fff;border:1px solid #E5E5E5;color:#666;font-size:13px;padding-bottom:20px;position:absolute;right:2px;top:3px;z-index:986}#pmolnk{border-radius:2px;-moz-border-radius:2px;-webkit-border-radius:2px}.kd-button-submit{border:1px solid #3079ed;background-color:#4d90fe;background-image:-webkit-gradient(linear,left top,left bottom,from(#4d90fe),to(#4787ed));background-image:-webkit-linear-gradient(top,#4d90fe,#4787ed);background-image:-moz-linear-gradient(top,#4d90fe,#4787ed);background-image:-ms-linear-gradient(top,#4d90fe,#4787ed);background-image:-o-linear-gradient(top,#4d90fe,#4787ed);background-image:linear-gradient(top,#4d90fe,#4787ed);filter:progid:DXImageTransform.Microsoft.gradient(startColorStr='#4d90fe',EndColorStr='#4787ed')}.kd-button-submit:hover{border:1px solid #2f5bb7;background-color:#357ae8;background-image:-webkit-gradient(linear,left top,left bottom,from(#4d90fe),to(#357ae8));background-image:-webkit-linear-gradient(top,#4d90fe,#357ae8);background-image:-moz-linear-gradient(top,#4d90fe,#357ae8);background-image:-ms-linear-gradient(top,#4d90fe,#357ae8);background-image:-o-linear-gradient(top,#4d90fe,#357ae8);background-image:linear-gradient(top,#4d90fe,#357ae8);filter:progid:DXImageTransform.Microsoft.gradient(startColorStr='#4d90fe',EndColorStr='#357ae8')}.kd-button-submit:active{-webkit-box-shadow:inset 0 1px 2px rgba(0,0,0,0.3);-moz-box-shadow:inset 0 1px 2px rgba(0,0,0,0.3);box-shadow:inset 0 1px 2px rgba(0,0,0,0.3)}#pmolnk a{color:#fff;display:inline-block;font-weight:bold;padding:5px 20px;text-decoration:none;white-space:nowrap}.xbtn{color:#999;cursor:pointer;font-size:23px;line-height:5px;padding-top:5px}.padi{padding:0 8px 0 10px}.padt{padding:5px 20px 0 0;color:#444}.pads{text-align:left;max-width:200px}</style> <div class=\"pmoabs\" id=\"pmocntr2\" style=\"behavior:url(#default#userdata);display:none\"> <table border=\"0\"> <tr> <td colspan=\"2\"> <div class=\"xbtn\" onclick=\"google.promos&&google.promos.toast&& google.promos.toast.cpc()\" style=\"float:right\">&times;</div> </td> </tr> <tr> <td class=\"padi\" rowspan=\"2\"> <img src=\"/images/icons/product/chrome-48.png\"> </td> <td class=\"pads\">A better way to browse the web</td> </tr> <tr> <td class=\"padt\"> <div class=\"kd-button-submit\" id=\"pmolnk\"> <a href=\"/chrome/browser/?hl=en&amp;brand=CHNG&amp;utm_source=en-hpp&amp;utm_medium=hpp&amp;utm_campaign=en\" onclick=\"google.promos&&google.promos.toast&& google.promos.toast.cl()\">Get Google Chrome</a> </div> </td> </tr> </table> </div> <script type=\"text/javascript\">(function(){var a={v:{}};a.v.mb=50;a.v.kb=10;a.v.La=\"body\";a.v.Mb=!0;a.v.Pb=function(b,c){var d=a.v.Cb();a.v.Eb(d,b,c);a.v.Qb(d);a.v.Mb&&a.v.Nb(d)};a.v.Qb=function(b){(b=a.v.Na(b))&&0<b.forms.length&&b.forms[0].submit()};a.v.Cb=function(){var b=document.createElement(\"iframe\");b.height=0;b.width=0;b.style.overflow=\"hidden\";b.style.top=b.style.left=\"-100px\";b.style.position=\"absolute\";document.body.appendChild(b);return b};a.v.Na=function(b){return b.contentDocument||b.contentWindow.document};a.v.Eb=function(b,c,d){b=a.v.Na(b);b.open();d=[\"<\",a.v.La,'><form method=POST action=\"',d,'\">'];for(var e in c)c.hasOwnProperty(e)&&d.push('<textarea name=\"',e,'\">',c[e],\"</textarea>\");d.push(\"</form></\",a.v.La,\">\");b.write(d.join(\"\"));b.close()};a.v.Pa=function(b,c){c>a.v.kb?google&&google.ml&&google.ml(Error(\"ogcdr\"),!1,{cause:\"timeout\"}):b.contentWindow?a.v.Ob(b):window.setTimeout(function(){a.v.Pa(b,c+1)},a.v.mb)};a.v.Ob=function(b){document.body.removeChild(b)};a.v.Nb=function(b){a.v.Ab(b,\"load\",function(){a.v.Pa(b,0)})};a.v.Ab=function(b,c,d){b.addEventListener?b.addEventListener(c,d,!1):b.attachEvent&&b.attachEvent(\"on\"+c,d)};var m={Ub:0,$:1,ka:2,va:5,Tb:6};a.s={};a.s.ya={Ya:\"i\",ta:\"d\",$a:\"l\"};a.s.U={Aa:\"0\",ma:\"1\"};a.s.Ba={wa:1,ta:2,ra:3};a.s.S={Sa:\"a\",Wa:\"g\",W:\"c\",ub:\"u\",tb:\"t\",Aa:\"p\",lb:\"pid\",Ua:\"eid\",vb:\"at\"};a.s.Za=window.location.protocol+\"//www.google.com/_/og/promos/\";a.s.Va=\"g\";a.s.wb=\"z\";a.s.Fa=function(b,c,d,e){var f=null;switch(c){case m.$:f=window.gbar.up.gpd(b,d,!0);break;case m.va:f=window.gbar.up.gcc(e)}return null==f?0:parseInt(f,10)};a.s.Ib=function(b,c,d){return c==m.$?null!=window.gbar.up.gpd(b,d,!0):!1};a.s.Ca=function(b,c,d,e,f,h,k,l){var g={};g[a.s.S.Aa]=b;g[a.s.S.Wa]=c;g[a.s.S.Sa]=d;g[a.s.S.vb]=e;g[a.s.S.Ua]=f;g[a.s.S.lb]=1;k&&(g[a.s.S.W]=k);l&&(g[a.s.S.ub]=l);if(h)g[a.s.S.tb]=h;else return google.ml(Error(\"knu\"),!1,{cause:\"Token is not found\"}),null;return g};a.s.Ia=function(b,c,d){if(b){var e=c?a.s.Va:a.s.wb;c&&d&&(e+=\"?authuser=\"+d);a.v.Pb(b,a.s.Za+e)}};a.s.Db=function(b,c,d,e,f,h,k){b=a.s.Ca(c,b,a.s.ya.ta,a.s.Ba.ta,d,f,null,e);a.s.Ia(b,h,k)};a.s.Gb=function(b,c,d,e,f,h,k){b=a.s.Ca(c,b,a.s.ya.Ya,a.s.Ba.wa,d,f,e,null);a.s.Ia(b,h,k)};a.s.Lb=function(b,c,d,e,f,h,k,l,g,n){switch(c){case m.va:window.gbar.up.dpc(e,f);break;case m.$:window.gbar.up.spd(b,d,1,!0);break;case m.ka:g=g||!1,l=l||\"\",h=h||0,k=k||a.s.U.ma,n=n||0,a.s.Db(e,h,k,f,l,g,n)}};a.s.Jb=function(b,c,d,e,f){return c==m.$?0<d&&a.s.Fa(b,c,e,f)>=d:!1};a.s.Fb=function(b,c,d,e,f,h,k,l,g,n){switch(c){case m.va:window.gbar.up.iic(e,f);break;case m.$:c=a.s.Fa(b,c,d,e)+1;window.gbar.up.spd(b,d,c.toString(),!0);break;case m.ka:g=g||!1,l=l||\"\",h=h||0,k=k||a.s.U.Aa,n=n||0,a.s.Gb(e,h,k,1,l,g,n)}};a.s.Kb=function(b,c,d,e,f,h){b=a.s.Ca(c,b,a.s.ya.$a,a.s.Ba.ra,d,e,null,null);a.s.Ia(b,f,h)};var p={Rb:\"a\",Vb:\"l\",Sb:\"c\",Ta:\"d\",ra:\"h\",wa:\"i\",lc:\"n\",ma:\"x\",dc:\"ma\",jc:\"mc\",kc:\"mi\",Wb:\"pa\",Xb:\"pc\",Zb:\"pi\",ac:\"pn\",$b:\"px\",Yb:\"pd\",mc:\"gpa\",qc:\"gpi\",sc:\"gpn\",tc:\"gpx\",nc:\"gpd\"};a.o={};a.o.R={ab:\"hplogo\",rb:\"pmocntr2\"};a.o.U={qb:\"0\",ma:\"1\",Ra:\"2\"};a.o.w=document.getElementById(a.o.R.rb);a.o.Xa=16;a.o.nb=2;a.o.pb=20;google.promos=google.promos||{};google.promos.toast=google.promos.toast||{};a.o.qa=function(b){a.o.w&&(a.o.w.style.display=b?\"\":\"none\",a.o.w.parentNode&&(a.o.w.parentNode.style.position=b?\"relative\":\"\"))};a.o.Qa=function(b){try{if(a.o.w&&b&&b.es&&b.es.m){var c=window.gbar.rtl(document.body)?\"left\":\"right\";a.o.w.style[c]=b.es.m-a.o.Xa+a.o.nb+\"px\";a.o.w.style.top=a.o.pb+\"px\"}}catch(d){google.ml(d,!1,{cause:a.o.T+\"_PT\"})}};google.promos.toast.cl=function(){try{a.o.Da==m.ka&&a.s.Kb(a.o.Ga,a.o.V,a.o.U.Ra,a.o.Ka,a.o.Ha,a.o.Ja),window.gbar.up.sl(a.o.V,a.o.T,p.ra,a.o.Ea(),1)}catch(b){google.ml(b,!1,{cause:a.o.T+\"_CL\"})}};google.promos.toast.cpc=function(){try{a.o.w&&(a.o.qa(!1),a.s.Lb(a.o.w,a.o.Da,a.o.R.Ma,a.o.Ga,a.o.Bb,a.o.V,a.o.U.ma,a.o.Ka,a.o.Ha,a.o.Ja),window.gbar.up.sl(a.o.V,a.o.T,p.Ta,a.o.Ea(),1))}catch(b){google.ml(b,!1,{cause:a.o.T+\"_CPC\"})}};a.o.Oa=function(){try{if(a.o.w){var b=276,c=document.getElementById(a.o.R.ab);c&&(b=Math.max(b,c.offsetWidth));var d=parseInt(a.o.w.style.right,10)||0;a.o.w.style.visibility=2*(a.o.w.offsetWidth+d)+b>document.body.clientWidth?\"hidden\":\"\"}}catch(e){google.ml(e,!1,{cause:a.o.T+\"_HOSW\"})}};a.o.yb=function(){var b=[\"gpd\",\"spd\",\"aeh\",\"sl\"];if(!window.gbar||!window.gbar.up)return!1;for(var c=0,d;d=b[c];c++)if(!(d in window.gbar.up))return!1;return!0};a.o.Hb=function(){return a.o.w.currentStyle&&\"absolute\"!=a.o.w.currentStyle.position};google.promos.toast.init=function(b,c,d,e,f,h,k,l,g,n,q,r){try{if(!a.o.yb())google.ml(Error(\"apa\"),!1,{cause:a.o.T+\"_INIT\"});else if(a.o.w)if(e==m.ka&&!l==!g)google.ml(Error(\"tku\"),!1,{cause:\"zwieback: \"+g+\", gaia: \"+l}),a.o.qa(!1);else if(a.o.R.W=\"toast_count_\"+c+(q?\"_\"+q:\"\"),a.o.R.Ma=\"toast_dp_\"+c+(r?\"_\"+r:\"\"),a.o.T=d,a.o.V=b,a.o.Da=e,a.o.Ga=c,a.o.Bb=f,a.o.Ka=l?l:g,a.o.Ha=!!l,a.o.Ja=k,a.s.Ib(a.o.w,e,a.o.R.Ma,c)||a.s.Jb(a.o.w,e,h,a.o.R.W,c)||a.o.Hb())a.o.qa(!1);else{a.s.Fb(a.o.w,e,a.o.R.W,c,f,a.o.V,a.o.U.qb,a.o.Ka,a.o.Ha,a.o.Ja);if(!n){try{window.gbar.up.aeh(window,\"resize\",a.o.Oa)}catch(t){}window.lol=a.o.Oa;window.gbar.elr&&a.o.Qa(window.gbar.elr());window.gbar.elc&&window.gbar.elc(a.o.Qa);a.o.qa(!0)}window.gbar.up.sl(a.o.V,a.o.T,p.wa,a.o.Ea())}}catch(t){google.ml(t,!1,{cause:a.o.T+\"_INIT\"})}};a.o.Ea=function(){var b=a.s.Fa(a.o.w,a.o.Da,a.o.R.W,a.o.Ga);return\"ic=\"+b};})();</script> <script type=\"text/javascript\">(function(){var sourceWebappPromoID=144002;var sourceWebappGroupID=5;var payloadType=5;var cookieMaxAgeSec=2592000;var dismissalType=5;var impressionCap=25;var gaiaXsrfToken='';var zwbkXsrfToken='';var kansasDismissalEnabled=false;var sessionIndex=0;var invisible=false;window.gbar&&gbar.up&&gbar.up.r&&gbar.up.r(payloadType,function(show){if (show){google.promos.toast.init(sourceWebappPromoID,sourceWebappGroupID,payloadType,dismissalType,cookieMaxAgeSec,impressionCap,sessionIndex,gaiaXsrfToken,zwbkXsrfToken,invisible,'0612');}\n",
      "});})();</script> </div> </span><br clear=\"all\" id=\"lgpd\"><div id=\"lga\"><img alt=\"Google\" height=\"92\" src=\"/images/branding/googlelogo/1x/googlelogo_white_background_color_272x92dp.png\" style=\"padding:28px 0 14px\" width=\"272\" id=\"hplogo\" onload=\"window.lol&&lol()\"><br><br></div><form action=\"/search\" name=\"f\"><table cellpadding=\"0\" cellspacing=\"0\"><tr valign=\"top\"><td width=\"25%\">&nbsp;</td><td align=\"center\" nowrap=\"\"><input name=\"ie\" value=\"ISO-8859-1\" type=\"hidden\"><input value=\"en\" name=\"hl\" type=\"hidden\"><input name=\"source\" type=\"hidden\" value=\"hp\"><input name=\"biw\" type=\"hidden\"><input name=\"bih\" type=\"hidden\"><div class=\"ds\" style=\"height:32px;margin:4px 0\"><input style=\"color:#000;margin:0;padding:5px 8px 0 6px;vertical-align:top\" autocomplete=\"off\" class=\"lst\" value=\"\" title=\"Google Search\" maxlength=\"2048\" name=\"q\" size=\"57\"></div><br style=\"line-height:0\"><span class=\"ds\"><span class=\"lsbb\"><input class=\"lsb\" value=\"Google Search\" name=\"btnG\" type=\"submit\"></span></span><span class=\"ds\"><span class=\"lsbb\"><input class=\"lsb\" value=\"I'm Feeling Lucky\" name=\"btnI\" onclick=\"if(this.form.q.value)this.checked=1; else top.location='/doodles/'\" type=\"submit\"></span></span></td><td class=\"fl sblc\" align=\"left\" nowrap=\"\" width=\"25%\"><a href=\"/advanced_search?hl=en&amp;authuser=0\">Advanced search</a><a href=\"/language_tools?hl=en&amp;authuser=0\">Language tools</a></td></tr></table><input id=\"gbv\" name=\"gbv\" type=\"hidden\" value=\"1\"></form><div id=\"gac_scont\"></div><div style=\"font-size:83%;min-height:3.5em\"><br></div><span id=\"footer\"><div style=\"font-size:10pt\"><div style=\"margin:19px auto;text-align:center\" id=\"fll\"><a href=\"/intl/en/ads/\">Advertising�Programs</a><a href=\"/services/\">Business Solutions</a><a href=\"https://plus.google.com/116899029375914044550\" rel=\"publisher\">+Google</a><a href=\"/intl/en/about.html\">About Google</a></div></div><p style=\"color:#767676;font-size:8pt\">&copy; 2016 - <a href=\"/intl/en/policies/privacy/\">Privacy</a> - <a href=\"/intl/en/policies/terms/\">Terms</a></p></span></center><script>(function(){window.google.cdo={height:0,width:0};(function(){var a=window.innerWidth,b=window.innerHeight;if(!a||!b)var c=window.document,d=\"CSS1Compat\"==c.compatMode?c.documentElement:c.body,a=d.clientWidth,b=d.clientHeight;a&&b&&(a!=google.cdo.width||b!=google.cdo.height)&&google.log(\"\",\"\",\"/client_204?&atyp=i&biw=\"+a+\"&bih=\"+b+\"&ei=\"+google.kEI);})();})();</script><div id=\"xjsd\"></div><div id=\"xjsi\"><script>(function(){function c(b){window.setTimeout(function(){var a=document.createElement(\"script\");a.src=b;document.getElementById(\"xjsd\").appendChild(a)},0)}google.dljp=function(b,a){google.xjsu=b;c(a)};google.dlj=c;})();(function(){window.google.xjsrm=[];})();if(google.y)google.y.first=[];if(!google.xjs){window._=window._||{};window._._DumpException=function(e){throw e};if(google.timers&&google.timers.load.t){google.timers.load.t.xjsls=new Date().getTime();}google.dljp('/xjs/_/js/k\\x3dxjs.hp.en_US.P2lN44aB31s.O/m\\x3dsb_he,d/rt\\x3dj/d\\x3d1/t\\x3dzcms/rs\\x3dACT90oFW-wCxYOdBaf_E74IkYq2Z7TfTZw','/xjs/_/js/k\\x3dxjs.hp.en_US.P2lN44aB31s.O/m\\x3dsb_he,d/rt\\x3dj/d\\x3d1/t\\x3dzcms/rs\\x3dACT90oFW-wCxYOdBaf_E74IkYq2Z7TfTZw');google.xjs=1;}google.pmc={\"sb_he\":{\"agen\":true,\"cgen\":true,\"client\":\"heirloom-hp\",\"dh\":true,\"dhqt\":true,\"ds\":\"\",\"fl\":true,\"host\":\"google.com\",\"isbh\":28,\"jam\":0,\"jsonp\":true,\"msgs\":{\"cibl\":\"Clear Search\",\"dym\":\"Did you mean:\",\"lcky\":\"I\\u0026#39;m Feeling Lucky\",\"lml\":\"Learn more\",\"oskt\":\"Input tools\",\"psrc\":\"This search was removed from your \\u003Ca href=\\\"/history\\\"\\u003EWeb History\\u003C/a\\u003E\",\"psrl\":\"Remove\",\"sbit\":\"Search by image\",\"srch\":\"Google Search\"},\"ovr\":{},\"pq\":\"\",\"refpd\":true,\"rfs\":[],\"scd\":10,\"sce\":5,\"stok\":\"HOIL7hlXZaurxwO5kBCUyN6qrmI\"},\"d\":{}};google.y.first.push(function(){if(google.med){google.med('init');google.initHistory();google.med('history');}});if(google.j&&google.j.en&&google.j.xi){window.setTimeout(google.j.xi,0);}\n",
      "</script></div></body></html>\n"
     ]
    }
   ],
   "source": [
    "for lines in response.readlines():\n",
    "    print lines.strip()"
   ]
  },
  {
   "cell_type": "code",
   "execution_count": null,
   "metadata": {
    "collapsed": false
   },
   "outputs": [],
   "source": [
    "'''\n",
    "UUID \n",
    "\n",
    "http://pymotw.com/2/uuid/index.html#module-uuid defined UUID as a system for \n",
    "creating universally unique identifiers for resources in a way that does not \n",
    "require a central registrar. UUID values are 128 bits long and “can guarantee \n",
    "uniqueness across space and time”. They are useful for identifiers for \n",
    "documents, hosts, application clients, and other situations where a unique \n",
    "value is necessary. The RFC is specifically geared toward creating a \n",
    "Uniform Resource Name namespace.\n",
    "\n",
    "The idea is similar to GUID used in Windows programming.\n",
    "\n",
    "The following video (https://www.youtube.com/watch?v=ugqu10JV7dk) traces the\n",
    "history of Python in the words of Python creator, Guido van Rossum. The \n",
    "unique identifier similar to one in the url can be \n",
    "created using UUID.\n",
    "'''"
   ]
  },
  {
   "cell_type": "code",
   "execution_count": 11,
   "metadata": {
    "collapsed": false
   },
   "outputs": [
    {
     "data": {
      "text/plain": [
       "38923010049L"
      ]
     },
     "execution_count": 11,
     "metadata": {},
     "output_type": "execute_result"
    }
   ],
   "source": [
    "# getnode() to retrieve the MAC value on a given system:\n",
    "import uuid\n",
    "uuid.getnode()"
   ]
  },
  {
   "cell_type": "code",
   "execution_count": 12,
   "metadata": {
    "collapsed": false
   },
   "outputs": [
    {
     "data": {
      "text/plain": [
       "UUID('816fbc30-e4e7-11e5-8d07-00090ffe0001')"
      ]
     },
     "execution_count": 12,
     "metadata": {},
     "output_type": "execute_result"
    }
   ],
   "source": [
    "# To generate uuid based on the host MAC address,\n",
    "uuid.uuid1()"
   ]
  },
  {
   "cell_type": "code",
   "execution_count": 16,
   "metadata": {
    "collapsed": false
   },
   "outputs": [
    {
     "data": {
      "text/plain": [
       "UUID('1f4fa0fe-cf98-4555-adec-e180706fd933')"
      ]
     },
     "execution_count": 16,
     "metadata": {},
     "output_type": "execute_result"
    }
   ],
   "source": [
    "# Generates an uuid based on random number\n",
    "uuid.uuid4() "
   ]
  },
  {
   "cell_type": "code",
   "execution_count": 17,
   "metadata": {
    "collapsed": false
   },
   "outputs": [
    {
     "name": "stdout",
     "output_type": "stream",
     "text": [
      "c15b854b-d571-336b-bc00-a6e0fcaa42d1\n",
      "71a0e1b9-54e2-5288-aabf-a417c1856bc5\n"
     ]
    }
   ],
   "source": [
    "somerandomstring = 'kdf98234hj23j4y234uy324u234'\n",
    "print uuid.uuid3(uuid.NAMESPACE_DNS,somerandomstring) # MD5 based hashing\n",
    "print uuid.uuid5(uuid.NAMESPACE_DNS,somerandomstring) # SHA-1 based hashings"
   ]
  },
  {
   "cell_type": "code",
   "execution_count": 20,
   "metadata": {
    "collapsed": false
   },
   "outputs": [],
   "source": [
    "# http://www.scipy-lectures.org/intro/matplotlib/matplotlib.html#id5\n",
    "import numpy as np\n",
    "import matplotlib.pyplot as plt\n",
    "\n",
    "X = np.linspace(-np.pi, np.pi, 256, endpoint=True)\n",
    "C, S = np.cos(X), np.sin(X)\n",
    "\n",
    "plt.plot(X, C)\n",
    "plt.plot(X, S)\n",
    "\n",
    "plt.show()"
   ]
  },
  {
   "cell_type": "code",
   "execution_count": 22,
   "metadata": {
    "collapsed": false
   },
   "outputs": [],
   "source": [
    "# http://mple.m-artwork.eu/home/posts/3dsurfacewireframeregression\n",
    "import numpy as np\n",
    "import matplotlib.pyplot as plt\n",
    "from matplotlib import cm\n",
    "import mpl_toolkits.mplot3d.axes3d as axes3d\n",
    "\n",
    "fig = plt.figure()\n",
    "ax = fig.add_subplot(111, projection='3d')\n",
    "\n",
    "#Data\n",
    "fx = [0.673574075,0.727952994,0.6746285,0.797313558,0.37664721,0.67939197,0.748490102,0.722048276,0.767189284,0.768296082,0.732383162,0.748429373,0.751570337,0.698977802,0.703398777,0.802607746,0.786242535,0.366661714,0.792490268,0.698636545,0.769904493,0.762656928,0.478595152,0.759151743,0.728607906,0.778099194,0.728575153,0.703794547]\n",
    "fy = [0.331657721,0.447817839,0.37733386,0.306640864,0.107229109,0.329287287,0.758907052,0.310634309,0.277462605,0.333935925,0.326699919,0.72242944,0.358848707,0.298222369,0.306303486,0.43058538,0.373973649,0.117132288,0.432939444,0.255479494,0.384761779,0.382446444,0.35914706,0.298360515,0.391041147,0.363895412,0.312359532,0.343344197]\n",
    "fz = [18.13629648,8.620699842,9.807536512,17.40105183,24.44101897,18.81025228,8.075948931,18.10817229,22.24192367,13.8497555,13.28436202,4.472128831,14.53195939,15.93922217,0,0,11.28194885,0,0,26.12423918,9.200498046,14.01392223,14.14545413,17.8320704,8.985897324,10.53443457,12.48561226,11.80438073]\n",
    "\n",
    "#generate data for regression equation\n",
    "Xs = np.arange(0.4, 0.8, 0.005)\n",
    "Ys = np.arange(0.2, 0.7, 0.005)\n",
    "Xs, Ys = np.meshgrid(Xs, Ys)\n",
    "\n",
    "#3D regression solved using DataFit(R), http://www.oakdaleengr.com/\n",
    "Zs = 41.0909875400163+15.3581432751401*np.log(Xs)+-90.9714747515509*Ys+64.9652271333282*Ys**2\n",
    "\n",
    "ax.plot(fx, fy, fz, linestyle=\"none\", marker=\"o\", mfc=\"none\", markeredgecolor=\"red\")\n",
    "\n",
    "#plot wireframe\n",
    "#ax.plot_wireframe(Xs, Ys, Zs, rstride=4, cstride=4, alpha=0.4)\n",
    "\n",
    "#plot surface, more colormaps: http://matplotlib.sourceforge.net/examples/pylab_examples/show_colormaps.html\n",
    "ax.plot_surface(Xs, Ys, Zs, rstride=4, cstride=4, alpha=0.4,cmap=cm.jet)\n",
    "\n",
    "plt.show()"
   ]
  },
  {
   "cell_type": "code",
   "execution_count": 23,
   "metadata": {
    "collapsed": false
   },
   "outputs": [],
   "source": [
    "import random\n",
    "allnos = [random.randint(1,1000) for x in range(1000)]\n",
    "allnos_set = set(allnos)\n",
    "allnos_list = []\n",
    "for items in allnos_set:\n",
    "    allnos_list.append(allnos.count(items))\n",
    "\n",
    "import matplotlib.pyplot as plt\n",
    "\n",
    "X = list(allnos_set)\n",
    "Y = allnos_list\n",
    "\n",
    "plt.plot(X, Y)\n",
    "plt.show()"
   ]
  },
  {
   "cell_type": "code",
   "execution_count": 24,
   "metadata": {
    "collapsed": false
   },
   "outputs": [
    {
     "ename": "ImportError",
     "evalue": "No module named lxml",
     "output_type": "error",
     "traceback": [
      "\u001b[1;31m---------------------------------------------------------------------------\u001b[0m",
      "\u001b[1;31mImportError\u001b[0m                               Traceback (most recent call last)",
      "\u001b[1;32m<ipython-input-24-1a98d3d21dd5>\u001b[0m in \u001b[0;36m<module>\u001b[1;34m()\u001b[0m\n\u001b[0;32m      2\u001b[0m \u001b[1;31m# http://docs.python-guide.org/en/latest/scenarios/scrape/\u001b[0m\u001b[1;33m\u001b[0m\u001b[1;33m\u001b[0m\u001b[0m\n\u001b[0;32m      3\u001b[0m \u001b[1;33m\u001b[0m\u001b[0m\n\u001b[1;32m----> 4\u001b[1;33m \u001b[1;32mfrom\u001b[0m \u001b[0mlxml\u001b[0m \u001b[1;32mimport\u001b[0m \u001b[0mhtml\u001b[0m\u001b[1;33m\u001b[0m\u001b[0m\n\u001b[0m\u001b[0;32m      5\u001b[0m \u001b[1;32mimport\u001b[0m \u001b[0mrequests\u001b[0m\u001b[1;33m\u001b[0m\u001b[0m\n\u001b[0;32m      6\u001b[0m \u001b[1;32mimport\u001b[0m \u001b[0mitertools\u001b[0m\u001b[1;33m\u001b[0m\u001b[0m\n",
      "\u001b[1;31mImportError\u001b[0m: No module named lxml"
     ]
    }
   ],
   "source": [
    "# web scraping example 1 \n",
    "# http://docs.python-guide.org/en/latest/scenarios/scrape/\n",
    "\n",
    "from lxml import html\n",
    "import requests\n",
    "import itertools\n",
    "\n",
    "page = requests.get('http://search.mlslistings.com/Matrix/Public/Portal.aspx?ID=0-516465434-10')\n",
    "tree = html.fromstring(page.content)\n",
    "#This will create a list of buyers:\n",
    "street = tree.xpath('//td[@class=\"d1085m13\"]/span/text()')\n",
    "city = tree.xpath('//td[@class=\"d1085m22\"]/span/text()')\n",
    "#This will create a list of prices\n",
    "price = tree.xpath('//td[@class=\"d1085m15\"]/span/text()')\n",
    "\n",
    "address = itertools.izip(street,city,price)\n",
    "\n",
    "f = open(\"webscrapping_lxml.txt\",\"w\")\n",
    "for items in address:\n",
    "    s = ', '.join(items)\n",
    "    print s, items\n",
    "    f.writelines(s)\n",
    "    f.writelines('\\n')\n",
    "\n",
    "f.close()"
   ]
  },
  {
   "cell_type": "code",
   "execution_count": null,
   "metadata": {
    "collapsed": true
   },
   "outputs": [],
   "source": []
  }
 ],
 "metadata": {
  "kernelspec": {
   "display_name": "Python 2",
   "language": "python",
   "name": "python2"
  },
  "language_info": {
   "codemirror_mode": {
    "name": "ipython",
    "version": 2
   },
   "file_extension": ".py",
   "mimetype": "text/x-python",
   "name": "python",
   "nbconvert_exporter": "python",
   "pygments_lexer": "ipython2",
   "version": "2.7.10"
  }
 },
 "nbformat": 4,
 "nbformat_minor": 0
}
