{
 "cells": [
  {
   "cell_type": "code",
   "execution_count": null,
   "metadata": {
    "collapsed": false
   },
   "outputs": [],
   "source": [
    "'''\n",
    "Collections module contains specialized data type that can be used in addition to basic data \n",
    "types such as list, dictionary, set and tuple.\n",
    "\n",
    "Some of the datatypes available in the collection modules are\n",
    "\n",
    "1. Counter\n",
    "2. Named Tuple\n",
    "3. Ordered Dictionary\n",
    "4. Default Dictionary\n",
    "5. Deque or Double Ended Queue (pronunciation: deck)\n",
    "\n",
    "https://docs.python.org/2/library/collections.html\n",
    "http://pymotw.com/2/collections/\n",
    "'''"
   ]
  },
  {
   "cell_type": "code",
   "execution_count": 1,
   "metadata": {
    "collapsed": false
   },
   "outputs": [
    {
     "name": "stdout",
     "output_type": "stream",
     "text": [
      "Counter({'o': 3, ' ': 2, 'c': 1, 'i': 1, 'h': 1, 'l': 1, 'n': 1, 'P': 1, 's': 1, 't': 1, 'y': 1})\n"
     ]
    }
   ],
   "source": [
    "# A counter keeps track of number of times an element appears. As the name indicates, \n",
    "# a counter is used to count objects.  This can be implemented in multiple ways but \n",
    "# counter is an efficient method\n",
    "\n",
    "import collections\n",
    "c = collections.Counter(\"Python is cool\") \n",
    "print c # Prints the individual letter and also its frequency"
   ]
  },
  {
   "cell_type": "code",
   "execution_count": 2,
   "metadata": {
    "collapsed": false
   },
   "outputs": [
    {
     "name": "stdout",
     "output_type": "stream",
     "text": [
      "Counter({' ': 2, 'c': 1, 'i': 1, 'h': 1, 'l': 1, 'o': 1, 'n': 1, 'P': 1, 's': 1, 't': 1, 'y': 1})\n"
     ]
    }
   ],
   "source": [
    "# Resetting the value of 'o' to 1\n",
    "c['o'] = 1\n",
    "print c"
   ]
  },
  {
   "cell_type": "code",
   "execution_count": 3,
   "metadata": {
    "collapsed": false
   },
   "outputs": [
    {
     "name": "stdout",
     "output_type": "stream",
     "text": [
      "[2, 1, 1, 1, 1, 1, 1, 1, 1, 1, 1]\n",
      "  2\n",
      "c 1\n",
      "i 1\n",
      "h 1\n",
      "l 1\n",
      "o 1\n",
      "n 1\n",
      "P 1\n",
      "s 1\n",
      "t 1\n",
      "y 1\n"
     ]
    }
   ],
   "source": [
    "print c.values() # This will return all the values\n",
    "for k,v in c.iteritems(): # You can iterate through a counter like dictionary\n",
    "    print k,v"
   ]
  },
  {
   "cell_type": "code",
   "execution_count": null,
   "metadata": {
    "collapsed": false
   },
   "outputs": [],
   "source": [
    "# We can perform operations on a counter\n",
    "c1 = collections.Counter(['s', 'a', 'n', 'j', 'o', 's','e'])\n",
    "c2 = collections.Counter('santaclara')\n",
    "print c1\n",
    "print c2"
   ]
  },
  {
   "cell_type": "code",
   "execution_count": null,
   "metadata": {
    "collapsed": false
   },
   "outputs": [],
   "source": [
    "print c1+c2 # Addition combines the values in the two containers"
   ]
  },
  {
   "cell_type": "code",
   "execution_count": null,
   "metadata": {
    "collapsed": false
   },
   "outputs": [],
   "source": [
    "print c1-c2 # Subtraction removes the value from c1 that is present in c2\n",
    "# If the difference between the value is negative that key is ignored"
   ]
  },
  {
   "cell_type": "code",
   "execution_count": null,
   "metadata": {
    "collapsed": false
   },
   "outputs": [],
   "source": [
    "print c2-c1"
   ]
  },
  {
   "cell_type": "code",
   "execution_count": null,
   "metadata": {
    "collapsed": false
   },
   "outputs": [],
   "source": [
    "print c1 & c2 # Intersection finds the positive minimum value"
   ]
  },
  {
   "cell_type": "code",
   "execution_count": null,
   "metadata": {
    "collapsed": false
   },
   "outputs": [],
   "source": [
    "print c1 | c2 # Union keeps the highest value in one of the two in the final result"
   ]
  },
  {
   "cell_type": "code",
   "execution_count": null,
   "metadata": {
    "collapsed": false
   },
   "outputs": [],
   "source": [
    "'''\n",
    "Named tuple allows indexing of its content by name instead of numbers (that is default in tuple)\n",
    "'''"
   ]
  },
  {
   "cell_type": "code",
   "execution_count": 4,
   "metadata": {
    "collapsed": false
   },
   "outputs": [
    {
     "name": "stdout",
     "output_type": "stream",
     "text": [
      "Newton\n"
     ]
    }
   ],
   "source": [
    "basictuple = ('Newton',84,'Scientist')\n",
    "print basictuple[0] # To index, we need to use a number"
   ]
  },
  {
   "cell_type": "code",
   "execution_count": null,
   "metadata": {
    "collapsed": false
   },
   "outputs": [],
   "source": [
    "import collections\n",
    "FamousPeople = collections.namedtuple('FamousPeople','name age occupation') # Definition\n",
    "f1 = FamousPeople(name=\"Newton\",age=84,occupation=\"Scientist\") # Instance of the named tuple\n",
    "print f1\n",
    "print f1.name # We can access it using variable name instead of a number"
   ]
  },
  {
   "cell_type": "code",
   "execution_count": null,
   "metadata": {
    "collapsed": false
   },
   "outputs": [],
   "source": [
    "# Named tuples are similar to C-style structure\n",
    "# If you recall from our previous lecture on Python classes\n",
    "''' C style struct that has class variables but no methods '''\n",
    "class Person:\n",
    "    pass\n",
    "\n",
    "# Create an instance of Person class.  This is called object\n",
    "leo = Person()\n",
    "# we are giving class attributes here and there are no methods\n",
    "leo.name = 'Leo Euler' \n",
    "leo.zipcode = '95117'\n",
    "leo.ssn = '123-45-6789'\n",
    "\n",
    "print leo\n",
    "print leo.name, leo.zipcode, leo.ssn"
   ]
  },
  {
   "cell_type": "code",
   "execution_count": 10,
   "metadata": {
    "collapsed": false
   },
   "outputs": [
    {
     "name": "stdout",
     "output_type": "stream",
     "text": [
      "People(name='Leo Euler', zipcode='95117', ssn='123-45-6789')\n",
      "Leo Euler 95117 123-45-6789\n"
     ]
    },
    {
     "ename": "AttributeError",
     "evalue": "can't set attribute",
     "output_type": "error",
     "traceback": [
      "\u001b[1;31m---------------------------------------------------------------------------\u001b[0m",
      "\u001b[1;31mAttributeError\u001b[0m                            Traceback (most recent call last)",
      "\u001b[1;32m<ipython-input-10-a9a39fc4118a>\u001b[0m in \u001b[0;36m<module>\u001b[1;34m()\u001b[0m\n\u001b[0;32m      9\u001b[0m \u001b[1;32mprint\u001b[0m \u001b[0mleo\u001b[0m\u001b[1;33m.\u001b[0m\u001b[0mname\u001b[0m\u001b[1;33m,\u001b[0m \u001b[0mleo\u001b[0m\u001b[1;33m.\u001b[0m\u001b[0mzipcode\u001b[0m\u001b[1;33m,\u001b[0m \u001b[0mleo\u001b[0m\u001b[1;33m.\u001b[0m\u001b[0mssn\u001b[0m\u001b[1;33m\u001b[0m\u001b[0m\n\u001b[0;32m     10\u001b[0m \u001b[1;33m\u001b[0m\u001b[0m\n\u001b[1;32m---> 11\u001b[1;33m \u001b[0mleo\u001b[0m\u001b[1;33m.\u001b[0m\u001b[0mname\u001b[0m \u001b[1;33m=\u001b[0m \u001b[1;34m'Fernando'\u001b[0m\u001b[1;33m\u001b[0m\u001b[0m\n\u001b[0m\u001b[0;32m     12\u001b[0m \u001b[1;33m\u001b[0m\u001b[0m\n\u001b[0;32m     13\u001b[0m \u001b[1;32mprint\u001b[0m \u001b[0mleo\u001b[0m\u001b[1;33m\u001b[0m\u001b[0m\n",
      "\u001b[1;31mAttributeError\u001b[0m: can't set attribute"
     ]
    }
   ],
   "source": [
    "# We can convert this into a named tuple.  This version is more cleaner and also there\n",
    "# is no monkey-patching, a process of adding code after the definition has been given.\n",
    "# In the struct, the defintion is in the class Person but we add variables after the \n",
    "# instance has been created.\n",
    "import collections\n",
    "People = collections.namedtuple('People','name zipcode ssn')\n",
    "leo = People(name='Leo Euler', zipcode =  '95117', ssn = '123-45-6789')\n",
    "print leo\n",
    "print leo.name, leo.zipcode, leo.ssn"
   ]
  },
  {
   "cell_type": "code",
   "execution_count": null,
   "metadata": {
    "collapsed": false
   },
   "outputs": [],
   "source": [
    "'''\n",
    "Deque or Double Ended Queue (prononuciation: deck)\n",
    "'''"
   ]
  },
  {
   "cell_type": "code",
   "execution_count": 11,
   "metadata": {
    "collapsed": false
   },
   "outputs": [
    {
     "name": "stdout",
     "output_type": "stream",
     "text": [
      "Deque is empty\n"
     ]
    }
   ],
   "source": [
    "import collections\n",
    "d = collections.deque() # Creates an empty deque\n",
    "if d: # You can perform truthiness\n",
    "    print \"Deque not empty\"\n",
    "else:\n",
    "    print \"Deque is empty\""
   ]
  },
  {
   "cell_type": "code",
   "execution_count": 12,
   "metadata": {
    "collapsed": false
   },
   "outputs": [
    {
     "name": "stdout",
     "output_type": "stream",
     "text": [
      "deque(['P', 'y', 't', 'h', 'o', 'n', ' ', 'i', 's', ' ', 'c', 'o', 'o', 'l'])\n"
     ]
    }
   ],
   "source": [
    "import collections\n",
    "d = collections.deque('Python is cool')\n",
    "print d"
   ]
  },
  {
   "cell_type": "code",
   "execution_count": 13,
   "metadata": {
    "collapsed": false
   },
   "outputs": [
    {
     "name": "stdout",
     "output_type": "stream",
     "text": [
      "P\n",
      "l\n",
      "14\n"
     ]
    }
   ],
   "source": [
    "print d[0] # Accessing first element\n",
    "print d[-1] # Accessing the last element\n",
    "print len(d) # Length of deque"
   ]
  },
  {
   "cell_type": "code",
   "execution_count": 14,
   "metadata": {
    "collapsed": false
   },
   "outputs": [
    {
     "name": "stdout",
     "output_type": "stream",
     "text": [
      "P\n",
      "y\n",
      "t\n",
      "h\n",
      "o\n",
      "n\n",
      " \n",
      "i\n",
      "s\n",
      " \n",
      "c\n",
      "o\n",
      "o\n",
      "l\n"
     ]
    }
   ],
   "source": [
    "for items in d: # Deque behaves like queue and you can iterate through elements\n",
    "    print items"
   ]
  },
  {
   "cell_type": "code",
   "execution_count": 15,
   "metadata": {
    "collapsed": false
   },
   "outputs": [
    {
     "name": "stdout",
     "output_type": "stream",
     "text": [
      "deque(['P', 'y', 't', 'h', 'o', 'n', ' ', 'i', 's', ' ', 'c', 'o', 'o', 'l', 'Yes it is'])\n"
     ]
    }
   ],
   "source": [
    "d.append('Yes it is') # Append behaves like it works on list\n",
    "print d"
   ]
  },
  {
   "cell_type": "code",
   "execution_count": 16,
   "metadata": {
    "collapsed": false
   },
   "outputs": [
    {
     "name": "stdout",
     "output_type": "stream",
     "text": [
      "deque(['P', 'y', 't', 'h', 'o', 'n', ' ', 'i', 's', ' ', 'c', 'o', 'o', 'l', 'Y', 'e', 's', ' ', 'i', 't', ' ', 'i', 's'])\n"
     ]
    }
   ],
   "source": [
    "d = collections.deque('Python is cool')\n",
    "d.extend('Yes it is') #Extend behaves like it works on list\n",
    "print d"
   ]
  },
  {
   "cell_type": "code",
   "execution_count": 18,
   "metadata": {
    "collapsed": false
   },
   "outputs": [
    {
     "name": "stdout",
     "output_type": "stream",
     "text": [
      "deque(['CP', 'y', 't', 'h', 'o', 'n', ' ', 'i', 's', ' ', 'c', 'o', 'o', 'l', 'Y', 'e', 's', ' ', 'i', 't', ' ', 'i', 's'])\n"
     ]
    }
   ],
   "source": [
    "d[0] = 'CP' # Change the content of first index to CP\n",
    "print d"
   ]
  },
  {
   "cell_type": "code",
   "execution_count": 19,
   "metadata": {
    "collapsed": false
   },
   "outputs": [
    {
     "name": "stdout",
     "output_type": "stream",
     "text": [
      "deque(['P', 'y', 't', 'h', 'o', 'n', ' ', 'i', 's', ' ', 'c', 'o', 'o', 'l', 'Y', 'e', 's', ' ', 'i', 't', ' ', 'i', 's'])\n",
      "deque(['!', 'w', 'o', 'W', 'P', 'y', 't', 'h', 'o', 'n', ' ', 'i', 's', ' ', 'c', 'o', 'o', 'l', 'Y', 'e', 's', ' ', 'i', 't', ' ', 'i', 's'])\n"
     ]
    }
   ],
   "source": [
    "# The difference between deque and list is in the process by which the elements are consumed\n",
    "# One can append and extend to either end of the queue using \n",
    "# append - append to right\n",
    "# appendleft - append to left\n",
    "# extend - extend to right\n",
    "# extendleft - extend to left\n",
    "d = collections.deque('Python is cool')\n",
    "d.extend('Yes it is')\n",
    "print d\n",
    "\n",
    "d.extendleft('Wow!') # Notice the order in which the elements are added\n",
    "print d"
   ]
  },
  {
   "cell_type": "code",
   "execution_count": null,
   "metadata": {
    "collapsed": false
   },
   "outputs": [],
   "source": [
    "'''\n",
    "In-class activity - If list1 = [d]. \n",
    "Add c,b,a in that order to the left of list1 and e,f,g in that order to the right of d.\n",
    "Print the new list. \n",
    "Then remove a and g from the list using .\n",
    "'''"
   ]
  },
  {
   "cell_type": "code",
   "execution_count": null,
   "metadata": {
    "collapsed": false
   },
   "outputs": [],
   "source": [
    "'''\n",
    "In-class activity - Create an abstract class named Student. Then pass attributes: name, \n",
    "age, city and major. Create an instance of the class and print the values. Then create a namedtuple \n",
    "called Student with the same attributes.\n",
    "'''"
   ]
  },
  {
   "cell_type": "code",
   "execution_count": null,
   "metadata": {
    "collapsed": false
   },
   "outputs": [],
   "source": []
  }
 ],
 "metadata": {
  "kernelspec": {
   "display_name": "Python 2",
   "language": "python",
   "name": "python2"
  },
  "language_info": {
   "codemirror_mode": {
    "name": "ipython",
    "version": 2
   },
   "file_extension": ".py",
   "mimetype": "text/x-python",
   "name": "python",
   "nbconvert_exporter": "python",
   "pygments_lexer": "ipython2",
   "version": "2.7.10"
  }
 },
 "nbformat": 4,
 "nbformat_minor": 0
}
