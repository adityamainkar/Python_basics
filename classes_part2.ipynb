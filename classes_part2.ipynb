{
 "cells": [
  {
   "cell_type": "code",
   "execution_count": null,
   "metadata": {
    "collapsed": false
   },
   "outputs": [],
   "source": [
    "'''\n",
    "In this notebook we will discuss the following:\n",
    "1) Operator overloading\n",
    "2) Abstract classes\n",
    "3) Proxy design pattern\n",
    "4) Factory design pattern\n",
    "'''"
   ]
  },
  {
   "cell_type": "code",
   "execution_count": null,
   "metadata": {
    "collapsed": false
   },
   "outputs": [],
   "source": [
    "# Overloading operators\n",
    "# https://docs.python.org/2/reference/datamodel.html\n",
    "class ComplexNumber:\n",
    "    def __init__(self, a, b):\n",
    "        self.a = a\n",
    "        self.b = b\n",
    "\n",
    "    def __str__(self):\n",
    "        return 'ComplexNumber = %d+i%d' % (self.a, self.b)\n",
    "   \n",
    "    def __add__(self,other):\n",
    "        return ComplexNumber(self.a + other.a, self.b + other.b)\n",
    "    \n",
    "    def __mul__(self,other):\n",
    "        newa = self.a * other.a - self.b * other.b\n",
    "        newb = self.a * other.b + self.b * other.a \n",
    "        return ComplexNumber(newa,newb)\n",
    "\n",
    "cn1 = ComplexNumber(5,8)\n",
    "cn2 = ComplexNumber(5,-2)\n",
    "print cn1 * ComplexNumber(3,0)\n",
    "print cn1*cn2\n",
    "print cn1+cn2"
   ]
  },
  {
   "cell_type": "code",
   "execution_count": null,
   "metadata": {
    "collapsed": false
   },
   "outputs": [],
   "source": [
    "'''\n",
    "ABSTRACT CLASS\n",
    "'''"
   ]
  },
  {
   "cell_type": "code",
   "execution_count": 1,
   "metadata": {
    "collapsed": false
   },
   "outputs": [
    {
     "name": "stdout",
     "output_type": "stream",
     "text": [
      "<__main__.AbstractImage instance at 0x000000000405FA08>\n"
     ]
    },
    {
     "ename": "NotImplementedError",
     "evalue": "",
     "output_type": "error",
     "traceback": [
      "\u001b[1;31m---------------------------------------------------------------------------\u001b[0m",
      "\u001b[1;31mNotImplementedError\u001b[0m                       Traceback (most recent call last)",
      "\u001b[1;32m<ipython-input-1-a04ac6d025f1>\u001b[0m in \u001b[0;36m<module>\u001b[1;34m()\u001b[0m\n\u001b[0;32m     13\u001b[0m \u001b[0mai\u001b[0m \u001b[1;33m=\u001b[0m \u001b[0mAbstractImage\u001b[0m\u001b[1;33m(\u001b[0m\u001b[1;33m)\u001b[0m\u001b[1;33m\u001b[0m\u001b[0m\n\u001b[0;32m     14\u001b[0m \u001b[1;32mprint\u001b[0m \u001b[0mai\u001b[0m\u001b[1;33m\u001b[0m\u001b[0m\n\u001b[1;32m---> 15\u001b[1;33m \u001b[0mai\u001b[0m\u001b[1;33m.\u001b[0m\u001b[0mread\u001b[0m\u001b[1;33m(\u001b[0m\u001b[1;33m)\u001b[0m\u001b[1;33m\u001b[0m\u001b[0m\n\u001b[0m",
      "\u001b[1;32m<ipython-input-1-a04ac6d025f1>\u001b[0m in \u001b[0;36mread\u001b[1;34m(self)\u001b[0m\n\u001b[0;32m      2\u001b[0m \u001b[1;32mclass\u001b[0m \u001b[0mAbstractImage\u001b[0m\u001b[1;33m(\u001b[0m\u001b[1;33m)\u001b[0m\u001b[1;33m:\u001b[0m\u001b[1;33m\u001b[0m\u001b[0m\n\u001b[0;32m      3\u001b[0m     \u001b[1;32mdef\u001b[0m \u001b[0mread\u001b[0m\u001b[1;33m(\u001b[0m\u001b[0mself\u001b[0m\u001b[1;33m)\u001b[0m\u001b[1;33m:\u001b[0m\u001b[1;33m\u001b[0m\u001b[0m\n\u001b[1;32m----> 4\u001b[1;33m         \u001b[1;32mraise\u001b[0m \u001b[0mNotImplementedError\u001b[0m\u001b[1;33m(\u001b[0m\u001b[1;33m)\u001b[0m\u001b[1;33m\u001b[0m\u001b[0m\n\u001b[0m\u001b[0;32m      5\u001b[0m     \u001b[1;32mdef\u001b[0m \u001b[0mwrite\u001b[0m\u001b[1;33m(\u001b[0m\u001b[0mself\u001b[0m\u001b[1;33m)\u001b[0m\u001b[1;33m:\u001b[0m\u001b[1;33m\u001b[0m\u001b[0m\n\u001b[0;32m      6\u001b[0m         \u001b[1;32mraise\u001b[0m \u001b[0mNotImplementedError\u001b[0m\u001b[1;33m(\u001b[0m\u001b[1;33m)\u001b[0m\u001b[1;33m\u001b[0m\u001b[0m\n",
      "\u001b[1;31mNotImplementedError\u001b[0m: "
     ]
    }
   ],
   "source": [
    "# This is an example of an abstract class\n",
    "class AbstractImage():\n",
    "    def read(self):\n",
    "        raise NotImplementedError()\n",
    "    def write(self):\n",
    "        raise NotImplementedError()\n",
    "'''\n",
    "Here the abstract class AbstractImage has the methods that consist of signature \n",
    "that all the child classes will inherit. We are raising not implemented error to \n",
    "say that the methods by themselves are not doing anything until implemented by a child class.\n",
    "'''        \n",
    "\n",
    "ai = AbstractImage()\n",
    "print ai\n",
    "ai.read()"
   ]
  },
  {
   "cell_type": "code",
   "execution_count": 2,
   "metadata": {
    "collapsed": false
   },
   "outputs": [
    {
     "name": "stdout",
     "output_type": "stream",
     "text": [
      "<__main__.Dicom instance at 0x0000000004183388>\n",
      "reading file in the child class\n"
     ]
    }
   ],
   "source": [
    "class AbstractDicom():\n",
    "    def read(self):\n",
    "        raise NotImplementedError()\n",
    "    def write(self):\n",
    "        raise NotImplementedError()\n",
    "    \n",
    "class Dicom(AbstractDicom):\n",
    "    def read(self):\n",
    "        print \"reading file in the child class\"\n",
    "        \n",
    "d = Dicom()\n",
    "print d\n",
    "d.read() # Makes the call to Dicom child class\n",
    "d.write() \n",
    "# First makes the call to Dicom child class. But since this is not implemented in the \n",
    "# child class the write method in the parent class will be called and 'NotImplementedError' \n",
    "# will be raised."
   ]
  },
  {
   "cell_type": "code",
   "execution_count": 3,
   "metadata": {
    "collapsed": false
   },
   "outputs": [
    {
     "name": "stdout",
     "output_type": "stream",
     "text": [
      "<__main__.Dicom instance at 0x0000000004183848>\n",
      "reading file\n",
      "writing file\n"
     ]
    }
   ],
   "source": [
    "class AbstractDicom():\n",
    "    def read(self):\n",
    "        raise NotImplementedError()\n",
    "    def write(self):\n",
    "        raise NotImplementedError()\n",
    "    \n",
    "class Dicom(AbstractDicom):\n",
    "    def read(self):\n",
    "        print \"reading file\"\n",
    "    def write(self):\n",
    "        print \"writing file\"\n",
    "        \n",
    "d = Dicom()\n",
    "print d\n",
    "d.read() # Makes the call to Dicom child class\n",
    "d.write() # Makes the call to Dicom child class"
   ]
  },
  {
   "cell_type": "code",
   "execution_count": null,
   "metadata": {
    "collapsed": false
   },
   "outputs": [],
   "source": [
    "'''\n",
    "Create an abstract class called 'InterestCal'. Create a child class called \n",
    "'CICal'. The 'CICal' class will inherit the abstract class and implement compound \n",
    "interesst calculator. The formula is finalval = P(1+(r/n)^(years*n) where n is the number of \n",
    "times the amount is compounded annually.\n",
    "\n",
    "This child class will have three methods:\n",
    "1) __init__ method\n",
    "2) a method called compcal that computes the compound interest \n",
    "3) a method called compout that prints the compounded value.\n",
    "\n",
    "\n",
    "Once all classes have been defined, then call to calculate and print the amount. \n",
    "The user should pass the attributes Principal, years, interestrate, n when the \n",
    "class is instanstiated. \n",
    "\n",
    "Follow the code below:\n",
    "\n",
    "c = CICal(1000,5,6,2) \n",
    "c.compcal()\n",
    "print c.compout()\n",
    "\n",
    "In the code below, the principal amount is 1000, the number of years is 5, the \n",
    "interest rate is 6%, and n = 2. \n",
    "'''"
   ]
  },
  {
   "cell_type": "code",
   "execution_count": null,
   "metadata": {
    "collapsed": false
   },
   "outputs": [],
   "source": [
    "'''\n",
    "Design Patterns is a general repeatable solution to a commonly occurring problem in software \n",
    "design. It is a description or template for how to solve a problem that can be used in many \n",
    "different situations.\n",
    "https://sourcemaking.com/design_patterns\n",
    "\n",
    "Two design patters that we will consider are:\n",
    "    Proxy pattern\n",
    "    Factory pattern\n",
    "'''"
   ]
  },
  {
   "cell_type": "code",
   "execution_count": null,
   "metadata": {
    "collapsed": false
   },
   "outputs": [],
   "source": [
    "'''\n",
    "The syntax for Proxy pattern is \n",
    "\n",
    "class Proxy:\n",
    "    def __init__(self,subject):\n",
    "        self.__subject = subject\n",
    "    def __getattr__(self,name):\n",
    "        return getattr( self.__subject, name )   \n",
    "\n",
    "'''"
   ]
  },
  {
   "cell_type": "code",
   "execution_count": null,
   "metadata": {
    "collapsed": false
   },
   "outputs": [],
   "source": [
    "# Proxy Pattern is used when an object has to be shielded from its clients.\n",
    "\n",
    "class Maintenance:\n",
    "    def visitpage(self):\n",
    "        print \"Our site is under maintenance, please visit us later.\"\n",
    "        \n",
    "class NonMaintenance:\n",
    "    def visitpage(self):\n",
    "        print \"Welcome to the site\"\n",
    "\n",
    "class Proxy:\n",
    "    def __init__(self, maintenanceBool):\n",
    "        if maintenanceBool:\n",
    "            self.__implementation = Maintenance()\n",
    "        else:\n",
    "            self.__implementation = NonMaintenance()\n",
    "    def __getattr__(self, name):\n",
    "        print name, type(name)\n",
    "        return getattr(self.__implementation, name)\n",
    "\n",
    "MAINTENANCE = False\n",
    "p = Proxy(MAINTENANCE)\n",
    "p.visitpage()"
   ]
  },
  {
   "cell_type": "code",
   "execution_count": 4,
   "metadata": {
    "collapsed": false
   },
   "outputs": [
    {
     "name": "stdout",
     "output_type": "stream",
     "text": [
      "Choose a menu item\n",
      "1: Burger, 2: Fries\n",
      "Enter your choice number :1\n",
      "Burger\n",
      "<class '__main__.Burger'>\n"
     ]
    }
   ],
   "source": [
    "# Factory pattern is a creational pattern which uses factory methods to deal with the problem of \n",
    "# creating objects without specifying the exact class of object that will be created - Wikipedia\n",
    "\n",
    "import random\n",
    "\n",
    "def myfactory(objtype):\n",
    "        if objtype == 1: return Burger()\n",
    "        if objtype == 2: return Fries()\n",
    "        print \"Bad menu choice: \"\n",
    "        \n",
    "class Menu(object):\n",
    "    pass\n",
    "\n",
    "class Burger(Menu):\n",
    "    def listitem(self): print(\"Burger\")\n",
    "\n",
    "class Fries(Menu):\n",
    "    def listitem(self): print(\"Fries\")\n",
    "\n",
    "print \"Choose a menu item\"\n",
    "print \"1: Burger, 2: Fries\"\n",
    "\n",
    "choice = int(raw_input('Enter your choice number :'))\n",
    "        \n",
    "f = myfactory(choice)\n",
    "f.listitem()\n",
    "print type(f)"
   ]
  },
  {
   "cell_type": "code",
   "execution_count": 5,
   "metadata": {
    "collapsed": false
   },
   "outputs": [
    {
     "name": "stdout",
     "output_type": "stream",
     "text": [
      "Choose a menu item\n",
      "1: Burger, 2: Fries\n",
      "Enter your choice number :1\n",
      "Burger\n",
      "<class '__main__.Burger'>\n"
     ]
    }
   ],
   "source": [
    "# Factory pattern\n",
    "\n",
    "import random\n",
    "\n",
    "class Menu(object):\n",
    "    @staticmethod\n",
    "    # Static method - These are not bound to the class or object\n",
    "    def factory(objtype):\n",
    "        if objtype == 1: return Burger()\n",
    "        if objtype == 2: return Fries()\n",
    "        print \"Bad menu choice: \"\n",
    "    \n",
    "class Burger(Menu):\n",
    "    def listitem(self): print(\"Burger\")\n",
    "\n",
    "class Fries(Menu):\n",
    "    def listitem(self): print(\"Fries\")\n",
    "\n",
    "print \"Choose a menu item\"\n",
    "print \"1: Burger, 2: Fries\"\n",
    "\n",
    "choice = int(raw_input('Enter your choice number :'))\n",
    "        \n",
    "f = Menu.factory(choice)\n",
    "f.listitem()\n",
    "print type(f)"
   ]
  },
  {
   "cell_type": "code",
   "execution_count": null,
   "metadata": {
    "collapsed": true
   },
   "outputs": [],
   "source": []
  }
 ],
 "metadata": {
  "kernelspec": {
   "display_name": "Python 2",
   "language": "python",
   "name": "python2"
  },
  "language_info": {
   "codemirror_mode": {
    "name": "ipython",
    "version": 2
   },
   "file_extension": ".py",
   "mimetype": "text/x-python",
   "name": "python",
   "nbconvert_exporter": "python",
   "pygments_lexer": "ipython2",
   "version": "2.7.10"
  }
 },
 "nbformat": 4,
 "nbformat_minor": 0
}
