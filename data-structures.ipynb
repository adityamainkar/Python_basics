{
 "cells": [
  {
   "cell_type": "code",
   "execution_count": null,
   "metadata": {
    "collapsed": false
   },
   "outputs": [],
   "source": [
    "'''\n",
    "Data Structures\n",
    "\n",
    "1. List\n",
    "2. Dictionary\n",
    "3. tuples\n",
    "4. sets\n",
    "5. strings\n",
    "6. slicing lists and tuples\n",
    "7. List comprehension\n",
    "https://docs.python.org/2/tutorial/datastructures.html\n",
    "'''    "
   ]
  },
  {
   "cell_type": "code",
   "execution_count": null,
   "metadata": {
    "collapsed": false
   },
   "outputs": [],
   "source": [
    "# Syntax for list is n = [item1, item2, item3].  The items can be any Python object\n",
    "# the index of the list starts from zero\n",
    "mylist = [1,2,\"CA\",[3,4]]  # mylist is a collection of numbers, string and a list\n",
    "print mylist"
   ]
  },
  {
   "cell_type": "code",
   "execution_count": null,
   "metadata": {
    "collapsed": false
   },
   "outputs": [],
   "source": [
    "mylist[0] # this returns the first element in mylist"
   ]
  },
  {
   "cell_type": "code",
   "execution_count": null,
   "metadata": {
    "collapsed": false
   },
   "outputs": [],
   "source": [
    "mylist[-2] # this returns the last but one element in mylist"
   ]
  },
  {
   "cell_type": "code",
   "execution_count": null,
   "metadata": {
    "collapsed": false
   },
   "outputs": [],
   "source": [
    "mylist[-1][-2]"
   ]
  },
  {
   "cell_type": "code",
   "execution_count": null,
   "metadata": {
    "collapsed": false
   },
   "outputs": [],
   "source": [
    "# mylist[a:b] will return elements with index starting from a up to b-1. \n",
    "# This process is called Slicing\n",
    "mylist[0:2]"
   ]
  },
  {
   "cell_type": "code",
   "execution_count": null,
   "metadata": {
    "collapsed": false
   },
   "outputs": [],
   "source": [
    "print mylist[-1][1] #this is used to get elements from a list of list"
   ]
  },
  {
   "cell_type": "code",
   "execution_count": null,
   "metadata": {
    "collapsed": false
   },
   "outputs": [],
   "source": [
    "# append will add a value to the end of the list\n",
    "mylist.append(3.14) \n",
    "print mylist"
   ]
  },
  {
   "cell_type": "code",
   "execution_count": null,
   "metadata": {
    "collapsed": false
   },
   "outputs": [],
   "source": [
    "# Pop removes an element at the given index\n",
    "print mylist.pop(2)\n",
    "print mylist"
   ]
  },
  {
   "cell_type": "code",
   "execution_count": null,
   "metadata": {
    "collapsed": false
   },
   "outputs": [],
   "source": [
    "# Insert adds an element at the given index\n",
    "mylist.insert(2,\"MN\")\n",
    "print mylist"
   ]
  },
  {
   "cell_type": "code",
   "execution_count": null,
   "metadata": {
    "collapsed": false
   },
   "outputs": [],
   "source": [
    "print mylist[1]"
   ]
  },
  {
   "cell_type": "code",
   "execution_count": null,
   "metadata": {
    "collapsed": false
   },
   "outputs": [],
   "source": [
    "mylist = ['couple','3','3a',1,5,2,2.4,'c','0'] # note '3' is a string\n",
    "a = mylist.sort()\n",
    "# print a, mylist\n",
    "print a \n",
    "print mylist "
   ]
  },
  {
   "cell_type": "code",
   "execution_count": null,
   "metadata": {
    "collapsed": false
   },
   "outputs": [],
   "source": [
    "# sort() function will sort the list in ascending order. \n",
    "# If reverse = True is specified then it will sort the list on descending order\n",
    "mylist.sort(reverse=True)\n",
    "print mylist"
   ]
  },
  {
   "cell_type": "code",
   "execution_count": null,
   "metadata": {
    "collapsed": false
   },
   "outputs": [],
   "source": [
    "# for list of lists, sort command sorts the lists with respect to the first element \n",
    "# in the lists\n",
    "a = [[10,3],[5,2]]\n",
    "a.sort()\n",
    "print a"
   ]
  },
  {
   "cell_type": "code",
   "execution_count": null,
   "metadata": {
    "collapsed": false
   },
   "outputs": [],
   "source": [
    "b = [['q', 'a'], ['dog','cat']]\n",
    "b.sort()\n",
    "print b"
   ]
  },
  {
   "cell_type": "code",
   "execution_count": null,
   "metadata": {
    "collapsed": false
   },
   "outputs": [],
   "source": [
    "mylist = [2,3,2,5,6,6,6]\n",
    "print mylist.count(3) \n",
    "m = ['apple', 'cat', 'cat', 'sat']\n",
    "print m.count('cat')\n",
    "#count will return the frequency of occurance of a particular value in the list"
   ]
  },
  {
   "cell_type": "code",
   "execution_count": null,
   "metadata": {
    "collapsed": false
   },
   "outputs": [],
   "source": [
    "newlist = set(mylist)\n",
    "print newlist, type(newlist)\n",
    "newlist = list(set(mylist))\n",
    "print newlist"
   ]
  },
  {
   "cell_type": "code",
   "execution_count": null,
   "metadata": {
    "collapsed": false
   },
   "outputs": [],
   "source": [
    "d = dict(a=1, b=2, e=1, d=2, c=1, g=2, f=3)\n",
    "print d\n",
    "for items in d.iteritems():\n",
    "    print items\n",
    "a1 = {1:'a',2:'b'}\n",
    "print a1"
   ]
  },
  {
   "cell_type": "code",
   "execution_count": null,
   "metadata": {
    "collapsed": false
   },
   "outputs": [],
   "source": [
    "# EXTEND METHOD\n",
    "mylist = [1,2,3]\n",
    "newl = [4,5,6]\n",
    "#mylist.append(newl)\n",
    "mylist.extend(newl)\n",
    "print mylist"
   ]
  },
  {
   "cell_type": "code",
   "execution_count": null,
   "metadata": {
    "collapsed": false
   },
   "outputs": [],
   "source": [
    "mylist = [1,2,3]\n",
    "bylist = mylist\n",
    "mylist.extend([4,5,6])\n",
    "print mylist\n",
    "print bylist\n",
    "#print \"mylist extend\",mylist_copy1\n",
    "#print mylist,len(mylist)"
   ]
  },
  {
   "cell_type": "code",
   "execution_count": null,
   "metadata": {
    "collapsed": false
   },
   "outputs": [],
   "source": [
    "a = 8\n",
    "b = a\n",
    "a += 1\n",
    "print a\n",
    "print b\n",
    "\n",
    "list1 = [1, 2, 3]\n",
    "list2 = list1\n",
    "list1.append(4)\n",
    "print list1\n",
    "print list2"
   ]
  },
  {
   "cell_type": "code",
   "execution_count": null,
   "metadata": {
    "collapsed": false
   },
   "outputs": [],
   "source": [
    "# What is wrong with the next two statements?\n",
    "mylist = [1,2,3]\n",
    "mylist_copy = mylist\n",
    "print mylist\n",
    "print mylist_copy\n",
    "mylist_copy.append([4,5,6])\n",
    "#print \"mylist append\",mylist_copy\n",
    "print mylist,len(mylist)\n",
    "print mylist_copy,len(mylist_copy)\n",
    "# len(object) will return the number of items of an object"
   ]
  },
  {
   "cell_type": "code",
   "execution_count": null,
   "metadata": {
    "collapsed": false
   },
   "outputs": [],
   "source": [
    "'''\n",
    "Note 1: mylist.append([4,5,6]) will add this list to the end of mylist. Whereas \n",
    "mylist.extend([4,5,6]) will add values 4, 5 and 6 to mylist.\n",
    "\n",
    "Note 2: mylist_copy1 is a copy of mylist. Any changes to mylist_copy1 will also \n",
    "affect mylist because the copy we made is a shallow copy.\n",
    "'''"
   ]
  },
  {
   "cell_type": "code",
   "execution_count": null,
   "metadata": {
    "collapsed": false
   },
   "outputs": [],
   "source": [
    "#### DEEP COPY\n",
    "mylist = [5,9,3]\n",
    "mylist_copy2 = mylist[:]\n",
    "mylist_copy2.append([11,2,3])\n",
    "mylist.sort()\n",
    "#mylist_copy2.sort()\n",
    "print mylist\n",
    "print mylist_copy2\n",
    "#print \"mylist append\", mylist_copy2\n",
    "#print mylist, len(mylist)"
   ]
  },
  {
   "cell_type": "code",
   "execution_count": null,
   "metadata": {
    "collapsed": false
   },
   "outputs": [],
   "source": [
    "'''\n",
    "Note: mylist_copy2 is a deep copy of mylist so any changes to mylist_copy2 will \n",
    "not affect mylist and vice versa.\n",
    "'''"
   ]
  },
  {
   "cell_type": "raw",
   "metadata": {},
   "source": [
    "# filter(), map(), and reduce()"
   ]
  },
  {
   "cell_type": "code",
   "execution_count": null,
   "metadata": {
    "collapsed": false
   },
   "outputs": [],
   "source": [
    "for i in range(2,10):\n",
    "    print i%2\n",
    "    if i%2!=0:\n",
    "        print i"
   ]
  },
  {
   "cell_type": "code",
   "execution_count": null,
   "metadata": {
    "collapsed": false
   },
   "outputs": [],
   "source": [
    "# Get all odd numbers between 2 and 10\n",
    "a = range(2,10)\n",
    "print a\n",
    "\n",
    "def f(x): \n",
    "    return x % 2 != 0\n",
    "\n",
    "b = filter(f, a) \n",
    "# filter command takes two inputs one is a function and other one is iterable\n",
    "# filter returns a list of values that satisfies the condition, \n",
    "# in this case it returns all the values between 2 and 9 that \n",
    "# are NOT divisible by 2. \n",
    "print b"
   ]
  },
  {
   "cell_type": "code",
   "execution_count": null,
   "metadata": {
    "collapsed": false
   },
   "outputs": [],
   "source": [
    "# Get all odd numbers between 2 and 10 using LAMBDA FUNCTIONS\n",
    "a = range(2,10)\n",
    "b = filter(lambda x:x%2!=0, a) \n",
    "# We replaced the function f with a lambda function (also known as anonymous function)\n",
    "# The lambda function needs to be read as follows\n",
    "# The x to the left of the : is the argument to the function\n",
    "# The expression x%2!=0 to the right of : is the operation being performed inside the function\n",
    "# and also the value being returned by the function.\n",
    "print b"
   ]
  },
  {
   "cell_type": "code",
   "execution_count": null,
   "metadata": {
    "collapsed": false
   },
   "outputs": [],
   "source": [
    "def squared(x): \n",
    "    return x*x\n",
    "\n",
    "print map(squared, range(1, 5)) \n",
    "'''\n",
    "map command takes a function and iterable(s). In this case one input is \n",
    "the function and other input is the values. Map returns a list which is the \n",
    "output of the function. In this case it returns the squares of the values \n",
    "from 1 to 4. Map takes a set of values and returns another set of values \n",
    "based on the function.\n",
    "'''"
   ]
  },
  {
   "cell_type": "code",
   "execution_count": 1,
   "metadata": {
    "collapsed": false
   },
   "outputs": [
    {
     "name": "stdout",
     "output_type": "stream",
     "text": [
      "[1, 4, 9, 16]\n",
      "[2, 4, 6, 8, 10, 12, 14, 16, 18, 20]\n",
      "[5, 6, 7, 8, 9]\n"
     ]
    }
   ],
   "source": [
    "# LAMBDA function - anonymous functions\n",
    "# lambda (input1, input2) : output\n",
    "# An equivalent function is the squared function list above\n",
    "print map(lambda x:x*x, range(1, 5))\n",
    "print map(lambda x:x+x, range(1, 11)) \n",
    "print range(5,10)"
   ]
  },
  {
   "cell_type": "code",
   "execution_count": null,
   "metadata": {
    "collapsed": false
   },
   "outputs": [],
   "source": [
    "# You can also give a name to the lambda function\n",
    "lambdasq = lambda x:x*x\n",
    "print map(lambdasq, range(1, 5)) "
   ]
  },
  {
   "cell_type": "code",
   "execution_count": null,
   "metadata": {
    "collapsed": false
   },
   "outputs": [],
   "source": [
    "a = [1,2,3]\n",
    "b = [4,5,6]\n",
    "def add(a1, b1): return a1+b1\n",
    "map(add,a,b)\n",
    "# here map takes two lists and adds them"
   ]
  },
  {
   "cell_type": "code",
   "execution_count": null,
   "metadata": {
    "collapsed": false
   },
   "outputs": [],
   "source": [
    "# Reduce operation is used to shrink an iterable to a single value\n",
    "# Find the sum of all elements in a list\n",
    "a = [1,2,5]\n",
    "reduce(lambda x,y: x+y, a)"
   ]
  },
  {
   "cell_type": "code",
   "execution_count": null,
   "metadata": {
    "collapsed": false
   },
   "outputs": [],
   "source": [
    "a = [1,2,5]\n",
    "reduce(lambda x,y: x*y , a)"
   ]
  },
  {
   "cell_type": "code",
   "execution_count": null,
   "metadata": {
    "collapsed": false
   },
   "outputs": [],
   "source": [
    "## LIST COMPREHENSION"
   ]
  },
  {
   "cell_type": "code",
   "execution_count": 2,
   "metadata": {
    "collapsed": false
   },
   "outputs": [
    {
     "name": "stdout",
     "output_type": "stream",
     "text": [
      "[0, 1, 4, 9, 16, 25, 36, 49, 64, 81]\n"
     ]
    }
   ],
   "source": [
    "# traditional method\n",
    "squares = []\n",
    "for x in range(10):\n",
    "    squares.append(x**2)\n",
    "print squares"
   ]
  },
  {
   "cell_type": "code",
   "execution_count": null,
   "metadata": {
    "collapsed": false
   },
   "outputs": [],
   "source": [
    "# smart method using list comprehension\n",
    "squares = [x**2 for x in range(32)]\n",
    "print squares"
   ]
  },
  {
   "cell_type": "code",
   "execution_count": null,
   "metadata": {
    "collapsed": false
   },
   "outputs": [],
   "source": [
    "x = 1\n",
    "for f in range(0,63):\n",
    "    x = 2*x\n",
    "    print x"
   ]
  },
  {
   "cell_type": "code",
   "execution_count": 1,
   "metadata": {
    "collapsed": false
   },
   "outputs": [
    {
     "name": "stdout",
     "output_type": "stream",
     "text": [
      "[(2, 1), (3, 1), (4, 3), (4, 1)]\n"
     ]
    }
   ],
   "source": [
    "# an elaborate example of list comprehension which combines two lists and \n",
    "# returns a list of tuples\n",
    "combined = [(x, y) for x in [1,2,3,4] for y in [3,1,4] if x != y and x>y]\n",
    "print combined"
   ]
  },
  {
   "cell_type": "code",
   "execution_count": null,
   "metadata": {
    "collapsed": false
   },
   "outputs": [],
   "source": [
    "'''\n",
    "Tuple is a collection of immutable Python elements. That means we cannot \n",
    "delete, add or modify elements in a tuple. The syntax for a tuple is \n",
    "a = (item1,item2,item3,).  \n",
    "'''"
   ]
  },
  {
   "cell_type": "code",
   "execution_count": null,
   "metadata": {
    "collapsed": false
   },
   "outputs": [],
   "source": [
    "T1 = 1,2,'String'\n",
    "# Here Python will automatically assumes T1 is a tuple\n",
    "print T1"
   ]
  },
  {
   "cell_type": "code",
   "execution_count": 4,
   "metadata": {
    "collapsed": false
   },
   "outputs": [
    {
     "name": "stdout",
     "output_type": "stream",
     "text": [
      "()\n"
     ]
    }
   ],
   "source": [
    "emptyTuple = ()\n",
    "print emptyTuple"
   ]
  },
  {
   "cell_type": "code",
   "execution_count": null,
   "metadata": {
    "collapsed": false
   },
   "outputs": [],
   "source": [
    "T2 = (1,2,)\n",
    "# without the comma, T2 will be of type integer and not tuple\n",
    "print T2,type(T2)"
   ]
  },
  {
   "cell_type": "code",
   "execution_count": null,
   "metadata": {
    "collapsed": false
   },
   "outputs": [],
   "source": [
    "T2 = T2+1 # Not allowed, as tuple cannot be modified\n",
    "print T2,type(T2)"
   ]
  },
  {
   "cell_type": "code",
   "execution_count": null,
   "metadata": {
    "collapsed": false
   },
   "outputs": [],
   "source": [
    "T3 = T1,T2 # T3 is a tuple of tuples\n",
    "print T3\n",
    "print T3[0]\n",
    "print T3[0][1] \n",
    "# 0 index indicates the first tuple and 1 index indicates the \n",
    "# second element in the first tuple"
   ]
  },
  {
   "cell_type": "code",
   "execution_count": null,
   "metadata": {
    "collapsed": false
   },
   "outputs": [],
   "source": [
    "T3[0][0]=2 # New values cannot be assigned"
   ]
  },
  {
   "cell_type": "code",
   "execution_count": null,
   "metadata": {
    "collapsed": false
   },
   "outputs": [],
   "source": [
    "t  = (1,2,3)\n",
    "def squared(x): return x*x\n",
    "map(squared, t) \n",
    "# map operation on a tuple. This returns a list. Note map function always \n",
    "# returns a list, even if the input is not a list. "
   ]
  },
  {
   "cell_type": "code",
   "execution_count": null,
   "metadata": {
    "collapsed": false
   },
   "outputs": [],
   "source": [
    "t  = (1,2,3)\n",
    "print t,type(t)\n",
    "l = list(t)\n",
    "print l,type(l)\n",
    "t2 = tuple(l)\n",
    "print t2, type(t2)"
   ]
  },
  {
   "cell_type": "code",
   "execution_count": null,
   "metadata": {
    "collapsed": false
   },
   "outputs": [],
   "source": [
    "B = (1,) # B is a tuple with one element\n",
    "B = (1,2,) # a new tuple named B is created which has two elements\n",
    "B = () # a new tuple named B is created with no elements\n",
    "print B"
   ]
  },
  {
   "cell_type": "code",
   "execution_count": null,
   "metadata": {
    "collapsed": false
   },
   "outputs": [],
   "source": [
    "A = (2,4,5,8,10,11)\n",
    "B = ('CA', 'MN', 'TX')\n",
    "C = A + B # + operation concatenates the tuples\n",
    "print C"
   ]
  },
  {
   "cell_type": "code",
   "execution_count": null,
   "metadata": {
    "collapsed": false
   },
   "outputs": [],
   "source": [
    "# Basic tuple operations\n",
    "print len(A) \n",
    "print max(B)\n",
    "print min(B)"
   ]
  },
  {
   "cell_type": "code",
   "execution_count": null,
   "metadata": {
    "collapsed": false
   },
   "outputs": [],
   "source": [
    "# Basic tuple operations\n",
    "H = ('Hello',)\n",
    "print H*4 # * means repetition"
   ]
  },
  {
   "cell_type": "code",
   "execution_count": null,
   "metadata": {
    "collapsed": false
   },
   "outputs": [],
   "source": [
    "# Basic tuple operations\n",
    "serial1 = ('Belize','Costa Rica','Guatemala')\n",
    "serial2 =['Ecuador', 'Belize','Nicaragua']\n",
    "print cmp(serial1,serial1)\n",
    "print cmp(serial1,serial2)\n",
    "print tuple(serial1)"
   ]
  },
  {
   "cell_type": "code",
   "execution_count": null,
   "metadata": {
    "collapsed": false
   },
   "outputs": [],
   "source": [
    "'''\n",
    "Inclass activity: Consider the tuple t1 = (2,4,8). \n",
    "1. Try to modify the first element of the tuple to 5. \n",
    "2. Convert the tuple into a list and append the number 5 to the list\n",
    "3. Use extend to add [1,4,5] to the list\n",
    "4. Pop the third item from the list and then print the list.\n",
    "5. Convert it back into a tuple. \n",
    "'''"
   ]
  },
  {
   "cell_type": "code",
   "execution_count": 23,
   "metadata": {
    "collapsed": false
   },
   "outputs": [
    {
     "name": "stdout",
     "output_type": "stream",
     "text": [
      "Original tuple : (2, 4, 8)\n",
      "New tuple t1:  (3, 4, 8)\n",
      "List from the tuple:  [3, 4, 8]\n",
      "New item appended to l1 list:  [3, 4, 8, 5]\n",
      "Extending list:  [3, 4, 8, 5, 1, 4, 5]\n",
      "Pop third item:  [3, 4, 5, 1, 4, 5]\n",
      "Tuple of l1 : (3, 4, 5, 1, 4, 5)\n"
     ]
    }
   ],
   "source": [
    "t1 = (2, 4, 8, )\n",
    "print 'Original tuple :',t1\n",
    "#t1[0] = 5 - Error\n",
    "t1 = (3,4,8,)\n",
    "print 'New tuple t1: ',t1\n",
    "l1 = list(t1)\n",
    "print 'List from the tuple: ',l1\n",
    "l1.append(5)\n",
    "print 'New item appended to l1 list: ',l1 \n",
    "l2 = [1,4,5]\n",
    "l1.extend(l2)\n",
    "print 'Extending list: ',l1\n",
    "l1.pop(2)\n",
    "print 'Pop third item: ',l1\n",
    "t2 = tuple(l1)\n",
    "print 'Tuple of l1 :',t2"
   ]
  },
  {
   "cell_type": "code",
   "execution_count": null,
   "metadata": {
    "collapsed": false
   },
   "outputs": [],
   "source": [
    "'''\n",
    "Dictionary is another useful data type built into Python is the dictionary \n",
    "(see Mapping Types — dict). Dictionaries are sometimes found in other languages \n",
    "as “associative memories” or “associative arrays”. Unlike sequences, which are \n",
    "indexed by a range of numbers, dictionaries are indexed by keys, \n",
    "which can be any immutable type; strings and numbers can always be keys. \n",
    "Tuples can be used as keys if they contain only strings, numbers, or tuples; \n",
    "if a tuple contains any mutable object either directly or indirectly, it cannot be \n",
    "used as a key. You can’t use lists as keys, since lists can be modified in place \n",
    "using index assignments, slice assignments, or methods like append() and extend(). \n",
    "https://docs.python.org/2/tutorial/datastructures.html#tuples-and-sequences\n",
    "'''"
   ]
  },
  {
   "cell_type": "code",
   "execution_count": 25,
   "metadata": {
    "collapsed": false
   },
   "outputs": [
    {
     "name": "stdout",
     "output_type": "stream",
     "text": [
      "{}\n"
     ]
    }
   ],
   "source": [
    "ziploc = {}\n",
    "print ziploc"
   ]
  },
  {
   "cell_type": "code",
   "execution_count": 27,
   "metadata": {
    "collapsed": false
   },
   "outputs": [
    {
     "name": "stdout",
     "output_type": "stream",
     "text": [
      "Santa Clara\n",
      "{'95054': 'Santa Clara', '95117': 'Santa Clara'}\n"
     ]
    }
   ],
   "source": [
    "#print ziploc['95117']\n",
    "ziploc['95117'] = 'Santa Clara'\n",
    "print ziploc['95117']\n",
    "ziploc['95054'] = 'Santa Clara'\n",
    "print ziploc"
   ]
  },
  {
   "cell_type": "code",
   "execution_count": 28,
   "metadata": {
    "collapsed": false
   },
   "outputs": [
    {
     "name": "stdout",
     "output_type": "stream",
     "text": [
      "{'95117': 'San Jose', '95014': 'Cupertino', '94086': 'Sunnyvale'}\n",
      "['95117', '95014', '94086']\n",
      "('95117', '95014', '94086')\n",
      "['San Jose', 'Cupertino', 'Sunnyvale']\n"
     ]
    }
   ],
   "source": [
    "# syntax for a dictionary is dict = {'key1': 'value1', 'key2': 'value2'}\n",
    "# dict is a key-value pair\n",
    "ziploc = {'95117': 'San Jose','94086':'Sunnyvale','95014': 'Cupertino'}\n",
    "# in this example for key 95117, San Jose is the value, \n",
    "# for key 94086, Sunnyvale is the value\n",
    "print ziploc\n",
    "print ziploc.keys()\n",
    "print tuple(ziploc.keys())\n",
    "print ziploc.values()"
   ]
  },
  {
   "cell_type": "code",
   "execution_count": 29,
   "metadata": {
    "collapsed": false
   },
   "outputs": [
    {
     "name": "stdout",
     "output_type": "stream",
     "text": [
      "95117 San Jose\n",
      "95014 Cupertino\n",
      "94086 Sunnyvale\n"
     ]
    }
   ],
   "source": [
    "for keys in ziploc:\n",
    "    print keys,ziploc[keys]"
   ]
  },
  {
   "cell_type": "code",
   "execution_count": null,
   "metadata": {
    "collapsed": false
   },
   "outputs": [],
   "source": [
    "for keys,value in ziploc.iteritems(): # Use .items() for version 3.0+\n",
    "    print keys,value"
   ]
  },
  {
   "cell_type": "code",
   "execution_count": 30,
   "metadata": {
    "collapsed": false
   },
   "outputs": [
    {
     "ename": "KeyError",
     "evalue": "'55421'",
     "output_type": "error",
     "traceback": [
      "\u001b[1;31m---------------------------------------------------------------------------\u001b[0m",
      "\u001b[1;31mKeyError\u001b[0m                                  Traceback (most recent call last)",
      "\u001b[1;32m<ipython-input-30-a0eaac5a05a6>\u001b[0m in \u001b[0;36m<module>\u001b[1;34m()\u001b[0m\n\u001b[1;32m----> 1\u001b[1;33m \u001b[0mziploc\u001b[0m\u001b[1;33m[\u001b[0m\u001b[1;34m'55421'\u001b[0m\u001b[1;33m]\u001b[0m \u001b[1;31m# Not allowed, as the dictionary does not have key 55421\u001b[0m\u001b[1;33m\u001b[0m\u001b[0m\n\u001b[0m",
      "\u001b[1;31mKeyError\u001b[0m: '55421'"
     ]
    }
   ],
   "source": [
    "ziploc['55421'] # Not allowed, as the dictionary does not have key 55421"
   ]
  },
  {
   "cell_type": "code",
   "execution_count": 31,
   "metadata": {
    "collapsed": false
   },
   "outputs": [
    {
     "name": "stdout",
     "output_type": "stream",
     "text": [
      "True\n"
     ]
    }
   ],
   "source": [
    "exists = False\n",
    "for k,v in ziploc.iteritems():\n",
    "    if k == '95117':\n",
    "        exists = True\n",
    "        break\n",
    "print exists"
   ]
  },
  {
   "cell_type": "code",
   "execution_count": 32,
   "metadata": {
    "collapsed": false
   },
   "outputs": [
    {
     "data": {
      "text/plain": [
       "False"
      ]
     },
     "execution_count": 32,
     "metadata": {},
     "output_type": "execute_result"
    }
   ],
   "source": [
    "'55421' in ziploc"
   ]
  },
  {
   "cell_type": "code",
   "execution_count": 33,
   "metadata": {
    "collapsed": false
   },
   "outputs": [
    {
     "data": {
      "text/plain": [
       "[('95117', 'San Jose'), ('95014', 'Cupertino'), ('94086', 'Sunnyvale')]"
      ]
     },
     "execution_count": 33,
     "metadata": {},
     "output_type": "execute_result"
    }
   ],
   "source": [
    "ziploc.items() # dict.items() returns a list of (key,value) tuple pairs"
   ]
  },
  {
   "cell_type": "code",
   "execution_count": 34,
   "metadata": {
    "collapsed": false
   },
   "outputs": [
    {
     "name": "stdout",
     "output_type": "stream",
     "text": [
      "{}\n"
     ]
    }
   ],
   "source": [
    "ziploc.clear() # removes all the elements of the dictionary\n",
    "print ziploc"
   ]
  },
  {
   "cell_type": "code",
   "execution_count": 37,
   "metadata": {
    "collapsed": false
   },
   "outputs": [
    {
     "name": "stdout",
     "output_type": "stream",
     "text": [
      "{0: 0, 1: 1, 2: 4, 3: 9, 4: 16}\n",
      "<type 'dict'>\n"
     ]
    }
   ],
   "source": [
    "squared = {x: x**2 for x in range(5)}\n",
    "# we are using dictionary comprehension \n",
    "print squared\n",
    "print type(squared)"
   ]
  },
  {
   "cell_type": "code",
   "execution_count": 38,
   "metadata": {
    "collapsed": false
   },
   "outputs": [
    {
     "data": {
      "text/plain": [
       "1"
      ]
     },
     "execution_count": 38,
     "metadata": {},
     "output_type": "execute_result"
    }
   ],
   "source": [
    "mylist = [2,3,2,5,6,6,6]\n",
    "mylist.count(3) "
   ]
  },
  {
   "cell_type": "code",
   "execution_count": 39,
   "metadata": {
    "collapsed": false
   },
   "outputs": [
    {
     "name": "stdout",
     "output_type": "stream",
     "text": [
      "2\n",
      "3\n",
      "2\n",
      "5\n",
      "6\n",
      "6\n",
      "6\n",
      "{2: 2, 3: 1, 5: 1, 6: 3}\n"
     ]
    }
   ],
   "source": [
    "countdict = {}\n",
    "for items in mylist:\n",
    "    print items\n",
    "    countdict[items] = mylist.count(items)\n",
    "print countdict"
   ]
  },
  {
   "cell_type": "code",
   "execution_count": null,
   "metadata": {
    "collapsed": false
   },
   "outputs": [],
   "source": [
    "'''\n",
    "Set - is a unordered collection of unique items\n",
    "'''"
   ]
  },
  {
   "cell_type": "code",
   "execution_count": 40,
   "metadata": {
    "collapsed": false
   },
   "outputs": [
    {
     "name": "stdout",
     "output_type": "stream",
     "text": [
      "['tomatoes', 'eggplant', 'cucumber', 'eggplant'] set(['cucumber', 'eggplant', 'tomatoes'])\n"
     ]
    }
   ],
   "source": [
    "vegetables = ['tomatoes','eggplant','cucumber','eggplant'] # A list\n",
    "vegetables_set = set(vegetables)\n",
    "# set command returns only unique items\n",
    "print vegetables,vegetables_set"
   ]
  },
  {
   "cell_type": "code",
   "execution_count": 41,
   "metadata": {
    "collapsed": false
   },
   "outputs": [
    {
     "data": {
      "text/plain": [
       "'cucumber'"
      ]
     },
     "execution_count": 41,
     "metadata": {},
     "output_type": "execute_result"
    }
   ],
   "source": [
    "a = list(vegetables_set)\n",
    "# vegetables_set[0] # Not allowed as set cannot be indexed. You can iterate \n",
    "# through them.\n",
    "a[0]"
   ]
  },
  {
   "cell_type": "code",
   "execution_count": 42,
   "metadata": {
    "collapsed": false
   },
   "outputs": [
    {
     "name": "stdout",
     "output_type": "stream",
     "text": [
      "tomatoes\n",
      "eggplant\n",
      "cucumber\n",
      "eggplant\n"
     ]
    }
   ],
   "source": [
    "for items in vegetables:\n",
    "    print items "
   ]
  },
  {
   "cell_type": "code",
   "execution_count": null,
   "metadata": {
    "collapsed": false
   },
   "outputs": [],
   "source": [
    "for items in vegetables_set:\n",
    "    print items "
   ]
  },
  {
   "cell_type": "code",
   "execution_count": null,
   "metadata": {
    "collapsed": false
   },
   "outputs": [],
   "source": [
    "print 'Cucumber' in vegetables_set \n",
    "# the above statement checks whether Cucumber is in vegetables_set"
   ]
  },
  {
   "cell_type": "code",
   "execution_count": null,
   "metadata": {
    "collapsed": false
   },
   "outputs": [],
   "source": [
    "finallistofveg = list(vegetables_set)\n",
    "print finallistofveg"
   ]
  },
  {
   "cell_type": "code",
   "execution_count": null,
   "metadata": {
    "collapsed": false
   },
   "outputs": [],
   "source": [
    "a = [1,1,4,5,7]\n",
    "print type(a), a\n",
    "b = set(a)\n",
    "c = list(b)\n",
    "print c\n",
    "\n",
    "list(set(a))"
   ]
  },
  {
   "cell_type": "code",
   "execution_count": null,
   "metadata": {
    "collapsed": false
   },
   "outputs": [],
   "source": [
    "'''\n",
    "From https://docs.python.org/2/library/sets.html, you can obtain a list of all operators that can \n",
    "be applied to sets\n",
    "len(s): cardinality of set s\n",
    "x in s: tests x for membership in s\n",
    "x not in s: tests x for non-membership in s\n",
    "s.issubset(t): <= t: test whether every element in s is in t\n",
    "s.issuperset(t): s >= t: test whether every element in t is in s\n",
    "s.union(t): s | t : new set with elements from both s and t\n",
    "s.intersection(t): s & t : new set with elements common to s and t\n",
    "s.difference(t): s - t : new set with elements in s but not in t\n",
    "s.symmetric_difference(t) : s ^ t : new set with elements in either s or t but not both\n",
    "s.copy(): new set with a shallow copy of s\n",
    "'''"
   ]
  },
  {
   "cell_type": "code",
   "execution_count": 43,
   "metadata": {
    "collapsed": false
   },
   "outputs": [
    {
     "name": "stdout",
     "output_type": "stream",
     "text": [
      "set([1, 2, 3, 76, 45]) set([2, 3, 45])\n",
      "set([1, 2, 3, 76, 45])\n",
      "set([2, 3, 45])\n",
      "set([1, 76])\n",
      "True\n",
      "False\n"
     ]
    }
   ],
   "source": [
    "list1 = [1,2,3,45,76]\n",
    "list2 = [2,3,45]\n",
    "set1 = set(list1)\n",
    "set2 = set(list2)\n",
    "print set1,set2\n",
    "\n",
    "print set1.union(set2)\n",
    "print set1.intersection(set2)\n",
    "print set1.difference(set2)\n",
    "print 1 in set1 # Check if an element exists in a set using in keyword\n",
    "print set1.issubset(set2) "
   ]
  },
  {
   "cell_type": "code",
   "execution_count": 44,
   "metadata": {
    "collapsed": false
   },
   "outputs": [
    {
     "name": "stdout",
     "output_type": "stream",
     "text": [
      "[5, 5, 5, 6, 7, 5, 5, 4, 5, 1]\n",
      "set([1, 4, 5, 6, 7])\n"
     ]
    }
   ],
   "source": [
    "mylist = [5, 5, 5, 6, 7, 5, 5, 4, 5, 1]\n",
    "myset = set(mylist)\n",
    "print mylist\n",
    "print myset"
   ]
  },
  {
   "cell_type": "code",
   "execution_count": null,
   "metadata": {
    "collapsed": false
   },
   "outputs": [],
   "source": [
    "countdict = {}\n",
    "uniqlist = list(set(mylist))\n",
    "for items in uniqlist:\n",
    "    print items\n",
    "    countdict[items] = mylist.count(items)\n",
    "print countdict"
   ]
  },
  {
   "cell_type": "code",
   "execution_count": 1,
   "metadata": {
    "collapsed": false
   },
   "outputs": [
    {
     "name": "stdout",
     "output_type": "stream",
     "text": [
      "{'Alejandro': 30, 'Fernando': 32}\n"
     ]
    }
   ],
   "source": [
    "port_stats = {'Fernando': 32}\n",
    "port_stats['Alejandro'] = 30\n",
    "print port_stats\n",
    "\n"
   ]
  },
  {
   "cell_type": "code",
   "execution_count": null,
   "metadata": {
    "collapsed": true
   },
   "outputs": [],
   "source": [
    "empty_list "
   ]
  }
 ],
 "metadata": {
  "kernelspec": {
   "display_name": "Python 2",
   "language": "python",
   "name": "python2"
  },
  "language_info": {
   "codemirror_mode": {
    "name": "ipython",
    "version": 2
   },
   "file_extension": ".py",
   "mimetype": "text/x-python",
   "name": "python",
   "nbconvert_exporter": "python",
   "pygments_lexer": "ipython2",
   "version": "2.7.11"
  }
 },
 "nbformat": 4,
 "nbformat_minor": 0
}
