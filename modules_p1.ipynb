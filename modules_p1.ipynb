{
 "cells": [
  {
   "cell_type": "code",
   "execution_count": null,
   "metadata": {
    "collapsed": false
   },
   "outputs": [],
   "source": [
    "'''\n",
    "File IO\n",
    "1. using module os\n",
    "2. using module csv\n",
    "3. using module xlrd\n",
    "4. using context manager (with keyword)\n",
    "5. walking a directory and all its sub-directories\n",
    "'''"
   ]
  },
  {
   "cell_type": "code",
   "execution_count": 3,
   "metadata": {
    "collapsed": false
   },
   "outputs": [
    {
     "name": "stdout",
     "output_type": "stream",
     "text": [
      "apple\n",
      "orange\n",
      "pineapple\n"
     ]
    }
   ],
   "source": [
    "# syntax for file open is open(file_name,mode)\n",
    "# http://www.tutorialspoint.com/python/python_files_io.htm\n",
    "fo = open('python_list.txt', 'r')\n",
    "# the above statement opens python_list.txt file in the read mode and is assigned a file \n",
    "# object fo readlines() function reads one line at a time from the file\n",
    "# syntax is file_object.readlines()\n",
    "for items in fo.readlines():\n",
    "    print items.strip()\n",
    "fo.close() # remember to close the file"
   ]
  },
  {
   "cell_type": "code",
   "execution_count": 4,
   "metadata": {
    "collapsed": false
   },
   "outputs": [
    {
     "name": "stdout",
     "output_type": "stream",
     "text": [
      "apple\n",
      "orange\n",
      "pineapple\n"
     ]
    }
   ],
   "source": [
    "f = open('python_list.txt','r')\n",
    "for i in f.readlines():\n",
    "    print i.strip()\n",
    "f.close()"
   ]
  },
  {
   "cell_type": "code",
   "execution_count": null,
   "metadata": {
    "collapsed": false
   },
   "outputs": [],
   "source": [
    "fo = open('python_list.txt', 'r')\n",
    "print fo.readlines()\n",
    "# fo.readlines is a list of string where each item in the list\n",
    "# is a string.\n",
    "# Why does the for-loop not produce any output ???\n",
    "for items in fo.readlines():\n",
    "    print 'inside for-loop',items\n",
    "fo.close()"
   ]
  },
  {
   "cell_type": "code",
   "execution_count": null,
   "metadata": {
    "collapsed": false
   },
   "outputs": [],
   "source": [
    "# Writing a file\n",
    "fo = open('python_list1.txt', 'w+') # here the text file is opened in write and read mode. \n",
    "fo.writelines('1,2,3\\n')\n",
    "print fo\n",
    "fo.close()"
   ]
  },
  {
   "cell_type": "code",
   "execution_count": null,
   "metadata": {
    "collapsed": false
   },
   "outputs": [],
   "source": [
    "fo = open('python_list1.txt', 'r')\n",
    "for items in fo.readlines():\n",
    "    print items.strip()\n",
    "fo.close()"
   ]
  },
  {
   "cell_type": "code",
   "execution_count": null,
   "metadata": {
    "collapsed": false
   },
   "outputs": [],
   "source": [
    "# The with keyword is called the context manager\n",
    "# It will close the file whether or not there is an exception\n",
    "with open('python_list1.txt', 'r') as fo:\n",
    "    for items in fo.readlines():\n",
    "        print items.strip()\n",
    "# close does not have to be called exclusively "
   ]
  },
  {
   "cell_type": "code",
   "execution_count": null,
   "metadata": {
    "collapsed": false
   },
   "outputs": [],
   "source": [
    "import csv\n",
    "with open('exgrade.csv', 'r') as fo:\n",
    "    alllines = csv.reader(fo,delimiter=',')\n",
    "    for lines in alllines:\n",
    "        print lines"
   ]
  },
  {
   "cell_type": "code",
   "execution_count": null,
   "metadata": {
    "collapsed": false
   },
   "outputs": [],
   "source": [
    "'''\n",
    "XLRD \n",
    "http://www.python-excel.org/\n",
    "http://www.youlikeprogramming.com/2012/03/examples-reading-excel-xls-documents-using-pythons-xlrd/\n",
    "'''"
   ]
  },
  {
   "cell_type": "code",
   "execution_count": null,
   "metadata": {
    "collapsed": false
   },
   "outputs": [],
   "source": [
    "# Open an excel file and get all the sheet names\n",
    "import xlrd\n",
    "wb = xlrd.open_workbook('exgrade.xls')\n",
    "print wb.sheet_names()"
   ]
  },
  {
   "cell_type": "code",
   "execution_count": null,
   "metadata": {
    "collapsed": false
   },
   "outputs": [],
   "source": [
    "# In sheet 1, get the number of rows\n",
    "ws = wb.sheet_by_name('Sheet1')\n",
    "print ws.nrows"
   ]
  },
  {
   "cell_type": "code",
   "execution_count": null,
   "metadata": {
    "collapsed": false
   },
   "outputs": [],
   "source": [
    "print ws.row(0) # Get the content of first row as a list\n",
    "print ws.row(0)[1] # Get the second element of the first row list "
   ]
  },
  {
   "cell_type": "code",
   "execution_count": null,
   "metadata": {
    "collapsed": false
   },
   "outputs": [],
   "source": [
    "# xlwt module is used to write into excel file.\n",
    "import xlwt\n",
    "workbook = xlwt.Workbook() \n",
    "sheet = workbook.add_sheet(\"Sheet 1\") \n",
    "\n",
    "#sheet.write(0, 0, 'Adam') # row, column, value\n",
    "\n",
    "g = [['Adam', ' 10034'],\n",
    "['Nitin', ' 10043'],\n",
    "['Rob', ' 10134'],\n",
    "['Sheela', ' 10045']]\n",
    "\n",
    "for i,v in enumerate(g):\n",
    "    print i, v, len(v)\n",
    "    if len(v) >= 2:\n",
    "        sheet.write(i,0,v[0])\n",
    "        sheet.write(i,1,v[1])\n",
    "        \n",
    "workbook.save('Xcel1.xls')"
   ]
  },
  {
   "cell_type": "code",
   "execution_count": null,
   "metadata": {
    "collapsed": false
   },
   "outputs": [],
   "source": [
    "'''\n",
    "Writing to and reading from databases\n",
    "'''"
   ]
  },
  {
   "cell_type": "code",
   "execution_count": 7,
   "metadata": {
    "collapsed": false
   },
   "outputs": [
    {
     "name": "stdout",
     "output_type": "stream",
     "text": [
      "<sqlite3.Cursor object at 0x000000000450BDC0>\n",
      "(u'2006-02-05', u'SELL', u'RHAT', 50.0, 50.25)\n",
      "(u'2006-03-15', u'BUY', u'GOOG', 1000.0, 350.13)\n",
      "(u'2006-10-05', u'BUY', u'GOOG', 100000.0, 400.14)\n",
      "(u'2006-02-05', u'SELL', u'RHAT', 50.0, 50.25)\n",
      "(u'2006-03-15', u'BUY', u'GOOG', 1000.0, 350.13)\n",
      "(u'2006-10-05', u'BUY', u'GOOG', 100000.0, 400.14)\n",
      "(u'2006-02-05', u'SELL', u'RHAT', 50.0, 50.25)\n",
      "(u'2006-03-15', u'BUY', u'GOOG', 1000.0, 350.13)\n",
      "(u'2006-10-05', u'BUY', u'GOOG', 100000.0, 400.14)\n",
      "(u'2006-02-05', u'SELL', u'RHAT', 50.0, 50.25)\n",
      "(u'2006-03-15', u'BUY', u'GOOG', 1000.0, 350.13)\n",
      "(u'2006-10-05', u'BUY', u'GOOG', 100000.0, 400.14)\n",
      "(u'2006-02-05', u'SELL', u'RHAT', 50.0, 50.25)\n",
      "(u'2006-03-15', u'BUY', u'GOOG', 1000.0, 350.13)\n",
      "(u'2006-10-05', u'BUY', u'GOOG', 100000.0, 400.14)\n",
      "(u'2006-02-05', u'SELL', u'RHAT', 50.0, 50.25)\n",
      "(u'2006-03-15', u'BUY', u'GOOG', 1000.0, 350.13)\n",
      "(u'2006-10-05', u'BUY', u'GOOG', 100000.0, 400.14)\n",
      "(u'2006-02-05', u'SELL', u'RHAT', 50.0, 50.25)\n",
      "(u'2006-03-15', u'BUY', u'GOOG', 1000.0, 350.13)\n",
      "(u'2006-10-05', u'BUY', u'GOOG', 100000.0, 400.14)\n",
      "(u'2006-02-05', u'SELL', u'RHAT', 50.0, 50.25)\n",
      "(u'2006-03-15', u'BUY', u'GOOG', 1000.0, 350.13)\n",
      "(u'2006-10-05', u'BUY', u'GOOG', 100000.0, 400.14)\n"
     ]
    }
   ],
   "source": [
    "import sqlite3\n",
    "\n",
    "#Create a connection to sqlite\n",
    "conn = sqlite3.connect('test.db')\n",
    "\n",
    "#Open a cursor\n",
    "c = conn.cursor()\n",
    "\n",
    "#Execute any SQL statement\n",
    "#Create table named \"stocks\" if it does not already exist.\n",
    "c.execute('''create table if not exists stocks (date text, trans text,symbol text, qty real, price real)''')\n",
    "\n",
    "#Add entries\n",
    "c.execute(\"insert into stocks values ('2006-02-05','SELL','RHAT',50,50.25)\")\n",
    "c.execute(\"insert into stocks values ('2006-03-15','BUY','GOOG',1000,350.13)\")\n",
    "c.execute(\"insert into stocks values ('2006-10-05','BUY','GOOG',100000,400.14)\")\n",
    "conn.commit()\n",
    "\n",
    "#Query all the entries in the database\n",
    "alllines = c.execute('select * from stocks')\n",
    "print alllines\n",
    "\n",
    "#Print it\n",
    "for lines in alllines:\n",
    "    print lines\n",
    "\n",
    "c.close()"
   ]
  },
  {
   "cell_type": "code",
   "execution_count": null,
   "metadata": {
    "collapsed": false
   },
   "outputs": [],
   "source": [
    "'''\n",
    "In-class activity - Create a database and call it 'UserSignUp.' In the database create a table called \n",
    "'FirstSignUp' with columns Name, Country, Date, Type. Date should contain information on first login date \n",
    "and type should be paid or free user. \n",
    "Add five entries. Then print out the rows. \n",
    "'''"
   ]
  },
  {
   "cell_type": "code",
   "execution_count": 9,
   "metadata": {
    "collapsed": false
   },
   "outputs": [
    {
     "name": "stdout",
     "output_type": "stream",
     "text": [
      "<sqlite3.Cursor object at 0x0000000004560030>\n",
      "(u'Fernando', u'Venezuela', u'22-MAR-1984', u'Free')\n",
      "(u'Corina', u'Venezuela', u'28-DIC-1984', u'Free')\n"
     ]
    }
   ],
   "source": [
    "'''\n",
    "DIRECTORY LISTING\n",
    "'''\n",
    "import sqlite3\n",
    "\n",
    "conn = sqlite3.connect('UserSignUp.db')\n",
    "\n",
    "c = conn.cursor()\n",
    "\n",
    "c.execute ('''create table if not exists FirstSignUp (Name text , Country text, Date text, Type text)''')\n",
    "\n",
    "c.execute(\"insert into FirstSignUp values ('Fernando','Venezuela','22-MAR-1984','Free')\")\n",
    "c.execute(\"insert into FirstSignUp values ('Corina','Venezuela','28-DIC-1984','Free')\")\n",
    "\n",
    "alllines = c.execute('select * from FirstSignUp')\n",
    "print alllines\n",
    "\n",
    "for lines in alllines:\n",
    "    print lines\n",
    "    \n",
    "c.close()"
   ]
  },
  {
   "cell_type": "code",
   "execution_count": null,
   "metadata": {
    "collapsed": false
   },
   "outputs": [],
   "source": [
    "import os\n",
    "os.listdir(\".\")"
   ]
  },
  {
   "cell_type": "code",
   "execution_count": null,
   "metadata": {
    "collapsed": false
   },
   "outputs": [],
   "source": [
    "import glob\n",
    "print glob.glob(\"*.*\")\n",
    "# glob.glob(_directory_name) will return all the files in a particular directory or folder"
   ]
  },
  {
   "cell_type": "code",
   "execution_count": null,
   "metadata": {
    "collapsed": false
   },
   "outputs": [],
   "source": [
    "print glob.glob(\"*.ipynb\")\n",
    "# in this example it will return all the ipython notebook files in the current directory"
   ]
  },
  {
   "cell_type": "code",
   "execution_count": 10,
   "metadata": {
    "collapsed": false
   },
   "outputs": [],
   "source": [
    "import os\n",
    "# os.walk returns three values - root, directories and files and they are passed to the variables\n",
    "# root, dirs and files respectively.\n",
    "for root, dirs, files in os.walk(\"sridevi/Desktop/\"):\n",
    "    # root, dirs, files\n",
    "    for file in files:\n",
    "        if file.endswith(\".py\"):\n",
    "             print os.path.join(root, file)"
   ]
  },
  {
   "cell_type": "code",
   "execution_count": null,
   "metadata": {
    "collapsed": false
   },
   "outputs": [],
   "source": [
    "import os\n",
    "os.getcwd()"
   ]
  },
  {
   "cell_type": "code",
   "execution_count": 11,
   "metadata": {
    "collapsed": false
   },
   "outputs": [
    {
     "name": "stdout",
     "output_type": "stream",
     "text": [
      "0.707106781187\n"
     ]
    }
   ],
   "source": [
    "# Import all functions in a given module\n",
    "# You have to refer to the module name when \n",
    "# calling the function\n",
    "import math\n",
    "print math.sin(math.pi/4)"
   ]
  },
  {
   "cell_type": "code",
   "execution_count": 12,
   "metadata": {
    "collapsed": false
   },
   "outputs": [
    {
     "name": "stdout",
     "output_type": "stream",
     "text": [
      "0.707106781187\n"
     ]
    }
   ],
   "source": [
    "# Import all functions in a given module\n",
    "# You do not need to refer to the module name when \n",
    "# calling the function\n",
    "from math import *\n",
    "print sin(pi/4)"
   ]
  },
  {
   "cell_type": "code",
   "execution_count": 13,
   "metadata": {
    "collapsed": false
   },
   "outputs": [
    {
     "name": "stdout",
     "output_type": "stream",
     "text": [
      "0.707106781187\n"
     ]
    }
   ],
   "source": [
    "# Give a shortcut name to the module. \n",
    "# Especially true for modules with long names such as matplotlib\n",
    "import math as ma\n",
    "print ma.sin(ma.pi/4)"
   ]
  },
  {
   "cell_type": "code",
   "execution_count": 15,
   "metadata": {
    "collapsed": false
   },
   "outputs": [
    {
     "name": "stdout",
     "output_type": "stream",
     "text": [
      "0.707106781187\n",
      "3.14159265359\n"
     ]
    }
   ],
   "source": [
    "# Only import the necessary functions from a module\n",
    "# This is memory efficient\n",
    "from math import sin,pi\n",
    "print sin(pi/4)\n",
    "print pi"
   ]
  },
  {
   "cell_type": "code",
   "execution_count": 17,
   "metadata": {
    "collapsed": false
   },
   "outputs": [
    {
     "name": "stdout",
     "output_type": "stream",
     "text": [
      "[ 1.  5.  8.  6.]\n",
      "[ 0.5  2.5  4.   3. ]\n"
     ]
    }
   ],
   "source": [
    "import numpy as np\n",
    "a = np.array([1,5,8,6], float)\n",
    "print a\n",
    "c = a/2\n",
    "print c"
   ]
  },
  {
   "cell_type": "code",
   "execution_count": null,
   "metadata": {
    "collapsed": false
   },
   "outputs": [],
   "source": [
    "b = np.array([2,7,3,4], float)\n",
    "print b\n",
    "\n",
    "d = a * b # element by element multiplication \n",
    "print d\n",
    "print np.dot(a,b)"
   ]
  },
  {
   "cell_type": "code",
   "execution_count": null,
   "metadata": {
    "collapsed": false
   },
   "outputs": [],
   "source": [
    "print a.sum()\n",
    "print a.prod()\n",
    "print a.min()\n",
    "print a.max()"
   ]
  },
  {
   "cell_type": "code",
   "execution_count": null,
   "metadata": {
    "collapsed": false
   },
   "outputs": [],
   "source": [
    "print a.mean()\n",
    "print a.var()\n",
    "print np.median(a)"
   ]
  },
  {
   "cell_type": "code",
   "execution_count": null,
   "metadata": {
    "collapsed": false
   },
   "outputs": [],
   "source": [
    "x = np.array(((3,-2), (4,-1)))\n",
    "y = np.array(((8,3), (7,2)))\n",
    "print x*y"
   ]
  },
  {
   "cell_type": "code",
   "execution_count": null,
   "metadata": {
    "collapsed": false
   },
   "outputs": [],
   "source": [
    "x = np.matrix(((3,-2), (4,-1)))\n",
    "y = np.matrix(((8,3), (7,2)))\n",
    "print x*y"
   ]
  },
  {
   "cell_type": "code",
   "execution_count": null,
   "metadata": {
    "collapsed": false
   },
   "outputs": [],
   "source": [
    "# Modules can also have variables associated with them in addition to functions.\n",
    "import sys\n",
    "print sys.argv\n",
    "print sys.float_info"
   ]
  },
  {
   "cell_type": "code",
   "execution_count": null,
   "metadata": {
    "collapsed": false
   },
   "outputs": [],
   "source": [
    "print sys.path\n",
    "print sys.platform\n",
    "print sys.version\n",
    "print sys.winver"
   ]
  },
  {
   "cell_type": "code",
   "execution_count": null,
   "metadata": {
    "collapsed": false
   },
   "outputs": [],
   "source": [
    "'''\n",
    "subprocess module is useful for making calls to the *nix operating system. \n",
    "It will throw an exception on Windows.\n",
    "You need to use the Popen function and pass the command\n",
    "Check documentation in https://docs.python.org/2/library/subprocess.html\n",
    "https://pymotw.com/2/subprocess/\n",
    "Note: This module can only be used on Mac or Linux. \n",
    "You can't run subprocess command on Windows.\n",
    "'''\n",
    "\n",
    "import subprocess\n",
    "sp = subprocess.Popen('ls',  stdout=subprocess.PIPE)\n",
    "s = sp.communicate() # Returns a tuple (stdout,stderr)\n",
    "print s\n",
    "\n",
    "# You can iterate through the tuple that is returned by the function\n",
    "for items in s:\n",
    "    print items\n",
    "\n",
    "'''\n",
    "Invoking the system shell with shell = True can be a security hazard if combined\n",
    "with untrusted input\n",
    "'''"
   ]
  },
  {
   "cell_type": "code",
   "execution_count": null,
   "metadata": {
    "collapsed": false
   },
   "outputs": [],
   "source": [
    "'''\n",
    "Creating your own modules\n",
    "'''"
   ]
  },
  {
   "cell_type": "code",
   "execution_count": null,
   "metadata": {
    "collapsed": false
   },
   "outputs": [],
   "source": [
    "# The file myfunc.py is in the same folder as this IPython notebook\n",
    "import myfunc\n",
    "print myfunc.increment(2,3)"
   ]
  },
  {
   "cell_type": "code",
   "execution_count": null,
   "metadata": {
    "collapsed": false
   },
   "outputs": [],
   "source": [
    "# The file myfunc1.py is in the folder \"myfolder\" which is \n",
    "# in the same location as this IPython notebook\n",
    "from myfolder import myfunc1\n",
    "print myfunc1.increment(10)"
   ]
  },
  {
   "cell_type": "code",
   "execution_count": null,
   "metadata": {
    "collapsed": false
   },
   "outputs": [],
   "source": [
    "import myfolder\n",
    "myfolder.myfunc1.increment(16)"
   ]
  },
  {
   "cell_type": "code",
   "execution_count": null,
   "metadata": {
    "collapsed": false
   },
   "outputs": [],
   "source": [
    "import mycalc.add12 as ma\n",
    "print ma.adding12(10,4)\n",
    "\n",
    "import myfolder\n",
    "print myfolder.myfunc1.increment(20,3)"
   ]
  },
  {
   "cell_type": "code",
   "execution_count": null,
   "metadata": {
    "collapsed": false
   },
   "outputs": [],
   "source": [
    "'''\n",
    "In-class activity - create a folder and make it a Python importable folder. \n",
    "Write a program that returns a list of odd numbers from a given list and \n",
    "save it in that folder. Write a code in the iPython notebook that imports \n",
    "the folder and then make a function call and supply the list.\n",
    "'''"
   ]
  },
  {
   "cell_type": "code",
   "execution_count": 18,
   "metadata": {
    "collapsed": false
   },
   "outputs": [
    {
     "name": "stdout",
     "output_type": "stream",
     "text": [
      "[1, 3, 5, 7, 9, 11]\n"
     ]
    }
   ],
   "source": [
    "from myModFolder import myMod\n",
    "\n",
    "print myMod.oddNumbers([1,2,3,4,5,6,7,8,9,10,11])"
   ]
  },
  {
   "cell_type": "code",
   "execution_count": 20,
   "metadata": {
    "collapsed": false
   },
   "outputs": [
    {
     "data": {
      "text/plain": [
       "[1, 3, 5, 7, 9]"
      ]
     },
     "execution_count": 20,
     "metadata": {},
     "output_type": "execute_result"
    }
   ],
   "source": [
    "def oddNumbers(the_list):\n",
    "    odd_list = []\n",
    "    for i in the_list:\n",
    "        if i % 2 != 0:odd_list.append(i)\n",
    "    return odd_list\n",
    "\n",
    "oddNumbers([1,2,3,4,5,6,7,8,9])"
   ]
  },
  {
   "cell_type": "code",
   "execution_count": null,
   "metadata": {
    "collapsed": true
   },
   "outputs": [],
   "source": []
  },
  {
   "cell_type": "code",
   "execution_count": null,
   "metadata": {
    "collapsed": true
   },
   "outputs": [],
   "source": []
  }
 ],
 "metadata": {
  "kernelspec": {
   "display_name": "Python 2",
   "language": "python",
   "name": "python2"
  },
  "language_info": {
   "codemirror_mode": {
    "name": "ipython",
    "version": 2
   },
   "file_extension": ".py",
   "mimetype": "text/x-python",
   "name": "python",
   "nbconvert_exporter": "python",
   "pygments_lexer": "ipython2",
   "version": "2.7.10"
  }
 },
 "nbformat": 4,
 "nbformat_minor": 0
}
