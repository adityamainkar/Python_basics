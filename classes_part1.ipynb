{
 "cells": [
  {
   "cell_type": "code",
   "execution_count": null,
   "metadata": {
    "collapsed": false
   },
   "outputs": [],
   "source": [
    "'''\n",
    "OOPS\n",
    "1. class and class variable and methods\n",
    "2. parent and derived classes by inheritance\n",
    "'''"
   ]
  },
  {
   "cell_type": "code",
   "execution_count": null,
   "metadata": {
    "collapsed": false
   },
   "outputs": [],
   "source": [
    "'''\n",
    "Class : In object-oriented programming, a class is an extensible program-code-template for \n",
    "creating objects, providing initial values for state (member variables) and \n",
    "implementations of behavior (member functions or methods)  - Wikipedia\n",
    "The class is the definition of the functionality that is programmed. \n",
    "# coding: utf-8\n",
    "\n",
    "# In[ ]:\n",
    "\n",
    "'''\n",
    "Input and output functions\n",
    "\n",
    "1. stdout using print\n",
    "2. formatted printing\n",
    "3. stdin using \n",
    "\n",
    "'''\n",
    "\n",
    "\n",
    "# In[ ]:\n",
    "\n",
    "# number.zfill(n) will put zeros so that the \n",
    "# total number of digits in the number is n \n",
    "# if the number has a negative in front then the negative sign \n",
    "# is also accounted for.\n",
    "'314'.zfill(10)\n",
    "\n",
    "\n",
    "# In[ ]:\n",
    "\n",
    "'-3.14'.zfill(10)\n",
    "\n",
    "\n",
    "# In[ ]:\n",
    "\n",
    "# formatted printing\n",
    "print '{0} and {1}'.format('san jose','santa clara')\n",
    "\n",
    "\n",
    "# In[ ]:\n",
    "\n",
    "print '{0} and {1}'.format('san jose') # fails as we need to provide two values\n",
    "\n",
    "\n",
    "# In[ ]:\n",
    "\n",
    "print '{0}'.format('san jose','santa clara') \n",
    "# the first value in the list will be printed\n",
    "\n",
    "\n",
    "# In[ ]:\n",
    "\n",
    "print '{nearcity} and {farcity}'.format(farcity='Sacramento',nearcity='San jose')\n",
    "\n",
    "\n",
    "# In[ ]:\n",
    "\n",
    "import math \n",
    "print 'PI = {0:.5f}'.format(math.pi) # 0:.5 means 5 digits after decimal \n",
    "print 'PI = %0.5f'%(math.pi) # The () is optional for one input\n",
    "\n",
    "\n",
    "# In[ ]:\n",
    "\n",
    "a = 5\n",
    "b = 3.25\n",
    "print 'a = %d' %a\n",
    "\n",
    "\n",
    "# In[ ]:\n",
    "\n",
    "a = 5\n",
    "b = 3.25\n",
    "c = '5.6'\n",
    "print 'a = %03d b = %0.2f c = %s' %(a,b,c)\n",
    "\n",
    "\n",
    "# In[ ]:\n",
    "\n",
    "a = 5.0\n",
    "type(a)\n",
    "\n",
    "\n",
    "# In[ ]:\n",
    "\n",
    "f = open('/Users/sridevi/Desktop/Python_Fall/python_list.txt')\n",
    "print f\n",
    "for line in f.readlines():\n",
    "    print line.strip\n",
    "\n",
    "\n",
    "# In[ ]:\n",
    "\n",
    "# Try change the path of the file()\n",
    "f = open('/Users/sridevi/Desktop/python_list.txt')\n",
    "print f\n",
    "for line in f.readlines():\n",
    "    print line.strip\n",
    "\n",
    "\n",
    "# In[ ]:\n",
    "\n",
    "'''\n",
    "raw_input() gets input from the command line.\n",
    "In this example, we are getting the input from the user and assigning it \n",
    "to variable s.\n",
    "'''\n",
    "s = raw_input('Enter a name : ')\n",
    "print s\n",
    "\n",
    "\n",
    "# In[ ]:\n",
    "\n",
    "a = 'r'\n",
    "b = str(2)\n",
    "a+b\n",
    "\n",
    "\n",
    "# In[ ]:\n",
    "\n",
    "'''\n",
    "Inclass activity: Create a txt file and write names of 10 states and close the file. Then open the file\n",
    "and print each line. \n",
    "'''\n",
    "\n",
    "\n",
    "\n",
    "Object :  The programmer has to create an instance of the class known as object/instance in order to \n",
    "use the functionality. The member variables specific to the object/instance are called instance \n",
    "variables. The members variables that are accessible across various instances of a class are \n",
    "called class variables. \n",
    "\n",
    "To keep syntax simple, Python's classes implements functionality as needed to \n",
    "perform the task. It has all functionality that you find in \n",
    "object-oriented programming systems (OOPS) such as inheritance \n",
    "(from single and multiple base classes), method over-riding etc. \n",
    "Unlike C++, programmer does not have to explicitily destroy objects.  They \n",
    "are removed dynamically by the Garbage Collector.\n",
    "\n",
    "All class members are public by default. Private variables are created by \n",
    "using __ such as __filename.  \n",
    "\n",
    "In this section, we will learn various terminologies are Class, Class variable, \n",
    "Data member, function overloading, instance variable, inheritance, instance, method, \n",
    "object, operator overloading\n",
    "\n",
    "http://www.tutorialspoint.com/python/python_classes_objects.htm\n",
    "\n",
    "http://www.jeffknupp.com/blog/2014/06/18/improve-your-python-python-classes-\n",
    "and-object-oriented-programming/\n",
    "'''"
   ]
  },
  {
   "cell_type": "code",
   "execution_count": null,
   "metadata": {
    "collapsed": false
   },
   "outputs": [],
   "source": [
    "'''\n",
    "Syntax for class\n",
    "class class_name:\n",
    "    define all the methods and instance variables\n",
    "'''    \n",
    "# A function inside a class is called a method.\n",
    "# A class can have many methods and many instance/class variables or attributes"
   ]
  },
  {
   "cell_type": "code",
   "execution_count": null,
   "metadata": {
    "collapsed": false
   },
   "outputs": [],
   "source": [
    "'''\n",
    "Variables such as name and balance are usable by more than one methods. Their values are also \n",
    "specific to that instance.  Hence they need to be instance variable.\n",
    "'''\n",
    "class Customer:\n",
    "    \n",
    "    '''The attributes for this class are name and balance '''\n",
    "    \n",
    "    def __init__(self,name):\n",
    "        self.name = name\n",
    "        self.balance = 0.0\n",
    "    \n",
    "    def set_balance(self, balance=0.0):\n",
    "        self.balance = balance\n",
    "        \n",
    "    def withdraw(self, amount):\n",
    "        self.balance -=amount\n",
    "        return self.balance\n",
    "    \n",
    "    def deposit(self, amount):\n",
    "        self.balance +=amount\n",
    "        return self.balance\n",
    "        \n",
    " \n",
    "b = Customer(\"Leo\")  # creating an instance of the class named Customer \n",
    "b.set_balance(1000) # calling set_balance method and passing a value\n",
    "b.withdraw(500) # calling withdraw method and passing a value\n",
    "b.deposit(2000) # calling deposit method and passing a value\n",
    "print \"Customer name %s and balance %0.2f \"%(b.name, b.balance)"
   ]
  },
  {
   "cell_type": "code",
   "execution_count": null,
   "metadata": {
    "collapsed": false
   },
   "outputs": [],
   "source": [
    "# creating another object for class Customer\n",
    "c = Customer(\"John\")\n",
    "c.set_balance(7200)\n",
    "c.withdraw(325)\n",
    "c.deposit(675)\n",
    "print \"Customer name %s and balance %0.2f \"%(c.name, c.balance)"
   ]
  },
  {
   "cell_type": "code",
   "execution_count": null,
   "metadata": {
    "collapsed": false
   },
   "outputs": [],
   "source": [
    "# A class with multiple initalizers\n",
    "class Customer:\n",
    "\n",
    "    def __init__(self,name,balance=None):\n",
    "        self.name = name\n",
    "        if balance is None:\n",
    "            balance = 0.0\n",
    "        self.balance = balance \n",
    "        \n",
    "    def set_balance(self, balance=0.0):\n",
    "        self.balance = balance\n",
    "        \n",
    "    def withdraw(self, amount):\n",
    "        self.balance -=amount\n",
    "        return self.balance\n",
    "    \n",
    "    def deposit(self, amount):\n",
    "        self.balance +=amount\n",
    "        return self.balance\n",
    "    \n",
    "    def print_balance(self):\n",
    "        print \"%s, your balance is: $%0.2f \"%(self.name, self.balance)\n",
    "        \n",
    " \n",
    "b = Customer(\"Leo\",10000)  # creating an instance of the class named Customer. The instance is called b\n",
    "b.withdraw(500) # calling withdraw method and passing a value\n",
    "b.deposit(2000) # calling deposit method and passing a value\n",
    "print \"Customer name %s and balance %0.2f \"%(b.name, b.balance)\n",
    "\n",
    "# Try calling \n",
    "#b = Customer(\"Euler\")\n",
    "#print \"Customer name %s and balance %0.2f \"%(b.name, b.balance)\n",
    "\n",
    "b.print_balance()"
   ]
  },
  {
   "cell_type": "code",
   "execution_count": null,
   "metadata": {
    "collapsed": false
   },
   "outputs": [],
   "source": [
    "class Bank_Customer:\n",
    "    \n",
    "    def __init__(self,name,lastn,balance=None):\n",
    "        self.name = name\n",
    "        self.lastn = lastn\n",
    "        self.balance = int(balance)\n",
    "        \n",
    "    def print_bal(self):\n",
    "        print \"Dear %s %s, you balance is: $%0.2f \"%(self.name,self.lastn,self.balance)\n",
    "        \n",
    "Acc_1234 = Bank_Customer(\"Fernando\", \"Garcia\", 20000)\n",
    "Acc_1234.print_bal()"
   ]
  },
  {
   "cell_type": "code",
   "execution_count": null,
   "metadata": {
    "collapsed": false
   },
   "outputs": [],
   "source": [
    "''' PRIVATE CLASS VARIABLES '''\n",
    "\n",
    "class Customer:    \n",
    "    def __init__(self,name):\n",
    "        self.name = name\n",
    "        self.__balance = 0.0 \n",
    "        # __ (double underscore) before the instance variable will make the \n",
    "        # variable private for the class\n",
    "    \n",
    "    def set_balance(self, balance=0.0):\n",
    "        self.__balance = balance\n",
    "        \n",
    "    def withdraw(self, amount):\n",
    "        self.__balance -=amount\n",
    "        return self.__balance\n",
    "    \n",
    "    def deposit(self, amount):\n",
    "        self.__balance +=amount\n",
    "        return self.__balance\n",
    "        \n",
    "    def get_balance(self):\n",
    "        return self.__balance\n",
    "    \n",
    "b = Customer(\"Leo\")  \n",
    "b.set_balance(1000)\n",
    "b.withdraw(500)\n",
    "b.deposit(2000)\n",
    "print b.get_balance()\n",
    "#print b.__balance \n",
    "#this will fail with an attribute error as the variable/attribute __balance \n",
    "#is private to the class"
   ]
  },
  {
   "cell_type": "code",
   "execution_count": null,
   "metadata": {
    "collapsed": false
   },
   "outputs": [],
   "source": [
    "''' PRIVATE METHODS '''"
   ]
  },
  {
   "cell_type": "code",
   "execution_count": null,
   "metadata": {
    "collapsed": false
   },
   "outputs": [],
   "source": [
    "class PubPrivateClass:\n",
    "    def publicmethod(self):\n",
    "        print \"Inside public method\"\n",
    "        \n",
    "    # To create a private method, prefix __ (double underscore) to the method name\n",
    "    def __privatemethod(self):\n",
    "        print \"Inside private method\"\n",
    "        \n",
    "p = PubPrivateClass()\n",
    "p.publicmethod() # this will work\n",
    "#p.__privatemethod() # this will not work as we are calling a private method"
   ]
  },
  {
   "cell_type": "code",
   "execution_count": null,
   "metadata": {
    "collapsed": false
   },
   "outputs": [],
   "source": [
    "dir(PubPrivateClass)\n",
    "# The dir method gives a list of all the methods in a class including private methods "
   ]
  },
  {
   "cell_type": "code",
   "execution_count": null,
   "metadata": {
    "collapsed": false
   },
   "outputs": [],
   "source": [
    "# We can use instance variables inside the private method just \n",
    "# as you would for public methods\n",
    "class PubPrivateClass(object):\n",
    "    def publicmethod(self):\n",
    "        print \"Inside public method\"\n",
    "        self.somevar = 10\n",
    "        \n",
    "    def __privatemethod(self):\n",
    "        self.somevar = 20\n",
    "        print \"Inside private method\"\n",
    "        \n",
    "p = PubPrivateClass()\n",
    "p.publicmethod() \n",
    "p.somevar"
   ]
  },
  {
   "cell_type": "code",
   "execution_count": null,
   "metadata": {
    "collapsed": false
   },
   "outputs": [],
   "source": [
    "# If we cannot call the private method from outside the class definition, how do we use it?\n",
    "# private methods have to be called in a public method inside a class definition\n",
    "# For example in this case, we are calling __private method inside public method\n",
    "class PubPrivateClass(object):\n",
    "    def publicmethod(self):\n",
    "        print \"Inside public method\"\n",
    "        self.somevar = 10\n",
    "        print \"somevar value before calling private method is \",self.somevar\n",
    "        self.__privatemethod()\n",
    "        \n",
    "    # To create a private method, prefix __ (double underscore) to the method name\n",
    "    def __privatemethod(self):\n",
    "        print \"Inside private method\"\n",
    "        self.somevar = 20\n",
    "        \n",
    "p = PubPrivateClass()\n",
    "p.publicmethod() \n",
    "p.somevar"
   ]
  },
  {
   "cell_type": "code",
   "execution_count": null,
   "metadata": {
    "collapsed": false
   },
   "outputs": [],
   "source": [
    "'''\n",
    "Read more at \n",
    "http://stackoverflow.com/questions/70528/why-are-pythons-private-methods-not-\n",
    "actually-private\n",
    "\n",
    "http://effbot.org/pyfaq/tutor-how-do-i-make-public-and-private-attributes-\n",
    "and-methods-in-my-classes.htm\n",
    "'''"
   ]
  },
  {
   "cell_type": "code",
   "execution_count": null,
   "metadata": {
    "collapsed": false
   },
   "outputs": [],
   "source": [
    "''' \n",
    "CLASS VARIABLE - Shares the same value across all instances of the class.\n",
    "http://www.tutorialspoint.com/python/python_classes_objects.htm\n",
    "'''\n",
    "class Employee:\n",
    "    empCount = 0 #Class variable. No self. prefix\n",
    "    className = 'Employee' #Class variable. No self. prefix\n",
    "    def __init__(self, name, salary):\n",
    "        self.name = name\n",
    "        self.salary = salary\n",
    "        Employee.empCount +=1\n",
    "        \n",
    "    def displayCount(self):\n",
    "        print \"Total Employee %d\" %Employee.empCount\n",
    "    \n",
    "    def displayEmployee(self):\n",
    "        print \"Name:   \", self.name,  \", Salary:   \", self.salary\n",
    "        \n",
    "emp1 = Employee(\"Tara\", 20000)\n",
    "emp2 = Employee(\"Zeera\", 7000)\n",
    "emp3 = Employee(\"Cara\", 5000)\n",
    "emp4 = Employee(\"John\",4000)\n",
    "emp2.displayEmployee()\n",
    "emp2.displayCount()\n",
    "\n",
    "print \"Total Employee %d\" % Employee.empCount # We are referring to the class Employee and not an object\n",
    "\n",
    "if(emp2.className == 'Employee'):\n",
    "    print \"I have a Employee class\"\n",
    "    \n",
    "print emp2.__class__.__name__"
   ]
  },
  {
   "cell_type": "code",
   "execution_count": 2,
   "metadata": {
    "collapsed": false
   },
   "outputs": [
    {
     "name": "stdout",
     "output_type": "stream",
     "text": [
      "Please enter name of your state California\n",
      "Use less water!\n"
     ]
    }
   ],
   "source": [
    "# Adding documentation to your class, so that you can access it using __doc__\n",
    "# It is the first line in the class definition\n",
    "class SaveWater:\n",
    "    ''' This is a documentation of SaveWater'''    \n",
    "    def __init__(self,statename):\n",
    "        self.statename = statename\n",
    "        if self.statename.lower() == \"california\":\n",
    "            print \"Use less water!\"\n",
    "        else:\n",
    "            print \"Still use less water!\"\n",
    "        \n",
    "statename = raw_input(\"Please enter name of your state \")\n",
    "s = SaveWater(statename)"
   ]
  },
  {
   "cell_type": "code",
   "execution_count": 3,
   "metadata": {
    "collapsed": false
   },
   "outputs": [
    {
     "data": {
      "text/plain": [
       "' This is a documentation of SaveWater'"
      ]
     },
     "execution_count": 3,
     "metadata": {},
     "output_type": "execute_result"
    }
   ],
   "source": [
    "s.__doc__"
   ]
  },
  {
   "cell_type": "code",
   "execution_count": null,
   "metadata": {
    "collapsed": false
   },
   "outputs": [],
   "source": [
    "'''\n",
    "In-class activity: \n",
    "\n",
    "Create a class that takes name and age as input. If the person's age is greater than 18 then you \n",
    "should print that they are eligible to craete a login otherwise you print that they can't create a \n",
    "login. Implement a method called compage to compare age with 18. Implement another method called \n",
    "printpermission to print the output of comparison. \n",
    "'''\n"
   ]
  },
  {
   "cell_type": "code",
   "execution_count": 16,
   "metadata": {
    "collapsed": false
   },
   "outputs": [
    {
     "name": "stdout",
     "output_type": "stream",
     "text": [
      "Fernando 23\n"
     ]
    },
    {
     "data": {
      "text/plain": [
       "<bound method OldUsers.printpermission of <__main__.OldUsers instance at 0x000000000447CE48>>"
      ]
     },
     "execution_count": 16,
     "metadata": {},
     "output_type": "execute_result"
    }
   ],
   "source": [
    "class OldUsers:\n",
    "    '''This is the documentation for OldUsers'''\n",
    "    def __init__(self, name, age):\n",
    "        self.name = name\n",
    "        self.age = age\n",
    "        self.auth = False\n",
    "        print self.name, self.age\n",
    "        \n",
    "    def __compage(self):\n",
    "        print \"compage\"\n",
    "        #OldUsers.auth = False\n",
    "        if self.age > 18: self.auth = True\n",
    "            \n",
    "    def printpermission(self):\n",
    "        #print \"printpermission\"\n",
    "        self.__compage()\n",
    "        if self.auth == True: print \"%s is authorized to create a login\"%(self.name)\n",
    "        elif self.auth == False: print \"%s is NOT authorized to create a login\"%(self.name)\n",
    "            \n",
    "f = OldUsers(\"Fernando\",23)\n",
    "f.printpermission"
   ]
  },
  {
   "cell_type": "code",
   "execution_count": 1,
   "metadata": {
    "collapsed": false
   },
   "outputs": [
    {
     "name": "stdout",
     "output_type": "stream",
     "text": [
      "<__main__.Person instance at 0x0000000003F6F688>\n",
      "Leo Euler 95117 123-45-6789\n",
      "{'ssn': '123-45-6789', 'name': 'Leo Euler', 'zipcode': '95117'}\n"
     ]
    }
   ],
   "source": [
    "''' C style struct that has class variables but no methods '''\n",
    "\n",
    "class Person:\n",
    "    pass\n",
    "\n",
    "# Create an instance of Person class.  This is called object\n",
    "leo = Person()\n",
    "# we are giving class attributes here and there are no methods\n",
    "leo.name = 'Leo Euler' \n",
    "leo.zipcode = '95117'\n",
    "leo.ssn = '123-45-6789'\n",
    "\n",
    "print leo\n",
    "print leo.name, leo.zipcode, leo.ssn\n",
    "print leo.__dict__"
   ]
  },
  {
   "cell_type": "code",
   "execution_count": null,
   "metadata": {
    "collapsed": false
   },
   "outputs": [],
   "source": [
    "'''\n",
    "\n",
    "Data attributes override method attributes with the same name; to avoid \n",
    "accidental name conflicts, which may cause hard-to-find bugs in large programs,\n",
    "it is wise to use some kind of convention that minimizes the chance of \n",
    "conflicts. Possible conventions include capitalizing method names, prefixing \n",
    "data attribute names with a small unique string (perhaps just an underscore), \n",
    "or using verbs for methods and nouns for data attributes.\n",
    "\n",
    "__dict__ : Dictionary containing the class's namespace.\n",
    "\n",
    "__doc__ : Class documentation string or None if undefined.\n",
    "\n",
    "__name__: Class name.\n",
    "\n",
    "__module__: Module name in which the class is defined. This attribute is \n",
    "\"__main__\" in interactive mode.\n",
    "\n",
    "__bases__ : A possibly empty tuple containing the base classes, in the order of \n",
    "their occurrence in the base class list.\n",
    "\n",
    "'''"
   ]
  },
  {
   "cell_type": "code",
   "execution_count": 3,
   "metadata": {
    "collapsed": false
   },
   "outputs": [
    {
     "name": "stdout",
     "output_type": "stream",
     "text": [
      "Ravi\n",
      "<__main__.Class1 instance at 0x0000000004004FC8> <type 'instance'>\n"
     ]
    },
    {
     "data": {
      "text/plain": [
       "({'name': 'Ravi'}, None, 'Class1', '__main__', ())"
      ]
     },
     "execution_count": 3,
     "metadata": {},
     "output_type": "execute_result"
    }
   ],
   "source": [
    "class Class1:  \n",
    "    def __init__(self,name):\n",
    "        self.name = name\n",
    "    def listname(self):\n",
    "        return self.name\n",
    "    def setname(self,name):\n",
    "        self.name = name\n",
    "\n",
    "obj1 = Class1('Ravi')\n",
    "print obj1.listname()\n",
    "print obj1,type(obj1)\n",
    "\n",
    "obj1.__dict__,Class1.__doc__,Class1.__name__,Class1.__module__,Class1.__bases__"
   ]
  },
  {
   "cell_type": "code",
   "execution_count": 4,
   "metadata": {
    "collapsed": false
   },
   "outputs": [
    {
     "name": "stdout",
     "output_type": "stream",
     "text": [
      "Ravi\n",
      "Ravi\n",
      "Robbie\n"
     ]
    }
   ],
   "source": [
    "hasattr(obj1, 'name')    # Returns true if 'name' attribute exists\n",
    "print getattr(obj1, 'name')    # Returns value of 'name' attribute. This is same as obj1.name\n",
    "print obj1.name \n",
    "setattr(obj1, 'name', 'Robbie') # Set attribute 'name' to Robbie. This is same as obj1.name = 'Robbie'\n",
    "obj1.name = 'Robbie'\n",
    "print obj1.name"
   ]
  },
  {
   "cell_type": "code",
   "execution_count": 6,
   "metadata": {
    "collapsed": false
   },
   "outputs": [
    {
     "name": "stdout",
     "output_type": "stream",
     "text": [
      "This is Str Example \n"
     ]
    }
   ],
   "source": [
    "# __str__ method enables pretty printing of objects. \n",
    "class Class1:  \n",
    "    def __init__(self,name):\n",
    "        self.name = name # this is a instance variable\n",
    "    def listname(self):\n",
    "        return self.name\n",
    "    # in the following method, a string is returned whenever the print is called\n",
    "    # with the object as input\n",
    "    def __str__(self):\n",
    "        return \"This is %s \" %self.name\n",
    "    \n",
    "obj1 = Class1('Str Example')\n",
    "print obj1 "
   ]
  },
  {
   "cell_type": "code",
   "execution_count": null,
   "metadata": {
    "collapsed": false
   },
   "outputs": [],
   "source": [
    "'''\n",
    "Deleting objects.\n",
    "Deletion happens via Garbage collection.  One can also delete objects and its variables \n",
    "using __del__ method.\n",
    "'''"
   ]
  },
  {
   "cell_type": "code",
   "execution_count": null,
   "metadata": {
    "collapsed": true
   },
   "outputs": [],
   "source": [
    "'yo%s'"
   ]
  },
  {
   "cell_type": "code",
   "execution_count": 8,
   "metadata": {
    "collapsed": false
   },
   "outputs": [
    {
     "name": "stdout",
     "output_type": "stream",
     "text": [
      "Darth Vader destroyed\n"
     ]
    }
   ],
   "source": [
    "class Class1:  \n",
    "    def __init__(self,name):\n",
    "        self.name = name\n",
    "    def listname(self):\n",
    "        return self.name\n",
    "    # the following method is executed during object deletion \n",
    "    def __del__(self):\n",
    "        print self.name,\"destroyed\"\n",
    "obj1 = Class1('Darth Vader')\n",
    "# There are two ways to delete an object.  You do not have to use either.\n",
    "# Instead let Python do garbage collection.\n",
    "# first way\n",
    "#del obj1\n",
    "#obj1.name\n",
    "# second way\n",
    "#obj1 =  None\n",
    "#print obj1"
   ]
  },
  {
   "cell_type": "code",
   "execution_count": null,
   "metadata": {
    "collapsed": false
   },
   "outputs": [],
   "source": [
    "'''\n",
    "Note: __del__ and __str__ are special methods that are defined by Python. \n",
    "Hence, they have a double underscore before and after del and str respectively.\n",
    "'''"
   ]
  },
  {
   "cell_type": "code",
   "execution_count": null,
   "metadata": {
    "collapsed": false
   },
   "outputs": [],
   "source": [
    "'''\n",
    "CLASS INHERITANCE\n",
    "'''"
   ]
  },
  {
   "cell_type": "code",
   "execution_count": null,
   "metadata": {
    "collapsed": false
   },
   "outputs": [],
   "source": [
    "# example of an inherited class\n",
    "class Animal:\n",
    "    def say_something(self):\n",
    "        return \"I'm an animal!\"\n",
    "    \n",
    "#child class or derived class\n",
    "class Cat(Animal):\n",
    "    def say_something(self):\n",
    "        return \"Meow\"\n",
    "    \n",
    "class Dog(Animal):\n",
    "    def say_something(self):\n",
    "        return \"Bow-wow\"\n",
    "    \n",
    "a = Animal()\n",
    "print a.say_something()\n",
    "d = Dog()\n",
    "print d.say_something()\n",
    "c = Cat()\n",
    "print c.say_something()"
   ]
  },
  {
   "cell_type": "code",
   "execution_count": 9,
   "metadata": {
    "collapsed": false
   },
   "outputs": [
    {
     "name": "stdout",
     "output_type": "stream",
     "text": [
      "I'm an animal! - Meow\n",
      "I'm an animal! - Bow-wow\n"
     ]
    }
   ],
   "source": [
    "# Sometime you will have to call both the child class method and also the\n",
    "# parent class (also called super class) method. You can do so using super method\n",
    "\n",
    "class Animal(object): \n",
    "    def say_something(self):\n",
    "        return \"I'm an animal!\"\n",
    "    \n",
    "#child class or derived class\n",
    "class Cat(Animal):\n",
    "    def say_something(self):\n",
    "        s = super(Cat,self).say_something()\n",
    "        return \"%s - %s\" %(s, \"Meow\")\n",
    "    \n",
    "class Dog(Animal):\n",
    "    def say_something(self):\n",
    "        s = super(Dog,self).say_something()\n",
    "        return \"%s - %s\" %(s, \"Bow-wow\")\n",
    "c = Cat()\n",
    "print c.say_something()\n",
    "d = Dog()\n",
    "print d.say_something()"
   ]
  },
  {
   "cell_type": "code",
   "execution_count": 10,
   "metadata": {
    "collapsed": false
   },
   "outputs": [
    {
     "name": "stdout",
     "output_type": "stream",
     "text": [
      "(<class '__main__.Animal'>,)\n"
     ]
    }
   ],
   "source": [
    "print Dog.__bases__ # Prints the list of base classes"
   ]
  },
  {
   "cell_type": "code",
   "execution_count": 12,
   "metadata": {
    "collapsed": false
   },
   "outputs": [
    {
     "name": "stdout",
     "output_type": "stream",
     "text": [
      "Animal Animal\n"
     ]
    }
   ],
   "source": [
    "# The name attribute in this class is a class variable.  We will use this as a super class for the \n",
    "# next cell.\n",
    "class Animal:\n",
    "    name = 'Animal'\n",
    "    def eat(self):\n",
    "        print \"Animal eating\"\n",
    "    def drink(self):\n",
    "        print 'Animal drinking'\n",
    "a = Animal()        \n",
    "b = Animal()\n",
    "print a.name, b.name"
   ]
  },
  {
   "cell_type": "code",
   "execution_count": 11,
   "metadata": {
    "collapsed": false
   },
   "outputs": [
    {
     "name": "stdout",
     "output_type": "stream",
     "text": [
      "Latest method - Animal Dog drinking\n",
      "Latest method - Animal Cow drinking\n"
     ]
    }
   ],
   "source": [
    "# Function overloading in the same class. Only the last method definition is used.\n",
    "class Animal:\n",
    "    name = 'Animal'\n",
    "    def eat(self):\n",
    "        print \"Animal eating\"\n",
    "       \n",
    "    def drink(self, name = None):\n",
    "        if name == None:\n",
    "            name = 'Dog'\n",
    "        print 'Latest method - Animal %s drinking'%(name)\n",
    "\n",
    "        \n",
    "a = Animal()        \n",
    "a.drink()\n",
    "b = Animal()\n",
    "b.drink('Cow')"
   ]
  },
  {
   "cell_type": "code",
   "execution_count": 13,
   "metadata": {
    "collapsed": false
   },
   "outputs": [
    {
     "name": "stdout",
     "output_type": "stream",
     "text": [
      "Dog eating\n",
      "Dog\n",
      "Animal drinking\n"
     ]
    }
   ],
   "source": [
    "# Function overloading between child and parent class.\n",
    "class Animal:\n",
    "    name = 'Animal' # class variable\n",
    "    def eat(self):\n",
    "        print \"Animal eating\"\n",
    "    def drink(self):\n",
    "        print 'Animal drinking'\n",
    "        \n",
    "class Dog(Animal):\n",
    "    name = 'Dog' # class variable\n",
    "    def eat(self): \n",
    "        print \"Dog eating\"\n",
    "        \n",
    "d = Dog()\n",
    "d.eat()\n",
    "print d.name\n",
    "d.drink()"
   ]
  },
  {
   "cell_type": "code",
   "execution_count": 15,
   "metadata": {
    "collapsed": false
   },
   "outputs": [
    {
     "name": "stdout",
     "output_type": "stream",
     "text": [
      "Dog eating\n",
      "Dog\n",
      "Animal drinking\n",
      "Dog drinking\n"
     ]
    }
   ],
   "source": [
    "# Function overloading\n",
    "class Animal:\n",
    "    name = 'Animal' # class variable\n",
    "    def eat(self):\n",
    "        print \"Animal eating\"\n",
    "    def drink(self):\n",
    "        print 'Animal drinking'\n",
    "        \n",
    "class Dog(Animal):\n",
    "    name = 'Dog' # class variable\n",
    "    def eat(self): \n",
    "        print \"Dog eating\"\n",
    "    def drink1(self):\n",
    "        print 'Dog drinking'\n",
    "    \n",
    "        \n",
    "d = Dog()\n",
    "d.eat()\n",
    "print d.name\n",
    "d.drink()\n",
    "d.drink1()"
   ]
  },
  {
   "cell_type": "code",
   "execution_count": 16,
   "metadata": {
    "collapsed": false
   },
   "outputs": [
    {
     "name": "stdout",
     "output_type": "stream",
     "text": [
      "Dog eating\n",
      "Organism\n",
      "Organism drinking\n"
     ]
    }
   ],
   "source": [
    "# multiple inheritance.  A child can have multiple parent.\n",
    "class Organism:\n",
    "    name = 'Organism'\n",
    "    def eat(self):\n",
    "        print 'Organism eating'\n",
    "    def drink(self):\n",
    "        print 'Organism drinking'\n",
    "        \n",
    "class Animal:\n",
    "    name = 'Animal'\n",
    "    def eat(self):        \n",
    "        print \"Animal eating\"\n",
    "           \n",
    "class Dog(Organism,Animal):\n",
    "    #name = 'Dog'\n",
    "    def eat(self):\n",
    "        print \"Dog eating\"\n",
    "        \n",
    "d = Dog()\n",
    "d.eat()\n",
    "print d.name\n",
    "d.drink()"
   ]
  },
  {
   "cell_type": "code",
   "execution_count": null,
   "metadata": {
    "collapsed": false
   },
   "outputs": [],
   "source": [
    "# multiple inheritance\n",
    "class Organism:\n",
    "    name = 'Organism'\n",
    "    def eat(self):\n",
    "        print 'Organism eating'\n",
    "    def drink(self):\n",
    "        print 'Organism drinking'\n",
    "        \n",
    "class Animal:\n",
    "    name = 'Animal'\n",
    "    def eat(self):        \n",
    "        print \"Animal eating\"\n",
    "    def drink(self):\n",
    "        print 'Animal drinking'\n",
    " \n",
    "'''\n",
    "When two parents have same method(s), then the method in the left most parent\n",
    "of the child class will be executed.\n",
    "'''\n",
    "\n",
    "class Dog(Animal,Organism):\n",
    "    name = 'Dog'\n",
    "    def eat(self):\n",
    "        print \"Dog eating\"\n",
    "        \n",
    "d = Dog()\n",
    "d.eat()\n",
    "print d.name\n",
    "d.drink()"
   ]
  },
  {
   "cell_type": "code",
   "execution_count": 14,
   "metadata": {
    "collapsed": false
   },
   "outputs": [
    {
     "name": "stdout",
     "output_type": "stream",
     "text": [
      "Organism eating\n",
      "Dog eating\n"
     ]
    }
   ],
   "source": [
    "'''\n",
    "http://stackoverflow.com/questions/3277367/how-does-pythons-super-work-with\n",
    "-multiple-inheritance\n",
    "\n",
    "http://en.wikipedia.org/wiki/Multiple_inheritance#The_diamond_problem\n",
    "''' \n",
    "class Organism(object):\n",
    "    name = 'Organism'\n",
    "    def eat(self):\n",
    "        print 'Organism eating'\n",
    "        \n",
    "class Animal(object):\n",
    "    name = 'Animal'\n",
    "    def eat(self):        \n",
    "        print \"Animal eating\"\n",
    "    def drink(self):\n",
    "        print 'Animal drinking'\n",
    "        \n",
    "class Dog(Organism,Animal):\n",
    "    name = 'Dog'\n",
    "    def eat(self):\n",
    "        # Only the first super class eat function is called\n",
    "        super(Dog,self).eat()\n",
    "        print \"Dog eating\"\n",
    "d = Dog()\n",
    "d.eat()"
   ]
  },
  {
   "cell_type": "code",
   "execution_count": null,
   "metadata": {
    "collapsed": false
   },
   "outputs": [],
   "source": []
  }
 ],
 "metadata": {
  "kernelspec": {
   "display_name": "Python 2",
   "language": "python",
   "name": "python2"
  },
  "language_info": {
   "codemirror_mode": {
    "name": "ipython",
    "version": 2
   },
   "file_extension": ".py",
   "mimetype": "text/x-python",
   "name": "python",
   "nbconvert_exporter": "python",
   "pygments_lexer": "ipython2",
   "version": "2.7.11"
  }
 },
 "nbformat": 4,
 "nbformat_minor": 0
}
