{
 "cells": [
  {
   "cell_type": "code",
   "execution_count": 2,
   "metadata": {
    "collapsed": false
   },
   "outputs": [
    {
     "name": "stdout",
     "output_type": "stream",
     "text": [
      "Cannot say\n",
      "Good\n",
      "Bad\n"
     ]
    }
   ],
   "source": [
    "d = {1:'Good', -1:'Bad', 0:'Cannot say'}\n",
    "print d[0]\n",
    "print d[0+1]\n",
    "print d[0-1]\n"
   ]
  },
  {
   "cell_type": "code",
   "execution_count": 16,
   "metadata": {
    "collapsed": false
   },
   "outputs": [
    {
     "ename": "AttributeError",
     "evalue": "'tuple' object has no attribute 'sort'",
     "output_type": "error",
     "traceback": [
      "\u001b[1;31m---------------------------------------------------------------------------\u001b[0m",
      "\u001b[1;31mAttributeError\u001b[0m                            Traceback (most recent call last)",
      "\u001b[1;32m<ipython-input-16-69d532d12fee>\u001b[0m in \u001b[0;36m<module>\u001b[1;34m()\u001b[0m\n\u001b[0;32m      1\u001b[0m \u001b[0mt1\u001b[0m \u001b[1;33m=\u001b[0m \u001b[1;33m(\u001b[0m\u001b[1;36m3\u001b[0m\u001b[1;33m,\u001b[0m\u001b[1;36m4\u001b[0m\u001b[1;33m,\u001b[0m\u001b[1;36m6\u001b[0m\u001b[1;33m,\u001b[0m\u001b[1;33m)\u001b[0m\u001b[1;33m\u001b[0m\u001b[0m\n\u001b[1;32m----> 2\u001b[1;33m \u001b[0mt1\u001b[0m\u001b[1;33m.\u001b[0m\u001b[0msort\u001b[0m\u001b[1;33m(\u001b[0m\u001b[1;33m)\u001b[0m\u001b[1;33m\u001b[0m\u001b[0m\n\u001b[0m",
      "\u001b[1;31mAttributeError\u001b[0m: 'tuple' object has no attribute 'sort'"
     ]
    }
   ],
   "source": [
    "t1 = (3,4,6,)\n",
    "t1.sort()"
   ]
  },
  {
   "cell_type": "code",
   "execution_count": 12,
   "metadata": {
    "collapsed": false
   },
   "outputs": [
    {
     "name": "stdout",
     "output_type": "stream",
     "text": [
      "[6, 9, 13, 15, 30, 33, 25]\n",
      "[15, 30]\n",
      "[6, 9, 15, 30, 33, 25]\n"
     ]
    }
   ],
   "source": [
    "a = [6,9,13,15,30,33,25]\n",
    "a_mult_3_and_5 = [x for x in a if x % 3 == 0 and x % 5 == 0]\n",
    "print a\n",
    "print a_mult_3_and_5\n",
    "b_mult_3_or_5 = [x for x in a if x % 3 == 0 or x % 5 == 0]\n",
    "print b_mult_3_or_5"
   ]
  },
  {
   "cell_type": "code",
   "execution_count": 13,
   "metadata": {
    "collapsed": false
   },
   "outputs": [
    {
     "name": "stdout",
     "output_type": "stream",
     "text": [
      "[15]\n",
      "[6, 9, 15]\n"
     ]
    }
   ],
   "source": [
    "a = [6,9,13,15]\n",
    "a_mult_3_and_5 = [x for x in a if x % 3 == 0 and x % 5 == 0]\n",
    "b_mult_3_or_5 = [x for x in a if x % 3 == 0 or x % 5 == 0]\n",
    "print a_mult_3_and_5\n",
    "print b_mult_3_or_5"
   ]
  },
  {
   "cell_type": "code",
   "execution_count": 14,
   "metadata": {
    "collapsed": false
   },
   "outputs": [
    {
     "name": "stdout",
     "output_type": "stream",
     "text": [
      "Multiples in a of 3 and 5:\n",
      "[15]\n",
      "Multiples in a of 3 or 5:\n",
      "[6, 9, 15]\n"
     ]
    }
   ],
   "source": [
    "a = [6,9,13,15]\n",
    "a_mult_3_and_5 = [x for x in a if x % 3 == 0 and x % 5 == 0]\n",
    "b_mult_3_or_5 = [x for x in a if x % 3 == 0 or x % 5 == 0]\n",
    "print 'Multiples in a of 3 and 5:'\n",
    "print a_mult_3_and_5\n",
    "print 'Multiples in a of 3 or 5:'\n",
    "print b_mult_3_or_5"
   ]
  },
  {
   "cell_type": "code",
   "execution_count": null,
   "metadata": {
    "collapsed": true
   },
   "outputs": [],
   "source": []
  }
 ],
 "metadata": {
  "kernelspec": {
   "display_name": "Python 2",
   "language": "python",
   "name": "python2"
  },
  "language_info": {
   "codemirror_mode": {
    "name": "ipython",
    "version": 2
   },
   "file_extension": ".py",
   "mimetype": "text/x-python",
   "name": "python",
   "nbconvert_exporter": "python",
   "pygments_lexer": "ipython2",
   "version": "2.7.10"
  }
 },
 "nbformat": 4,
 "nbformat_minor": 0
}
