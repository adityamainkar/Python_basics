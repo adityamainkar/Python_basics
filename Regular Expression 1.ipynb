{
 "cells": [
  {
   "cell_type": "code",
   "execution_count": null,
   "metadata": {
    "collapsed": false
   },
   "outputs": [],
   "source": [
    "'''\n",
    "A regular expression is a text matching pattern that is described in a \n",
    "specialized syntax. The pattern has instructions, which are executed with a \n",
    "string as input to produce a matching subset. The Python module to perform \n",
    "regular expression is re. Typically, re is used to match or find strings.\n",
    "'''"
   ]
  },
  {
   "cell_type": "code",
   "execution_count": null,
   "metadata": {
    "collapsed": false
   },
   "outputs": [],
   "source": [
    "# Visit the following sites to learn more\n",
    "# http://pymotw.com/2/re/\n",
    "# http://www.thegeekstuff.com/2014/07/python-regex-examples/\n",
    "# http://www.diveintopython.net/regular_expressions/\n",
    "# https://docs.python.org/2/library/re.html"
   ]
  },
  {
   "cell_type": "code",
   "execution_count": null,
   "metadata": {
    "collapsed": false
   },
   "outputs": [],
   "source": [
    "import re"
   ]
  },
  {
   "cell_type": "code",
   "execution_count": null,
   "metadata": {
    "collapsed": false
   },
   "outputs": [],
   "source": [
    "patterns = 'and'\n",
    "text = 'Python is a dynamically typed language and also has a simple syntax'\n",
    "print re.search(patterns, text)\n",
    "if re.search(patterns, text):\n",
    "    print 'There is a match'\n",
    "else:\n",
    "    print 'Found no match'"
   ]
  },
  {
   "cell_type": "code",
   "execution_count": null,
   "metadata": {
    "collapsed": false
   },
   "outputs": [],
   "source": [
    "patterns = 'or'\n",
    "text = 'Python is a dynamically typed language and also has a simple syntax'\n",
    "print re.search(patterns, text)\n",
    "if re.search(patterns, text):\n",
    "    print 'There is a match'\n",
    "else:\n",
    "    print 'Found no match'"
   ]
  },
  {
   "cell_type": "code",
   "execution_count": null,
   "metadata": {
    "collapsed": false
   },
   "outputs": [],
   "source": [
    "patterns = ['and', 'or']\n",
    "text = 'Python is a dynamically typed language and also has a simple syntax'\n",
    "\n",
    "for pattern in patterns:\n",
    "    print 'Trying to find a match for \"%s\" in \"%s\" - ' %(pattern,text)\n",
    "    \n",
    "    if re.search(pattern, text):\n",
    "        print 'There is a match'\n",
    "    else:\n",
    "        print 'Found no match'"
   ]
  },
  {
   "cell_type": "code",
   "execution_count": null,
   "metadata": {
    "collapsed": false
   },
   "outputs": [],
   "source": [
    "pattern = 'and'\n",
    "text = 'Python is a dynamically typed language and also has a simple syntax'\n",
    "\n",
    "compare = re.search(pattern,text)\n",
    "\n",
    "s = compare.start() # start() returns the starting position of the match\n",
    "e = compare.end() # end() returns the ending position of the match\n",
    "\n",
    "print 'Found \"%s\" in \"%s\"  from %d to %d ' %(pattern,text,s,e)"
   ]
  },
  {
   "cell_type": "code",
   "execution_count": null,
   "metadata": {
    "collapsed": false
   },
   "outputs": [],
   "source": [
    "mynumber = 1034567810378103\n",
    "pattern = 10\n",
    "mynumber_str = str(mynumber)\n",
    "pattern_str = str(pattern)\n",
    "# findall() function finds all the substrings of the input that match the \n",
    "# pattern without overlapping syntax re.findall(pattern, string)\n",
    "print re.findall(pattern_str,mynumber_str)\n",
    "count = len(re.findall(pattern_str,mynumber_str))\n",
    "print 'In the given text, %d occured  %d times' %(pattern, count)"
   ]
  },
  {
   "cell_type": "code",
   "execution_count": null,
   "metadata": {
    "collapsed": false
   },
   "outputs": [],
   "source": [
    "# finditer() returns an iterator that produces match instances instead of the \n",
    "# strings returned by findall\n",
    "# syntax re.finditer(pattern, string)\n",
    "\n",
    "text = '1034567810378103'\n",
    "pattern = '78'\n",
    "count = 0\n",
    "print re.finditer(pattern,text)\n",
    "for match in re.finditer(pattern,text):\n",
    "    s = match.start() \n",
    "    e = match.end() \n",
    "    count = count + 1\n",
    "    print 'The pattern \"%s\" starts at %d and ends at %d ' %(pattern, s, e)\n",
    "print 'In the given text, \"%s\" occured  %d times' %(pattern, count)"
   ]
  },
  {
   "cell_type": "code",
   "execution_count": null,
   "metadata": {
    "collapsed": false
   },
   "outputs": [],
   "source": [
    "'''\n",
    "group() returns the substring that was matched by the re. Adding groups to a \n",
    "pattern lets you isolate parts of the matching text, expanding those\n",
    "capabilites to create a parser. \n",
    "'''"
   ]
  },
  {
   "cell_type": "code",
   "execution_count": 2,
   "metadata": {
    "collapsed": false
   },
   "outputs": [
    {
     "name": "stdout",
     "output_type": "stream",
     "text": [
      "['Barack Obama', ' Michelle Obama', ' Joe Biden', ' Jill Biden']\n",
      "Barack Obama\n",
      "Barack \n",
      " Michelle Obama\n",
      " Michelle \n"
     ]
    }
   ],
   "source": [
    "import re\n",
    "\n",
    "strval1 = 'Barack Obama, Michelle Obama, Joe Biden, Jill Biden'\n",
    "list1 = strval1.split(',')\n",
    "print list1\n",
    "\n",
    "for items in list1:\n",
    "    firstname = re.match(r'(.*)Obama',items)\n",
    "    if firstname:\n",
    "        print firstname.group(0) \n",
    "        # returns every element in the list that has Obama in it\n",
    "        print firstname.group(1) \n",
    "        # returns first name of the element in the list that has Obama in it"
   ]
  },
  {
   "cell_type": "code",
   "execution_count": 4,
   "metadata": {
    "collapsed": false
   },
   "outputs": [
    {
     "name": "stdout",
     "output_type": "stream",
     "text": [
      "[' Francisco', ' Jose', ' Carlos']\n"
     ]
    }
   ],
   "source": [
    "strval = 'San Francisco, San Jose, San Carlos, Sunnyvale, Cupertino'\n",
    "strval_list = strval.strip().split(',') # converting strval into a list\n",
    "\n",
    "b = []\n",
    "for items in strval_list:\n",
    "    allnames = re.match(r'San(.*)', items.strip()) \n",
    "    # returns a subset of the list which starts with San \n",
    "    if allnames:\n",
    "        b.append(allnames.group(1))\n",
    "print b"
   ]
  },
  {
   "cell_type": "code",
   "execution_count": 3,
   "metadata": {
    "collapsed": false
   },
   "outputs": [
    {
     "data": {
      "text/plain": [
       "['San', 'San', 'San']"
      ]
     },
     "execution_count": 3,
     "metadata": {},
     "output_type": "execute_result"
    }
   ],
   "source": [
    "# re.compile() function is used to compile pattern into pattern objects, \n",
    "# which have methods for various operations such as searching for pattern \n",
    "# matches or performing string substitutions. \n",
    "# syntax re.compile(pattern)\n",
    "strval = 'San Francisco, San Jose, San Carlos, Sunnyvale, Cupertino'\n",
    "rec = re.compile('San')\n",
    "re.findall(rec,strval)"
   ]
  },
  {
   "cell_type": "code",
   "execution_count": null,
   "metadata": {
    "collapsed": false
   },
   "outputs": [],
   "source": [
    "# Returns an iterator\n",
    "for items in re.finditer(rec,strval):\n",
    "    print items"
   ]
  },
  {
   "cell_type": "code",
   "execution_count": null,
   "metadata": {
    "collapsed": false
   },
   "outputs": [],
   "source": [
    "# Returns an iterator\n",
    "for items in re.finditer(rec,strval):\n",
    "    print items.start(),items.end()    "
   ]
  },
  {
   "cell_type": "code",
   "execution_count": null,
   "metadata": {
    "collapsed": false
   },
   "outputs": [],
   "source": [
    "# First method to find and replace \n",
    "# The replace() function will replace substrings\n",
    "# syntax input_text.replace('pattern', 'replacement') \n",
    "a = strval.replace('San','S.')\n",
    "print strval\n",
    "print a"
   ]
  },
  {
   "cell_type": "code",
   "execution_count": null,
   "metadata": {
    "collapsed": false
   },
   "outputs": [],
   "source": [
    "# Second method to find and replace\n",
    "# The re.sub() function can be used to replace substrings\n",
    "# syntax re.sub(pattern,replacement,string) \n",
    "strval1 = re.sub('San','S.',strval)\n",
    "print strval1"
   ]
  },
  {
   "cell_type": "code",
   "execution_count": 4,
   "metadata": {
    "collapsed": false
   },
   "outputs": [
    {
     "name": "stdout",
     "output_type": "stream",
     "text": [
      "It's a dog\n",
      "\n",
      "It\\'s a dog\\n\n"
     ]
    }
   ],
   "source": [
    "t = 'It\\'s a dog\\n'\n",
    "print t\n",
    "\n",
    "t = r'It\\'s a dog\\n'\n",
    "print t"
   ]
  },
  {
   "cell_type": "code",
   "execution_count": null,
   "metadata": {
    "collapsed": false
   },
   "outputs": [],
   "source": [
    "'''\n",
    "\\w - Matches characters from A-Z, a-z, 0-9 or _ also writen as A-Za-z0-9_\n",
    "\\W - Matches nonword characters.\n",
    "\\s - Matches whitespace. Equivalent to [ \\t\\n\\r\\f].\n",
    "\\S - Matches nonwhitespace.\n",
    "\\d - Matches digits. Equivalent to [0-9].\n",
    "\\D - Matches nondigits.\n",
    "^ start of string, or line\n",
    "'''"
   ]
  },
  {
   "cell_type": "code",
   "execution_count": 5,
   "metadata": {
    "collapsed": false
   },
   "outputs": [
    {
     "name": "stdout",
     "output_type": "stream",
     "text": [
      "Please, enter your email: fernando@gigamon.com\n",
      "you entered a valid email\n"
     ]
    }
   ],
   "source": [
    "# in this example we want to make sure that the user enters valid email address\n",
    "import re\n",
    "\n",
    "#phone_check = re.compile(r\"\\d\")\n",
    "ymail_check = re.compile(r'[\\w.-]+@[\\w.-]+')\n",
    "while True:\n",
    "    ymail = raw_input (\"Please, enter your email: \")\n",
    "    if ymail_check.search(ymail):\n",
    "        print 'you entered a valid email'\n",
    "        break\n",
    "    else:\n",
    "        print \"Please enter your email correctly!\""
   ]
  },
  {
   "cell_type": "code",
   "execution_count": null,
   "metadata": {
    "collapsed": false
   },
   "outputs": [],
   "source": [
    "# The re.search() method takes a regular expression pattern and a string and\n",
    "# searches for that pattern within the string. \n",
    "# The syntax is re.search(pattern, string)\n",
    "import re\n",
    "name = 'Roosovelt, Eleanor'\n",
    "a = re.search('(\\w+), (\\w+)',name)\n",
    "# (\\w+) matches multiple occurrances of A-Za-z0-9_\n",
    "print a.group(0)\n",
    "print a.group(1)\n",
    "print a.group(2)"
   ]
  },
  {
   "cell_type": "code",
   "execution_count": 29,
   "metadata": {
    "collapsed": false
   },
   "outputs": [
    {
     "name": "stdout",
     "output_type": "stream",
     "text": [
      "Name of the param: IfInOctets\n",
      "Counter: 12222\n",
      "Name of the param: IfInUcastPkts\n",
      "Counter: 333\n",
      "Name of the param: IfInNUcastPkts\n",
      "Counter: 45\n"
     ]
    }
   ],
   "source": [
    "import re\n",
    "cli_out = '''\n",
    "        Counter Name    Port. 10/6/q1\n",
    "  ================== ================\n",
    "         IfInOctets:            12222\n",
    "      IfInUcastPkts:              333\n",
    "     IfInNUcastPkts:               45\n",
    "'''\n",
    "for line in cli_out.splitlines():\n",
    "    if ':' in line:\n",
    "        param = re.search('\\s+(.*):\\s+(.*)', line)\n",
    "        print 'Name of the param:',param.group(1)\n",
    "        print 'Counter:',param.group(2)"
   ]
  },
  {
   "cell_type": "code",
   "execution_count": 31,
   "metadata": {
    "collapsed": false
   },
   "outputs": [
    {
     "name": "stdout",
     "output_type": "stream",
     "text": [
      "1458160978.38 and 1458161008.38\n"
     ]
    }
   ],
   "source": [
    "import time\n",
    "\n",
    "print time.time(),'and',time.time()+30\n",
    "\n"
   ]
  },
  {
   "cell_type": "code",
   "execution_count": 10,
   "metadata": {
    "collapsed": false
   },
   "outputs": [
    {
     "name": "stdout",
     "output_type": "stream",
     "text": [
      "Roosovelt, Eleanor\n",
      "Roosovelt\n",
      "Eleanor\n"
     ]
    }
   ],
   "source": [
    "name = 'Roosovelt, Eleanor'\n",
    "a = re.search('(?P<lastname>\\w+), (?P<firstname>\\w+)',name)\n",
    "# ?P<lastname>\\w+ finds pattern that has characters A-Za-z0-9_ and assigns it to \n",
    "# lastname\n",
    "print a.group(0)\n",
    "print a.group('lastname')\n",
    "print a.group('firstname')"
   ]
  },
  {
   "cell_type": "code",
   "execution_count": null,
   "metadata": {
    "collapsed": false
   },
   "outputs": [],
   "source": [
    "# There is only one space after , What happens if there is more?\n",
    "strval = 'Elizabeth Warren, 65'\n",
    "a = re.search('(?P<firstname>\\w+) (?P<lastname>\\w+, (?P<age>\\d+))',strval)\n",
    "print a.group(1)\n",
    "#print a.group('age')"
   ]
  },
  {
   "cell_type": "code",
   "execution_count": null,
   "metadata": {
    "collapsed": false
   },
   "outputs": [],
   "source": [
    "strval = 'Elizabeth Warren,           65'\n",
    "a = re.search('(?P<firstname>\\w+) (?P<lastname>\\w+, \\s+(?P<age>\\d+))',strval)\n",
    "print a#.group(0)\n",
    "print a.group('age')"
   ]
  },
  {
   "cell_type": "code",
   "execution_count": null,
   "metadata": {
    "collapsed": false
   },
   "outputs": [],
   "source": [
    "'''\n",
    "In-class activity: In the below paragraph, find the number of occurances of words - of, the \n",
    "and food.\n",
    "\n",
    "Coral reefs are some of the most biologically rich and economically valuable ecosystems on \n",
    "Earth. They provide food, jobs, income, and protection to billions of people worldwide. \n",
    "However, coral reefs and the magnificent creatures that call them home are in danger \n",
    "of disappearing if actions are not taken to protect them. They are threatened by an \n",
    "increasing range of impacts including pollution, invasive species, diseases, bleaching, \n",
    "and global climate change. The rapid decline and loss of these valuable, ancient, \n",
    "and complex ecosystems have significant social, economic, and \n",
    "environmental consequences in the United States and around the world.\n",
    "'''"
   ]
  },
  {
   "cell_type": "code",
   "execution_count": 17,
   "metadata": {
    "collapsed": false
   },
   "outputs": [
    {
     "name": "stdout",
     "output_type": "stream",
     "text": [
      "\n",
      "Python is an interpreted, object-oriented, high-level programming language \n",
      "with dynamic semantics. Its high-level built in data structures, combined with dynamic \n",
      "typing and dynamic binding, make it very attractive for Rapid Application Development, \n",
      "as well as for use as a scripting or glue language to connect existing components together. \n",
      "Python's simple, easy to learn syntax emphasizes readability and therefore reduces the \n",
      "cost of program maintenance. Python supports modules and packages, which encourages \n",
      "program modularity and code reuse. The Python interpreter and the extensive standard \n",
      "library are available in source or binary form without charge for all major \n",
      "platforms, and can be freely distributed.\n"
     ]
    }
   ],
   "source": [
    "import re\n",
    "\n",
    "dict_typos = {'tping': 'typing', 'componts': 'components', 'programy': 'program', 'binare': 'binary'}\n",
    "correct_text = ''\n",
    "all_text = '''Python is an interpreted, object-oriented, high-level programming language \n",
    "with dynamic semantics. Its high-level built in data structures, combined with dynamic \n",
    "tping and dynamic binding, make it very attractive for Rapid Application Development, \n",
    "as well as for use as a scripting or glue language to connect existing componts together. \n",
    "Python's simple, easy to learn syntax emphasizes readability and therefore reduces the \n",
    "cost of program maintenance. Python supports modules and packages, which encourages \n",
    "programy modularity and code reuse. The Python interpreter and the extensive standard \n",
    "library are available in source or binare form without charge for all major \n",
    "platforms, and can be freely distributed.'''\n",
    "\n",
    "for keys,values in dict_typos.iteritems():\n",
    "    all_text = re.sub(keys, values, all_text)\n",
    "\n",
    "print all_text\n"
   ]
  },
  {
   "cell_type": "code",
   "execution_count": null,
   "metadata": {
    "collapsed": false
   },
   "outputs": [],
   "source": [
    "'''\n",
    "In-class activity: \n",
    "In the below paragraph, there are typos. The spelling mistakes are in the \n",
    "words: tping, componts, programy and binare. Create a dictionary with the key being the \n",
    "incorrect word and the value is the correct word. Then replace the incorrect word \n",
    "with the correct word and print the corrected text.\n",
    "\n",
    "'''\n",
    "\n",
    "myText = Python is an interpreted, object-oriented, high-level programming language \n",
    "with dynamic semantics. Its high-level built in data structures, combined with dynamic \n",
    "tping and dynamic binding, make it very attractive for Rapid Application Development, \n",
    "as well as for use as a scripting or glue language to connect existing componts together. \n",
    "Python's simple, easy to learn syntax emphasizes readability and therefore reduces the \n",
    "cost of program maintenance. Python supports modules and packages, which encourages \n",
    "programy modularity and code reuse. The Python interpreter and the extensive standard \n",
    "library are available in source or binare form without charge for all major \n",
    "platforms, and can be freely distributed.\n",
    "'''"
   ]
  }
 ],
 "metadata": {
  "kernelspec": {
   "display_name": "Python 2",
   "language": "python",
   "name": "python2"
  },
  "language_info": {
   "codemirror_mode": {
    "name": "ipython",
    "version": 2
   },
   "file_extension": ".py",
   "mimetype": "text/x-python",
   "name": "python",
   "nbconvert_exporter": "python",
   "pygments_lexer": "ipython2",
   "version": "2.7.11"
  }
 },
 "nbformat": 4,
 "nbformat_minor": 0
}
