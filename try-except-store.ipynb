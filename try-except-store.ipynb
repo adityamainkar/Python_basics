{
 "cells": [
  {
   "cell_type": "code",
   "execution_count": null,
   "metadata": {
    "collapsed": false
   },
   "outputs": [],
   "source": [
    "'''\n",
    "Error checks and other storing methods\n",
    "1. try-except example of integer divison by zero \n",
    "2. Pickle\n",
    "3. Shelve \n",
    "'''"
   ]
  },
  {
   "cell_type": "code",
   "execution_count": null,
   "metadata": {
    "collapsed": false
   },
   "outputs": [],
   "source": [
    "'''\n",
    "An exception is raised when a program has an error. Error handling is used to take care of \n",
    "exceptions so that when there is no exception then the program runs smoothly and in case \n",
    "of an error, the error handler can fix the problem or handle it so that the program can \n",
    "be continued. \n",
    "\n",
    "TRY-EXCEPT is a construct that handles exceptions.\n",
    "\n",
    "http://www.python-course.eu/exception_handling.php\n",
    "\n",
    "List of Python error messages can be found at\n",
    "https://docs.python.org/2/library/exceptions.html\n",
    "'''"
   ]
  },
  {
   "cell_type": "code",
   "execution_count": null,
   "metadata": {
    "collapsed": false
   },
   "outputs": [],
   "source": [
    "a = 10\n",
    "b = 0\n",
    "c = a/b\n",
    "print c"
   ]
  },
  {
   "cell_type": "markdown",
   "metadata": {
    "collapsed": false
   },
   "source": [
    "try:\n",
    "    c = a/b\n",
    "except ZeroDivisionError:\n",
    "    c = a\n",
    "\n",
    "# Instead of quitting after encountering the ZeroDivisionError, in this case we are \n",
    "# assigning a new value to c so that the program can continue.\n",
    "print c\n",
    "    "
   ]
  },
  {
   "cell_type": "code",
   "execution_count": null,
   "metadata": {
    "collapsed": false
   },
   "outputs": [],
   "source": [
    "a = int('92384')\n",
    "print a, type(a)\n",
    "# since the string can't be converted to an int, ValueError exception is raised"
   ]
  },
  {
   "cell_type": "code",
   "execution_count": null,
   "metadata": {
    "collapsed": false
   },
   "outputs": [],
   "source": [
    "try:\n",
    "    a = int('92384g')\n",
    "    b = 0\n",
    "    c = a/b\n",
    "except:\n",
    "    print 'The error message is - Not a number.'\n",
    "    print 'The error message is - Cannot divide by zero.'"
   ]
  },
  {
   "cell_type": "code",
   "execution_count": null,
   "metadata": {
    "collapsed": false
   },
   "outputs": [],
   "source": [
    "try:\n",
    "    a = int('92384g')\n",
    "    b = 12\n",
    "    c = 0\n",
    "    d = b/c\n",
    "except ValueError as v:\n",
    "    print 'Not a number.  The error message is',v\n",
    "except ZeroDivisionError as z:\n",
    "    print 'Cannot divide by zero.  The error message is',z"
   ]
  },
  {
   "cell_type": "code",
   "execution_count": null,
   "metadata": {
    "collapsed": false
   },
   "outputs": [],
   "source": [
    "try:\n",
    "    a = int('92384g')\n",
    "except ValueError as v:\n",
    "    print 'Not a number.  The error message is',v\n",
    "    \n",
    "b = 12\n",
    "c = 0\n",
    "try:   \n",
    "    d = b/c\n",
    "except ZeroDivisionError as z:\n",
    "    print 'Cannot divide by zero.  The error message is',z"
   ]
  },
  {
   "cell_type": "code",
   "execution_count": null,
   "metadata": {
    "collapsed": false
   },
   "outputs": [],
   "source": [
    "'''\n",
    "try-except-else: the else clause has to placed after all the exceptions and else clause \n",
    "will be executed when the try clause doesn't raise any exceptions\n",
    "\n",
    "syntax\n",
    "\n",
    "try:\n",
    "    execute try statements\n",
    "    \n",
    "except exception1:\n",
    "    If there is exception1, then execute this block\n",
    "\n",
    "except exception2:\n",
    "    If there is exception2, then execute this block\n",
    "    \n",
    "else:\n",
    "    If there is no exception, then execute this block\n",
    "'''\n",
    "\n",
    "try:\n",
    "    a = int('92')\n",
    "except ValueError:\n",
    "    a = 10\n",
    "    print 'a is not a number. Gave a new value = ', a\n",
    "else:\n",
    "    print 'is a number'\n",
    "finally:\n",
    "    print \"i am all done\""
   ]
  },
  {
   "cell_type": "code",
   "execution_count": null,
   "metadata": {
    "collapsed": false
   },
   "outputs": [],
   "source": [
    "''' \n",
    "To enforce clean-up or termination clauses there is try-finally or try-except-finally. \n",
    "Finally clause will be executed no matter whether an exception occurs or not.\n",
    "\n",
    "syntax\n",
    "\n",
    "try:\n",
    "    execute statements\n",
    "    \n",
    "    if an exception occurs, then this may be skipped\n",
    "    \n",
    "except e1:\n",
    "    statement to execute if there is an exception\n",
    "    \n",
    "finally:\n",
    "    this will always be executed\n",
    "\n",
    "'''"
   ]
  },
  {
   "cell_type": "code",
   "execution_count": null,
   "metadata": {
    "collapsed": false
   },
   "outputs": [],
   "source": [
    "try:\n",
    "    f = open(\"test1.txt\",\"r\")\n",
    "    f.write(\"name, age, address\")\n",
    "    \n",
    "except IOError:\n",
    "    print \"File not found.\"\n",
    "    \n",
    "finally:\n",
    "    print \"There is no file by this name.\""
   ]
  },
  {
   "cell_type": "code",
   "execution_count": null,
   "metadata": {
    "collapsed": false
   },
   "outputs": [],
   "source": [
    "'''\n",
    "Note - the major difference between else clause and finally clause is that else clause \n",
    "will get executed only when no exceptions are raised. Whereas finally clause gets \n",
    "executed no matter whether an exception is raised or not. \n",
    "'''"
   ]
  },
  {
   "cell_type": "code",
   "execution_count": null,
   "metadata": {
    "collapsed": false
   },
   "outputs": [],
   "source": [
    "a = 10\n",
    "b = 0\n",
    "try:\n",
    "    c = a/b\n",
    "except ZeroDivisionError:\n",
    "    c = a\n",
    "finally:\n",
    "    print c"
   ]
  },
  {
   "cell_type": "code",
   "execution_count": null,
   "metadata": {
    "collapsed": false
   },
   "outputs": [],
   "source": [
    "#  Raising custom exceptions\n",
    "# Stored in one file\n",
    "class TooSmallError(Exception):\n",
    "    pass\n",
    "\n",
    "class TooLargeError(Exception):\n",
    "    pass\n",
    "\n",
    "def checkval(val,limit):\n",
    "    if val < limit:\n",
    "        raise TooSmallError\n",
    "    else:\n",
    "        raise TooLargeError\n",
    "        \n",
    "# Stored in another file\n",
    "limit = 100\n",
    "try:\n",
    "    a = 50\n",
    "    checkval(a,limit)\n",
    "except TooSmallError:\n",
    "    print \"Too Small\"\n",
    "except TooLargeError:\n",
    "    print \"Too Large\"    "
   ]
  },
  {
   "cell_type": "code",
   "execution_count": null,
   "metadata": {
    "collapsed": false
   },
   "outputs": [],
   "source": [
    "'''\n",
    "A pickle converts Python objects to bytes that can be stored or transmitted (not secure). \n",
    "The CPickle module implemented using C is faster than pickle that is implemented using \n",
    "Python. Pickle can handle unicode objects. A “shelf” is a persistent, dictionary-like \n",
    "object. Check out the following links to learn more \n",
    "https://freepythontips.wordpress.com/2013/08/02/what-is-pickle-in-python/\n",
    "'''"
   ]
  },
  {
   "cell_type": "code",
   "execution_count": null,
   "metadata": {
    "collapsed": false
   },
   "outputs": [],
   "source": [
    "try:\n",
    "    import cPickle as pickle\n",
    "except:\n",
    "    import pickle"
   ]
  },
  {
   "cell_type": "code",
   "execution_count": 8,
   "metadata": {
    "collapsed": false
   },
   "outputs": [
    {
     "name": "stdout",
     "output_type": "stream",
     "text": [
      "Read values are: [{'a': '1', 'c': 3, 'b': 2}]\n",
      "{'e': 5, 'd': 4}\n"
     ]
    }
   ],
   "source": [
    "mydict1 = [ { 'a':'1', 'b':2, 'c':3 } ]\n",
    "mydict2 = {'d':4,'e':5}\n",
    "\n",
    "f = open('pickle.ck','wb')\n",
    "pickle.dump(mydict1,f) # this command dumps mydict1 into the file pickle.ck\n",
    "pickle.dump(mydict2,f) # this command dumps mydict2 into the file pickle.ck\n",
    "f.close()\n",
    "\n",
    "f = open('pickle.ck','rb')\n",
    "newdict1 = pickle.load(f)\n",
    "newdict2 = pickle.load(f)\n",
    "f.close()\n",
    "\n",
    "print 'Read values are:',\n",
    "print newdict1\n",
    "print newdict2"
   ]
  },
  {
   "cell_type": "code",
   "execution_count": null,
   "metadata": {
    "collapsed": false
   },
   "outputs": [],
   "source": [
    "f = open('pickle.ck','rb')\n",
    "n1 = pickle.load(f)\n",
    "print n1\n",
    "n2 = pickle.load(f)\n",
    "print n2\n",
    "# We have read all the information that needs to be read.  This will \n",
    "# give an error \n",
    "#newdict3 = pickle.load(f) \n",
    "f.close()"
   ]
  },
  {
   "cell_type": "code",
   "execution_count": null,
   "metadata": {
    "collapsed": false
   },
   "outputs": [],
   "source": [
    "mytuple1 = (-2,4,10,)\n",
    "f = open('pickle.ck','wb')\n",
    "pickle.dump(mytuple1,f)"
   ]
  },
  {
   "cell_type": "code",
   "execution_count": null,
   "metadata": {
    "collapsed": false
   },
   "outputs": [],
   "source": [
    "f = open('pickle.ck','rb')\n",
    "new1 = pickle.load(f)\n",
    "print new1"
   ]
  },
  {
   "cell_type": "code",
   "execution_count": null,
   "metadata": {
    "collapsed": true
   },
   "outputs": [],
   "source": [
    "'''\n",
    "In-class activity on pickle - create a class called studentcourse. The \n",
    "class has to take the information: student name and year in college \n",
    "(freshman, sophomore, junior or senior). Then should get a list of \n",
    "courses that the student is enrolled in. Take two students info\n",
    "with two courses each. Now store the student name, year, \n",
    "courses in a pickle file.\n",
    "The open the pickle file and print the contents. \n",
    "'''"
   ]
  },
  {
   "cell_type": "code",
   "execution_count": 17,
   "metadata": {
    "collapsed": false
   },
   "outputs": [
    {
     "name": "stdout",
     "output_type": "stream",
     "text": [
      "<__main__.studentcourse instance at 0x000000000443D9C8>\n",
      "Initial info:\n",
      "Fernando\n",
      "Corina\n",
      "Mateo\n",
      "\n",
      "<__main__.studentcourse instance at 0x000000000443D788>\n",
      "Loaded info:\n",
      "Fernando senior\n",
      "Corina freshman\n",
      "Mateo junior\n"
     ]
    }
   ],
   "source": [
    "try:\n",
    "    import cPickle as pickle\n",
    "except:\n",
    "    import pickle\n",
    "    \n",
    "class studentcourse():\n",
    "    \n",
    "    def __init__(self,name,year):\n",
    "        self.name = name\n",
    "        self.year = year\n",
    "        \n",
    "St1 = studentcourse('Fernando','senior')\n",
    "St2 = studentcourse('Corina','freshman')\n",
    "St3 = studentcourse('Mateo','junior')\n",
    "\n",
    "print St1\n",
    "print 'Initial info:'\n",
    "print St1.name\n",
    "print St2.name\n",
    "print St3.name\n",
    "\n",
    "f = open('pickle.ck','wb')\n",
    "pickle.dump(St1,f)\n",
    "pickle.dump(St2,f)\n",
    "pickle.dump(St3,f)\n",
    "f.close()\n",
    "\n",
    "f = open('pickle.ck','rb')\n",
    "new1 = pickle.load(f)\n",
    "new2 = pickle.load(f)\n",
    "new3 = pickle.load(f)\n",
    "\n",
    "print\n",
    "print new1\n",
    "print 'Loaded info:'\n",
    "print new1.name,new1.year\n",
    "print new2.name,new2.year\n",
    "print new3.name,new3.year\n"
   ]
  },
  {
   "cell_type": "code",
   "execution_count": 18,
   "metadata": {
    "collapsed": false
   },
   "outputs": [
    {
     "data": {
      "text/plain": [
       "'\\nShelve module can be used to store and retrieve Python objects easily.\\nShelve uses anydbm to store the data. Check out the following link \\nfor more information.\\nhttp://pymotw.com/2/shelve/\\n'"
      ]
     },
     "execution_count": 18,
     "metadata": {},
     "output_type": "execute_result"
    }
   ],
   "source": [
    "'''\n",
    "Shelve module can be used to store and retrieve Python objects easily.\n",
    "Shelve uses anydbm to store the data. Check out the following link \n",
    "for more information.\n",
    "http://pymotw.com/2/shelve/\n",
    "'''"
   ]
  },
  {
   "cell_type": "code",
   "execution_count": 19,
   "metadata": {
    "collapsed": false
   },
   "outputs": [
    {
     "name": "stdout",
     "output_type": "stream",
     "text": [
      "{'second': ['apple', 'mango', 'pineapple'], 'first': {'a': '1', 'c': 3, 'b': 2}, 'firstdict': [{'a': '1', 'c': 3, 'b': 2}]}\n"
     ]
    }
   ],
   "source": [
    "import shelve\n",
    "mydict = { 'a':'1', 'b':2, 'c':3 }\n",
    "mylist = ['apple', 'mango', 'pineapple']\n",
    "s = shelve.open('fruit.sv') # opens the shelve\n",
    "try:\n",
    "    s['first'] = mydict\n",
    "    s['second'] = mylist\n",
    "finally:\n",
    "    print s\n",
    "    s.close()"
   ]
  },
  {
   "cell_type": "code",
   "execution_count": null,
   "metadata": {
    "collapsed": false
   },
   "outputs": [],
   "source": [
    "import shelve\n",
    "s = shelve.open('fruit.sv','r')\n",
    "try:\n",
    "    newdict = s['first']\n",
    "finally:\n",
    "    s.close()\n",
    "print newdict"
   ]
  },
  {
   "cell_type": "code",
   "execution_count": null,
   "metadata": {
    "collapsed": false
   },
   "outputs": [],
   "source": [
    "import shelve\n",
    "mydict = [ { 'a':'1', 'b':2, 'c':3 } ]\n",
    "# Write back uses in-memory cache. All items in cache are written to the shelve \n",
    "# when it is closed.\n",
    "s = shelve.open('fruit.sv',writeback=True)\n",
    "try:\n",
    "    s['firstdict'] = mydict\n",
    "finally:\n",
    "    s.close()"
   ]
  },
  {
   "cell_type": "code",
   "execution_count": null,
   "metadata": {
    "collapsed": false
   },
   "outputs": [],
   "source": [
    "import shelve\n",
    "s = shelve.open('fruit.sv')\n",
    "if 'second' in s: # we are checking if the key second exists\n",
    "    print s['second']"
   ]
  },
  {
   "cell_type": "code",
   "execution_count": null,
   "metadata": {
    "collapsed": false
   },
   "outputs": [],
   "source": [
    "import shelve\n",
    "s = shelve.open('fruit.sv')\n",
    "if 'firstdict' in s: # we are checking if the key firstdict exists\n",
    "    print s['firstdict']"
   ]
  },
  {
   "cell_type": "code",
   "execution_count": null,
   "metadata": {
    "collapsed": false
   },
   "outputs": [],
   "source": [
    "'''\n",
    "Note - the major difference between pickle and shelve is that pickle \n",
    "stores the objects one at a time and objects can only be retrieved in \n",
    "the order they were written. Whereas objects in shelve can be \n",
    "accessed in any order. \n",
    "'''"
   ]
  },
  {
   "cell_type": "code",
   "execution_count": null,
   "metadata": {
    "collapsed": false
   },
   "outputs": [],
   "source": [
    "'''\n",
    "In-class activity for custom exception\n",
    "\n",
    "You should ask user to input coefficients of a quadratic as a tuple. \n",
    "Then you check to see if the first coefficient is zero. If it is, \n",
    "then you should raise a custom exception. So you should write a \n",
    "custom exception class called CoeffZeroError. \n",
    "'''"
   ]
  }
 ],
 "metadata": {
  "kernelspec": {
   "display_name": "Python 2",
   "language": "python",
   "name": "python2"
  },
  "language_info": {
   "codemirror_mode": {
    "name": "ipython",
    "version": 2
   },
   "file_extension": ".py",
   "mimetype": "text/x-python",
   "name": "python",
   "nbconvert_exporter": "python",
   "pygments_lexer": "ipython2",
   "version": "2.7.10"
  }
 },
 "nbformat": 4,
 "nbformat_minor": 0
}
