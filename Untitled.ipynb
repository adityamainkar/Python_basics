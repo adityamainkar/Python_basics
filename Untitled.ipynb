{
 "cells": [
  {
   "cell_type": "code",
   "execution_count": 18,
   "metadata": {
    "collapsed": false
   },
   "outputs": [
    {
     "name": "stdout",
     "output_type": "stream",
     "text": [
      "List of all numbers from 0 to 100 that are multiple of 3 or 5 or 7:  [0, 3, 5, 6, 7, 9, 10, 12, 14, 15, 18, 20, 21, 24, 25, 27, 28, 30, 33, 35, 36, 39, 40, 42, 45, 48, 49, 50, 51, 54, 55, 56, 57, 60, 63, 65, 66, 69, 70, 72, 75, 77, 78, 80, 81, 84, 85, 87, 90, 91, 93, 95, 96, 98, 99]\n",
      "List of all numbers from 0 to 100 that are multiple of 3 or 5 or 7:  [0, 3, 5, 6, 7, 9, 10, 12, 14, 15, 18, 20, 21, 24, 25, 27, 28, 30, 33, 35, 36, 39, 40, 42, 45, 48, 49, 50, 51, 54, 55, 56, 57, 60, 63, 65, 66, 69, 70, 72, 75, 77, 78, 80, 81, 84, 85, 87, 90, 91, 93, 95, 96, 98, 99]\n",
      "4\n",
      "The closest place is d\n",
      "Please enter the principal amount: 100\n",
      "Please enter the interest rate: 0.5\n",
      "[156.25, 244.140625, 381.4697265625, 596.0464477539062, 931.3225746154785, 1455.1915228366852, 2273.7367544323206, 3552.713678800501, 5551.115123125783, 8673.617379884035, 13552.527156068805, 21175.82368135751, 33087.224502121106, 51698.78828456423, 80779.35669463161, 126217.7448353619, 197215.22630525293, 308148.79110195773, 481482.486096809, 752316.384526264]\n"
     ]
    }
   ],
   "source": [
    "## Homework1 ##\n",
    "\n",
    "# Question 1 - Without list comprehension\n",
    "\n",
    "list_of_mult = []\n",
    "for i in range(100):\n",
    "    if i % 3 == 0 or i % 5 == 0 or i % 7 == 0:\n",
    "        list_of_mult.append(i)\n",
    "print 'List of all numbers from 0 to 100 that are multiple of 3 or 5 or 7: ', list_of_mult\n",
    "\n",
    "# Question 1 - Using list comprehension\n",
    "\n",
    "list_of_mult = [i for i in range(100) if i % 3 == 0 or i % 5 == 0 or i % 7 == 0]\n",
    "print 'List of all numbers from 0 to 100 that are multiple of 3 or 5 or 7: ', list_of_mult\n",
    "\n",
    "# Question 2\n",
    "\n",
    "places_dic = {'a':10,'b':5,'c':20,'d':4}\n",
    "closest_place = ''\n",
    "min_dist = min(places_dic.values())\n",
    "print min_dist\n",
    "for keys in places_dic:\n",
    "    if places_dic[keys] == min_dist: closest_place = keys\n",
    "print 'The closest place is', closest_place\n",
    "\n",
    "# Question 3\n",
    "\n",
    "#A = P*(1+(r/n))^(n*t)\n",
    "\n",
    "P = float(raw_input('Please enter the principal amount: '))\n",
    "r = float(raw_input('Please enter the interest rate: '))\n",
    "n = 2\n",
    "list_of_A = []\n",
    "\n",
    "for t in range(1, 21):\n",
    "    A = P * (1+(r/n))**(n*t)\n",
    "    list_of_A.append(A)\n",
    "print list_of_A"
   ]
  },
  {
   "cell_type": "code",
   "execution_count": 10,
   "metadata": {
    "collapsed": false
   },
   "outputs": [
    {
     "name": "stdout",
     "output_type": "stream",
     "text": [
      "Please enter the principal amount: 100\n",
      "Please enter the interest rate: 3.5\n",
      "Compounded value (A) for a given number of years (t), (t, A):  [(1, 756.25), (2, 5719.140625), (3, 43251.0009765625), (4, 327085.6948852539), (5, 2473585.5675697327), (6, 18706490.854746103), (7, 141467837.0890174), (8, 1069850517.9856942), (9, 8090744542.266811), (10, 61186255600.89277), (11, 462721057981.7515), (12, 3499328000986.9956), (13, 26463668007464.156), (14, 200131489306447.7), (15, 1513494387880010.8), (16, 1.1445801308342582e+16), (17, 8.655887239434077e+16), (18, 6.54601472482202e+17), (19, 4.950423635646652e+18), (20, 3.743757874457781e+19)]\n"
     ]
    }
   ],
   "source": [
    "# Question 3\n",
    "\n",
    "#A = P*(1+(r/n))^(n*t)\n",
    "\n",
    "P = float(raw_input('Please enter the principal amount: '))\n",
    "r = float(raw_input('Please enter the interest rate: '))\n",
    "n = 2\n",
    "list_of_A = [(t,P * (1+(r/n))**(n*t)) for t in range(1, 21)] \n",
    "print 'Compounded value (A) for a given number of years (t), (t, A): ', list_of_A"
   ]
  },
  {
   "cell_type": "code",
   "execution_count": 19,
   "metadata": {
    "collapsed": false
   },
   "outputs": [
    {
     "name": "stdout",
     "output_type": "stream",
     "text": [
      "['Alejandro', 'Mateo', 'Fernando', 'Rafael']\n",
      "[29, 31, 31, 24]\n",
      "31\n",
      "\n",
      "29\n",
      "31\n",
      "31\n",
      "24\n",
      "\n",
      "50\n",
      "31\n",
      "31\n",
      "29\n",
      "57\n",
      "24\n"
     ]
    }
   ],
   "source": [
    "edades = {'Fernando':31, 'Alejandro':29, 'Rafael':24, 'Mateo':31}\n",
    "list_of_names = edades.keys()\n",
    "list_of_ages = edades.values()\n",
    "print list_of_names\n",
    "print list_of_ages\n",
    "print edades['Fernando']\n",
    "print\n",
    "for k in edades:\n",
    "    print edades[k]\n",
    "edades['manuel'] = 57\n",
    "edades['alicia'] = 50\n",
    "print\n",
    "for k in edades:\n",
    "    print edades[k]\n",
    "    \n",
    "    \n",
    "    \n",
    "   # print '%s tiene %d años' (edades.keys(), edades[keys])"
   ]
  },
  {
   "cell_type": "code",
   "execution_count": null,
   "metadata": {
    "collapsed": true
   },
   "outputs": [],
   "source": []
  }
 ],
 "metadata": {
  "kernelspec": {
   "display_name": "Python 2",
   "language": "python",
   "name": "python2"
  },
  "language_info": {
   "codemirror_mode": {
    "name": "ipython",
    "version": 2
   },
   "file_extension": ".py",
   "mimetype": "text/x-python",
   "name": "python",
   "nbconvert_exporter": "python",
   "pygments_lexer": "ipython2",
   "version": "2.7.10"
  }
 },
 "nbformat": 4,
 "nbformat_minor": 0
}
